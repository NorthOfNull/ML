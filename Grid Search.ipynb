{
 "cells": [
  {
   "cell_type": "code",
   "execution_count": 26,
   "metadata": {
    "ExecuteTime": {
     "end_time": "2020-04-04T20:15:50.600116Z",
     "start_time": "2020-04-04T20:15:50.574159Z"
    }
   },
   "outputs": [
    {
     "name": "stdout",
     "output_type": "stream",
     "text": [
      "DecisionTreeClassifier\n",
      "\tCombinations =  1408\n",
      "\tApprox grid search time = 21.74577777777778\n",
      "RandomForestClassifier\n",
      "\tCombinations =  3456\n",
      "\tApprox grid search time = 76.89599999999999\n",
      "AdaBoostClassifier\n",
      "\tCombinations =  840\n",
      "\tApprox grid search time = 182.44333333333333\n",
      "LinearSVC\n",
      "\tCombinations =  200\n",
      "\tApprox grid search time = 84.15555555555555\n",
      "KNeighborsClassifier\n",
      "\tCombinations =  2200\n",
      "\tApprox grid search time = 32060.05\n",
      "Fully Connected Dense Neural Network #1\n",
      "\tCombinations =  3025260\n",
      "\tApprox grid search time = 222692.75\n",
      "Fully Connected Dense Neural Network #2\n",
      "\tCombinations =  88942644000\n",
      "\tApprox grid search time = 22435781949.0\n"
     ]
    }
   ],
   "source": [
    "from sklearn.model_selection import ParameterGrid\n",
    "\n",
    "dtc_params = {'criterion':['gini', 'entropy'],\n",
    "              'splitter':['best', 'random'],\n",
    "              'min_samples_split':[2, 3, 4, 5],\n",
    "              'min_samples_leaf':[1, 2, 3, 4],\n",
    "              'min_weight_fraction_leaf':[0.00, 0.01, 0.02, 0.03, 0.04, 0.05, 0.06, 0.07, 0.08, 0.09, 0.10],\n",
    "              'class_weight':['balanced', None] }\n",
    "rfc_params = {'n_estimators':[10, 25, 50, 75, 100, 125, 150, 175, 200],\n",
    "              'criterion':['gini', 'entropy'],\n",
    "              'min_samples_split':[2, 3, 4, 5],\n",
    "              'min_samples_leaf':[1, 2, 3, 4],\n",
    "              'min_weight_fraction_leaf':[0.00, 0.02, 0.04, 0.06, 0.08, 0.10],\n",
    "              'class_weight':['balanced', None] }\n",
    "abc_params = {'n_estimators':[5, 10, 25, 50, 75, 100],\n",
    "              'learning_rate':[0.1, 0.2, 0.3, 0.4, 0.5, 0.6, 0.7, 0.8, 0.9, 1.0],\n",
    "              'algorithm':['SAMME', 'SAMME.R'],\n",
    "              'random_state':[1, 5, 10, 20, 30, 40, 50] }\n",
    "svc_params = {'loss':['hinge', 'squared_hinge'],\n",
    "              'tol':[0.00001, 0.00005, 0.00010, 0.00025, 0.00050, 0.00075, 0.001, 0.0025, 0.0050, 0.0075, 0.01, 0.02, 0.03, 0.04, 0.05, 0.06, 0.07, 0.08, 0.09, 0.1],\n",
    "              'c':[1, 2, 3, 4, 5] }\n",
    "knc_params = {'n_neighbors':[1, 2, 3, 4, 5, 6, 7, 8, 9, 10],\n",
    "              'weights':['uniform', 'distance'],\n",
    "              'algorithm':['ball_tree', 'kd_tree'],\n",
    "              'leaf_size':[1, 5, 10, 15, 20, 25, 30, 35, 40, 45, 50],\n",
    "              'p':[1, 2, 3, 4, 5] }\n",
    "nn1_params = {'epochs':[2, 3, 4, 5, 6, 7, 8, 9, 10],\n",
    "              'batch_size':[10, 25, 50, 75, 100, 200, 300, 400, 500, 600, 700, 800, 900, 1000],\n",
    "              'hidden_layers':[10, 25, 50, 75, 100, 200, 300, 400, 500, 600, 700, 800, 900, 1000],\n",
    "              'layers_activation':['softmax', 'selu', 'softplus', 'relu', 'tanh', 'sigmoid', 'linear'],\n",
    "              'output_activation':['softmax', 'selu', 'softplus', 'relu', 'tanh', 'sigmoid', 'linear'],\n",
    "              'loss_function':['mean_squared_error', 'mean_absolute_error', 'squared_hinge', 'categorical_crossentropy', 'binary_crossentropy'],\n",
    "              'optimiser_function':['SGD', 'RMSprop', 'adagrad', 'adadelta', 'adam', 'adamax', 'nadam'] }\n",
    "nn2_params = {'epochs':[2, 3, 4, 5, 6, 7, 8, 9, 10],\n",
    "              'batch_size':[10, 25, 50, 75, 100, 200, 300, 400, 500, 600, 700, 800, 900, 1000],\n",
    "              'hidden_layers':[10, 25, 50, 75, 100, 200, 300, 400, 500, 600, 700, 800, 900, 1000],\n",
    "              'layers_activation':['softmax', 'selu', 'softplus', 'relu', 'tanh', 'sigmoid', 'linear'],\n",
    "              'dropout_1':[0.1, 0.2, 0.3, 0.4, 0.5],\n",
    "              'hidden_layers_2':[10, 25, 50, 75, 100, 200, 300, 400, 500, 600, 700, 800, 900, 1000],\n",
    "              'input_dim_2':[2, 4, 6, 8, 10, 12, 14, 16, 18, 20, 22, 24],\n",
    "              'dropout_2':[0.1, 0.2, 0.3, 0.4, 0.5],\n",
    "              'layers_activation_2':['softmax', 'selu', 'softplus', 'relu', 'tanh', 'sigmoid', 'linear'],\n",
    "              'output_activation':['softmax', 'selu', 'softplus', 'relu', 'tanh', 'sigmoid', 'linear'],\n",
    "              'loss_function':['mean_squared_error', 'mean_absolute_error', 'squared_hinge', 'categorical_crossentropy', 'binary_crossentropy'],\n",
    "              'optimiser_function':['SGD', 'RMSprop', 'adagrad', 'adadelta', 'adam', 'adamax', 'nadam'] }    \n",
    "\n",
    "classifiers_time_params = [\n",
    "    [\"DecisionTreeClassifier\", 55.6, dtc_params],\n",
    "    [\"RandomForestClassifier\", 80.1, rfc_params],\n",
    "    [\"AdaBoostClassifier\", 781.9, abc_params],\n",
    "    [\"LinearSVC\", 1514.8, svc_params],\n",
    "    [\"KNeighborsClassifier\", 52461.9, knc_params],\n",
    "    [\"Fully Connected Dense Neural Network #1\", 265.0, nn1_params],\n",
    "    [\"Fully Connected Dense Neural Network #2\", 908.1, nn2_params]\n",
    "]\n",
    "\n",
    "for classifier in classifiers_time_params: \n",
    "    # Parameter grid init\n",
    "    param_grid = ParameterGrid(classifier[2])\n",
    "    \n",
    "    # Combinations of param_grid\n",
    "    combinations = len(param_grid)\n",
    "    \n",
    "    # Approx total grid search fit time calculation on the largest dataset's fit time with default hyperparameters\n",
    "    largest_dataset_fit_time = classifier[1]\n",
    "    total_search_time = (largest_dataset_fit_time * combinations) / 3600 #hours\n",
    "    \n",
    "    print(classifier[0])\n",
    "    print(\"\\tCombinations = \", combinations)\n",
    "    print(\"\\tApprox grid search time =\", total_search_time)"
   ]
  },
  {
   "cell_type": "code",
   "execution_count": 13,
   "metadata": {
    "ExecuteTime": {
     "end_time": "2020-04-04T19:53:46.529659Z",
     "start_time": "2020-04-04T19:53:46.510710Z"
    }
   },
   "outputs": [],
   "source": [
    "dtc_params = {'criterion':['gini', 'entropy'],\n",
    "              'splitter':['best', 'random'],\n",
    "              'min_samples_split':[2, 3, 4, 5],\n",
    "              'min_samples_leaf':[1, 2, 3, 4],\n",
    "              'min_weight_fraction_leaf':[0.00, 0.02, 0.04, 0.06, 0.08, 0.10],\n",
    "              'class_weight':['balanced', None] }\n",
    "rfc_params = {'n_estimators':[10, 25, 50, 75, 100, 125, 150, 175, 200],\n",
    "              'criterion':['gini', 'entropy'],\n",
    "              'min_samples_split':[2, 3, 4, 5],\n",
    "              'min_samples_leaf':[1, 2, 3, 4],\n",
    "              'min_weight_fraction_leaf':[0.00, 0.02, 0.04, 0.06, 0.08, 0.10],\n",
    "              'class_weight':['balanced', None] }\n",
    "abc_params = {'n_estimators':[5, 10, 25, 50, 75, 100],\n",
    "              'learning_rate':[0.1, 0.2, 0.3, 0.4, 0.5, 0.6, 0.7, 0.8, 0.9, 1.0],\n",
    "              'algorithm':['SAMME', 'SAMME.R'],\n",
    "              'random_state':[1, 5, 10, 20, 30, 40, 50] }\n",
    "svc_params = {'loss':['hinge', 'squared_hinge'],\n",
    "              'tol':[0.00001, 0.00010, 0.00100, 0.00500, 0.01000, 0.02500, 0.05000, 0.07500, 0.1],\n",
    "              'c':[1, 2, 3, 4, 5] }\n",
    "knc_params = {'n_neighbors':[1, 2, 3, 4, 5, 6, 7, 8, 9, 10],\n",
    "              'weights':['uniform', 'distance'],\n",
    "              'algorithm':['ball_tree', 'kd_tree'],\n",
    "              'leaf_size':[1, 5, 10, 15, 20, 25, 30, 35, 40, 45, 50],\n",
    "              'p':[1, 2, 3, 4, 5] }\n",
    "nn1_params = {'epochs':[2, 3, 4, 5, 6, 7, 8, 9, 10],\n",
    "              'batch_size':[10, 25, 50, 75, 100, 200, 300, 400, 500, 600, 700, 800, 900, 1000],\n",
    "              'hidden_layers':[10, 25, 50, 75, 100, 200, 300, 400, 500, 600, 700, 800, 900, 1000],\n",
    "              'layers_activation':['softmax', 'selu', 'softplus', 'relu', 'tanh', 'sigmoid', 'linear'],\n",
    "              'output_activation':['softmax', 'selu', 'softplus', 'relu', 'tanh', 'sigmoid', 'linear'],\n",
    "              'loss_function':['mean_squared_error', 'mean_absolute_error', 'squared_hinge', 'categorical_crossentropy', 'binary_crossentropy'],\n",
    "              'optimiser_function':['SGD', 'RMSprop', 'adagrad', 'adadelta', 'adam', 'adamax', 'nadam'] }\n",
    "nn2_params = {'epochs':[2, 3, 4, 5, 6, 7, 8, 9, 10],\n",
    "              'batch_size':[10, 25, 50, 75, 100, 200, 300, 400, 500, 600, 700, 800, 900, 1000],\n",
    "              'hidden_layers':[10, 25, 50, 75, 100, 200, 300, 400, 500, 600, 700, 800, 900, 1000],\n",
    "              'layers_activation':['softmax', 'selu', 'softplus', 'relu', 'tanh', 'sigmoid', 'linear'],\n",
    "              'dropout_1':[0.1, 0.2, 0.3, 0.4, 0.5],\n",
    "              'hidden_layers_2':[10, 25, 50, 75, 100, 200, 300, 400, 500, 600, 700, 800, 900, 1000],\n",
    "              'input_dim_2':[2, 4, 6, 8, 10, 12, 14, 16, 18, 20, 22, 24],\n",
    "              'dropout_2':[0.1, 0.2, 0.3, 0.4, 0.5],\n",
    "              'layers_activation_2':['softmax', 'selu', 'softplus', 'relu', 'tanh', 'sigmoid', 'linear'],\n",
    "              'output_activation':['softmax', 'selu', 'softplus', 'relu', 'tanh', 'sigmoid', 'linear'],\n",
    "              'loss_function':['mean_squared_error', 'mean_absolute_error', 'squared_hinge', 'categorical_crossentropy', 'binary_crossentropy'],\n",
    "              'optimiser_function':['SGD', 'RMSprop', 'adagrad', 'adadelta', 'adam', 'adamax', 'nadam'] }    \n",
    "\n",
    "classifiers_time_params = [\n",
    "    [\"DecisionTreeClassifier\", 10.8, dtc_params],\n",
    "    [\"RandomForestClassifier\", 22.2, rfc_params],\n",
    "    [\"AdaBoostClassifier\", 228.2, abc_params],\n",
    "    [\"LinearSVC\", 565, svc_params],\n",
    "    [\"KNeighborsClassifier\", 10283.7, knc_params],\n",
    "    [\"Fully Connected Dense Neural Network #1\", 85.8, nn1_params],\n",
    "    [\"Fully Connected Dense Neural Network #2\", 266.6, nn2_params]\n",
    "]"
   ]
  },
  {
   "cell_type": "code",
   "execution_count": 11,
   "metadata": {
    "ExecuteTime": {
     "end_time": "2020-04-04T19:47:13.646267Z",
     "start_time": "2020-04-04T19:47:13.641307Z"
    }
   },
   "outputs": [
    {
     "ename": "SyntaxError",
     "evalue": "invalid syntax (<ipython-input-11-932b8ef2190f>, line 2)",
     "output_type": "error",
     "traceback": [
      "\u001b[1;36m  File \u001b[1;32m\"<ipython-input-11-932b8ef2190f>\"\u001b[1;36m, line \u001b[1;32m2\u001b[0m\n\u001b[1;33m    'criterion':['gini', 'entropy'],\u001b[0m\n\u001b[1;37m               ^\u001b[0m\n\u001b[1;31mSyntaxError\u001b[0m\u001b[1;31m:\u001b[0m invalid syntax\n"
     ]
    }
   ],
   "source": [
    "param_grid=\n",
    "            'criterion':['gini', 'entropy'],\n",
    "            'splitter':['best', 'random'],\n",
    "            'min_samples_split':[2, 3, 4, 5],\n",
    "            'min_samples_leaf':[1, 2, 3, 4],\n",
    "            'min_weight_fraction_leaf':[0.00, 0.02, 0.04, 0.06, 0.08, 0.10],\n",
    "            'class_weight':['balanced', None]\n",
    "        }\n",
    "\n",
    "test = [param_grid, 1\n",
    "       ]"
   ]
  },
  {
   "cell_type": "code",
   "execution_count": null,
   "metadata": {},
   "outputs": [],
   "source": []
  }
 ],
 "metadata": {
  "kernelspec": {
   "display_name": "Python 3",
   "language": "python",
   "name": "python3"
  },
  "language_info": {
   "codemirror_mode": {
    "name": "ipython",
    "version": 3
   },
   "file_extension": ".py",
   "mimetype": "text/x-python",
   "name": "python",
   "nbconvert_exporter": "python",
   "pygments_lexer": "ipython3",
   "version": "3.7.4"
  }
 },
 "nbformat": 4,
 "nbformat_minor": 2
}

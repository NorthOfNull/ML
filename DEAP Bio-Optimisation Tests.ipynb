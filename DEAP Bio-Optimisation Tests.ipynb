{
 "cells": [
  {
   "cell_type": "code",
   "execution_count": null,
   "metadata": {},
   "outputs": [],
   "source": [
    "https://www.linkedin.com/pulse/hyper-parameter-optimisation-using-genetic-algorithms-conor-rothwell"
   ]
  },
  {
   "cell_type": "code",
   "execution_count": 1,
   "metadata": {
    "ExecuteTime": {
     "end_time": "2020-01-16T10:32:29.259993Z",
     "start_time": "2020-01-16T10:25:21.877849Z"
    },
    "scrolled": false
   },
   "outputs": [
    {
     "name": "stdout",
     "output_type": "stream",
     "text": [
      "f1_score =  0.5120032990662465\n"
     ]
    },
    {
     "name": "stderr",
     "output_type": "stream",
     "text": [
      "c:\\users\\asmarus\\anaconda3\\envs\\tensorflow-gpu\\lib\\site-packages\\sklearn\\metrics\\_classification.py:1272: UndefinedMetricWarning: Precision is ill-defined and being set to 0.0 due to no predicted samples. Use `zero_division` parameter to control this behavior.\n",
      "  _warn_prf(average, modifier, msg_start, len(result))\n",
      "G:\\USB Drive Files\\Year 3\\Semester 1\\KV6003 - Individual Computing Project\\Machine Learning\\kf_ml_lib.py:91: RuntimeWarning: invalid value encountered in double_scalars\n",
      "  f1_score = 2 * ((precision*recall) / (precision+recall))\n"
     ]
    },
    {
     "name": "stdout",
     "output_type": "stream",
     "text": [
      "f1_score =  nan\n",
      "f1_score =  0.6386312324891874\n",
      "f1_score =  0.5120032990662465\n",
      "f1_score =  0.5120032990662465\n"
     ]
    },
    {
     "name": "stderr",
     "output_type": "stream",
     "text": [
      "c:\\users\\asmarus\\anaconda3\\envs\\tensorflow-gpu\\lib\\site-packages\\sklearn\\metrics\\_classification.py:1272: UndefinedMetricWarning: Precision is ill-defined and being set to 0.0 due to no predicted samples. Use `zero_division` parameter to control this behavior.\n",
      "  _warn_prf(average, modifier, msg_start, len(result))\n",
      "G:\\USB Drive Files\\Year 3\\Semester 1\\KV6003 - Individual Computing Project\\Machine Learning\\kf_ml_lib.py:91: RuntimeWarning: invalid value encountered in double_scalars\n",
      "  f1_score = 2 * ((precision*recall) / (precision+recall))\n"
     ]
    },
    {
     "name": "stdout",
     "output_type": "stream",
     "text": [
      "f1_score =  nan\n"
     ]
    },
    {
     "name": "stderr",
     "output_type": "stream",
     "text": [
      "c:\\users\\asmarus\\anaconda3\\envs\\tensorflow-gpu\\lib\\site-packages\\sklearn\\metrics\\_classification.py:1272: UndefinedMetricWarning: Precision is ill-defined and being set to 0.0 due to no predicted samples. Use `zero_division` parameter to control this behavior.\n",
      "  _warn_prf(average, modifier, msg_start, len(result))\n",
      "G:\\USB Drive Files\\Year 3\\Semester 1\\KV6003 - Individual Computing Project\\Machine Learning\\kf_ml_lib.py:91: RuntimeWarning: invalid value encountered in double_scalars\n",
      "  f1_score = 2 * ((precision*recall) / (precision+recall))\n"
     ]
    },
    {
     "name": "stdout",
     "output_type": "stream",
     "text": [
      "f1_score =  nan\n"
     ]
    },
    {
     "name": "stderr",
     "output_type": "stream",
     "text": [
      "c:\\users\\asmarus\\anaconda3\\envs\\tensorflow-gpu\\lib\\site-packages\\sklearn\\metrics\\_classification.py:1272: UndefinedMetricWarning: Precision is ill-defined and being set to 0.0 due to no predicted samples. Use `zero_division` parameter to control this behavior.\n",
      "  _warn_prf(average, modifier, msg_start, len(result))\n",
      "G:\\USB Drive Files\\Year 3\\Semester 1\\KV6003 - Individual Computing Project\\Machine Learning\\kf_ml_lib.py:91: RuntimeWarning: invalid value encountered in double_scalars\n",
      "  f1_score = 2 * ((precision*recall) / (precision+recall))\n"
     ]
    },
    {
     "name": "stdout",
     "output_type": "stream",
     "text": [
      "f1_score =  nan\n"
     ]
    },
    {
     "name": "stderr",
     "output_type": "stream",
     "text": [
      "c:\\users\\asmarus\\anaconda3\\envs\\tensorflow-gpu\\lib\\site-packages\\sklearn\\metrics\\_classification.py:1272: UndefinedMetricWarning: Precision is ill-defined and being set to 0.0 due to no predicted samples. Use `zero_division` parameter to control this behavior.\n",
      "  _warn_prf(average, modifier, msg_start, len(result))\n",
      "G:\\USB Drive Files\\Year 3\\Semester 1\\KV6003 - Individual Computing Project\\Machine Learning\\kf_ml_lib.py:91: RuntimeWarning: invalid value encountered in double_scalars\n",
      "  f1_score = 2 * ((precision*recall) / (precision+recall))\n"
     ]
    },
    {
     "name": "stdout",
     "output_type": "stream",
     "text": [
      "f1_score =  nan\n"
     ]
    },
    {
     "name": "stderr",
     "output_type": "stream",
     "text": [
      "c:\\users\\asmarus\\anaconda3\\envs\\tensorflow-gpu\\lib\\site-packages\\sklearn\\metrics\\_classification.py:1272: UndefinedMetricWarning: Precision is ill-defined and being set to 0.0 due to no predicted samples. Use `zero_division` parameter to control this behavior.\n",
      "  _warn_prf(average, modifier, msg_start, len(result))\n",
      "G:\\USB Drive Files\\Year 3\\Semester 1\\KV6003 - Individual Computing Project\\Machine Learning\\kf_ml_lib.py:91: RuntimeWarning: invalid value encountered in double_scalars\n",
      "  f1_score = 2 * ((precision*recall) / (precision+recall))\n"
     ]
    },
    {
     "name": "stdout",
     "output_type": "stream",
     "text": [
      "f1_score =  nan\n",
      "gen\tnevals\tavg\tstd\tmin\tmax\n",
      "0  \t10    \tnan\tnan\tnan\tnan\n",
      "f1_score =  0.5120032990662465\n"
     ]
    },
    {
     "name": "stderr",
     "output_type": "stream",
     "text": [
      "c:\\users\\asmarus\\anaconda3\\envs\\tensorflow-gpu\\lib\\site-packages\\sklearn\\metrics\\_classification.py:1272: UndefinedMetricWarning: Precision is ill-defined and being set to 0.0 due to no predicted samples. Use `zero_division` parameter to control this behavior.\n",
      "  _warn_prf(average, modifier, msg_start, len(result))\n",
      "G:\\USB Drive Files\\Year 3\\Semester 1\\KV6003 - Individual Computing Project\\Machine Learning\\kf_ml_lib.py:91: RuntimeWarning: invalid value encountered in double_scalars\n",
      "  f1_score = 2 * ((precision*recall) / (precision+recall))\n"
     ]
    },
    {
     "name": "stdout",
     "output_type": "stream",
     "text": [
      "f1_score =  nan\n",
      "f1_score =  0.6544344329436295\n"
     ]
    },
    {
     "name": "stderr",
     "output_type": "stream",
     "text": [
      "c:\\users\\asmarus\\anaconda3\\envs\\tensorflow-gpu\\lib\\site-packages\\sklearn\\metrics\\_classification.py:1272: UndefinedMetricWarning: Precision is ill-defined and being set to 0.0 due to no predicted samples. Use `zero_division` parameter to control this behavior.\n",
      "  _warn_prf(average, modifier, msg_start, len(result))\n",
      "G:\\USB Drive Files\\Year 3\\Semester 1\\KV6003 - Individual Computing Project\\Machine Learning\\kf_ml_lib.py:91: RuntimeWarning: invalid value encountered in double_scalars\n",
      "  f1_score = 2 * ((precision*recall) / (precision+recall))\n"
     ]
    },
    {
     "name": "stdout",
     "output_type": "stream",
     "text": [
      "f1_score =  nan\n"
     ]
    },
    {
     "name": "stderr",
     "output_type": "stream",
     "text": [
      "c:\\users\\asmarus\\anaconda3\\envs\\tensorflow-gpu\\lib\\site-packages\\sklearn\\metrics\\_classification.py:1272: UndefinedMetricWarning: Precision is ill-defined and being set to 0.0 due to no predicted samples. Use `zero_division` parameter to control this behavior.\n",
      "  _warn_prf(average, modifier, msg_start, len(result))\n",
      "G:\\USB Drive Files\\Year 3\\Semester 1\\KV6003 - Individual Computing Project\\Machine Learning\\kf_ml_lib.py:91: RuntimeWarning: invalid value encountered in double_scalars\n",
      "  f1_score = 2 * ((precision*recall) / (precision+recall))\n"
     ]
    },
    {
     "name": "stdout",
     "output_type": "stream",
     "text": [
      "f1_score =  nan\n"
     ]
    },
    {
     "name": "stderr",
     "output_type": "stream",
     "text": [
      "c:\\users\\asmarus\\anaconda3\\envs\\tensorflow-gpu\\lib\\site-packages\\sklearn\\metrics\\_classification.py:1272: UndefinedMetricWarning: Precision is ill-defined and being set to 0.0 due to no predicted samples. Use `zero_division` parameter to control this behavior.\n",
      "  _warn_prf(average, modifier, msg_start, len(result))\n",
      "G:\\USB Drive Files\\Year 3\\Semester 1\\KV6003 - Individual Computing Project\\Machine Learning\\kf_ml_lib.py:91: RuntimeWarning: invalid value encountered in double_scalars\n",
      "  f1_score = 2 * ((precision*recall) / (precision+recall))\n"
     ]
    },
    {
     "name": "stdout",
     "output_type": "stream",
     "text": [
      "f1_score =  nan\n",
      "f1_score =  0.5120032990662465\n"
     ]
    },
    {
     "name": "stderr",
     "output_type": "stream",
     "text": [
      "c:\\users\\asmarus\\anaconda3\\envs\\tensorflow-gpu\\lib\\site-packages\\sklearn\\metrics\\_classification.py:1272: UndefinedMetricWarning: Precision is ill-defined and being set to 0.0 due to no predicted samples. Use `zero_division` parameter to control this behavior.\n",
      "  _warn_prf(average, modifier, msg_start, len(result))\n",
      "G:\\USB Drive Files\\Year 3\\Semester 1\\KV6003 - Individual Computing Project\\Machine Learning\\kf_ml_lib.py:91: RuntimeWarning: invalid value encountered in double_scalars\n",
      "  f1_score = 2 * ((precision*recall) / (precision+recall))\n"
     ]
    },
    {
     "name": "stdout",
     "output_type": "stream",
     "text": [
      "f1_score =  nan\n",
      "f1_score =  0.6386312324891874\n",
      "f1_score =  0.5448846823997607\n",
      "1  \t10    \tnan\tnan\tnan\tnan\n",
      "f1_score =  0.5120032990662465\n",
      "f1_score =  0.5120032990662465\n"
     ]
    },
    {
     "name": "stderr",
     "output_type": "stream",
     "text": [
      "c:\\users\\asmarus\\anaconda3\\envs\\tensorflow-gpu\\lib\\site-packages\\sklearn\\metrics\\_classification.py:1272: UndefinedMetricWarning: Precision is ill-defined and being set to 0.0 due to no predicted samples. Use `zero_division` parameter to control this behavior.\n",
      "  _warn_prf(average, modifier, msg_start, len(result))\n",
      "G:\\USB Drive Files\\Year 3\\Semester 1\\KV6003 - Individual Computing Project\\Machine Learning\\kf_ml_lib.py:91: RuntimeWarning: invalid value encountered in double_scalars\n",
      "  f1_score = 2 * ((precision*recall) / (precision+recall))\n"
     ]
    },
    {
     "name": "stdout",
     "output_type": "stream",
     "text": [
      "f1_score =  nan\n",
      "f1_score =  0.5120032990662465\n",
      "f1_score =  0.5120032990662465\n"
     ]
    },
    {
     "name": "stderr",
     "output_type": "stream",
     "text": [
      "c:\\users\\asmarus\\anaconda3\\envs\\tensorflow-gpu\\lib\\site-packages\\sklearn\\metrics\\_classification.py:1272: UndefinedMetricWarning: Precision is ill-defined and being set to 0.0 due to no predicted samples. Use `zero_division` parameter to control this behavior.\n",
      "  _warn_prf(average, modifier, msg_start, len(result))\n",
      "G:\\USB Drive Files\\Year 3\\Semester 1\\KV6003 - Individual Computing Project\\Machine Learning\\kf_ml_lib.py:91: RuntimeWarning: invalid value encountered in double_scalars\n",
      "  f1_score = 2 * ((precision*recall) / (precision+recall))\n"
     ]
    },
    {
     "name": "stdout",
     "output_type": "stream",
     "text": [
      "f1_score =  nan\n",
      "f1_score =  0.5448846823997607\n"
     ]
    },
    {
     "name": "stderr",
     "output_type": "stream",
     "text": [
      "c:\\users\\asmarus\\anaconda3\\envs\\tensorflow-gpu\\lib\\site-packages\\sklearn\\metrics\\_classification.py:1272: UndefinedMetricWarning: Precision is ill-defined and being set to 0.0 due to no predicted samples. Use `zero_division` parameter to control this behavior.\n",
      "  _warn_prf(average, modifier, msg_start, len(result))\n",
      "G:\\USB Drive Files\\Year 3\\Semester 1\\KV6003 - Individual Computing Project\\Machine Learning\\kf_ml_lib.py:91: RuntimeWarning: invalid value encountered in double_scalars\n",
      "  f1_score = 2 * ((precision*recall) / (precision+recall))\n"
     ]
    },
    {
     "name": "stdout",
     "output_type": "stream",
     "text": [
      "f1_score =  nan\n",
      "2  \t8     \tnan\tnan\tnan\tnan\n"
     ]
    },
    {
     "name": "stderr",
     "output_type": "stream",
     "text": [
      "c:\\users\\asmarus\\anaconda3\\envs\\tensorflow-gpu\\lib\\site-packages\\sklearn\\metrics\\_classification.py:1272: UndefinedMetricWarning: Precision is ill-defined and being set to 0.0 due to no predicted samples. Use `zero_division` parameter to control this behavior.\n",
      "  _warn_prf(average, modifier, msg_start, len(result))\n",
      "G:\\USB Drive Files\\Year 3\\Semester 1\\KV6003 - Individual Computing Project\\Machine Learning\\kf_ml_lib.py:91: RuntimeWarning: invalid value encountered in double_scalars\n",
      "  f1_score = 2 * ((precision*recall) / (precision+recall))\n"
     ]
    },
    {
     "name": "stdout",
     "output_type": "stream",
     "text": [
      "f1_score =  nan\n"
     ]
    },
    {
     "name": "stderr",
     "output_type": "stream",
     "text": [
      "c:\\users\\asmarus\\anaconda3\\envs\\tensorflow-gpu\\lib\\site-packages\\sklearn\\metrics\\_classification.py:1272: UndefinedMetricWarning: Precision is ill-defined and being set to 0.0 due to no predicted samples. Use `zero_division` parameter to control this behavior.\n",
      "  _warn_prf(average, modifier, msg_start, len(result))\n",
      "G:\\USB Drive Files\\Year 3\\Semester 1\\KV6003 - Individual Computing Project\\Machine Learning\\kf_ml_lib.py:91: RuntimeWarning: invalid value encountered in double_scalars\n",
      "  f1_score = 2 * ((precision*recall) / (precision+recall))\n"
     ]
    },
    {
     "name": "stdout",
     "output_type": "stream",
     "text": [
      "f1_score =  nan\n"
     ]
    },
    {
     "name": "stderr",
     "output_type": "stream",
     "text": [
      "c:\\users\\asmarus\\anaconda3\\envs\\tensorflow-gpu\\lib\\site-packages\\sklearn\\metrics\\_classification.py:1272: UndefinedMetricWarning: Precision is ill-defined and being set to 0.0 due to no predicted samples. Use `zero_division` parameter to control this behavior.\n",
      "  _warn_prf(average, modifier, msg_start, len(result))\n",
      "G:\\USB Drive Files\\Year 3\\Semester 1\\KV6003 - Individual Computing Project\\Machine Learning\\kf_ml_lib.py:91: RuntimeWarning: invalid value encountered in double_scalars\n",
      "  f1_score = 2 * ((precision*recall) / (precision+recall))\n"
     ]
    },
    {
     "name": "stdout",
     "output_type": "stream",
     "text": [
      "f1_score =  nan\n"
     ]
    },
    {
     "name": "stderr",
     "output_type": "stream",
     "text": [
      "c:\\users\\asmarus\\anaconda3\\envs\\tensorflow-gpu\\lib\\site-packages\\sklearn\\metrics\\_classification.py:1272: UndefinedMetricWarning: Precision is ill-defined and being set to 0.0 due to no predicted samples. Use `zero_division` parameter to control this behavior.\n",
      "  _warn_prf(average, modifier, msg_start, len(result))\n",
      "G:\\USB Drive Files\\Year 3\\Semester 1\\KV6003 - Individual Computing Project\\Machine Learning\\kf_ml_lib.py:91: RuntimeWarning: invalid value encountered in double_scalars\n",
      "  f1_score = 2 * ((precision*recall) / (precision+recall))\n"
     ]
    },
    {
     "name": "stdout",
     "output_type": "stream",
     "text": [
      "f1_score =  nan\n"
     ]
    },
    {
     "name": "stderr",
     "output_type": "stream",
     "text": [
      "c:\\users\\asmarus\\anaconda3\\envs\\tensorflow-gpu\\lib\\site-packages\\sklearn\\metrics\\_classification.py:1272: UndefinedMetricWarning: Precision is ill-defined and being set to 0.0 due to no predicted samples. Use `zero_division` parameter to control this behavior.\n",
      "  _warn_prf(average, modifier, msg_start, len(result))\n",
      "G:\\USB Drive Files\\Year 3\\Semester 1\\KV6003 - Individual Computing Project\\Machine Learning\\kf_ml_lib.py:91: RuntimeWarning: invalid value encountered in double_scalars\n",
      "  f1_score = 2 * ((precision*recall) / (precision+recall))\n"
     ]
    },
    {
     "name": "stdout",
     "output_type": "stream",
     "text": [
      "f1_score =  nan\n",
      "f1_score =  0.5120032990662465\n",
      "f1_score =  0.5120032990662465\n"
     ]
    },
    {
     "name": "stderr",
     "output_type": "stream",
     "text": [
      "c:\\users\\asmarus\\anaconda3\\envs\\tensorflow-gpu\\lib\\site-packages\\sklearn\\metrics\\_classification.py:1272: UndefinedMetricWarning: Precision is ill-defined and being set to 0.0 due to no predicted samples. Use `zero_division` parameter to control this behavior.\n",
      "  _warn_prf(average, modifier, msg_start, len(result))\n",
      "G:\\USB Drive Files\\Year 3\\Semester 1\\KV6003 - Individual Computing Project\\Machine Learning\\kf_ml_lib.py:91: RuntimeWarning: invalid value encountered in double_scalars\n",
      "  f1_score = 2 * ((precision*recall) / (precision+recall))\n"
     ]
    },
    {
     "name": "stdout",
     "output_type": "stream",
     "text": [
      "f1_score =  nan\n",
      "f1_score =  0.6386312324891874\n",
      "f1_score =  0.5120032990662465\n",
      "3  \t10    \tnan\tnan\tnan\tnan\n",
      "f1_score =  0.5120032990662465\n",
      "f1_score =  0.5120032990662465\n"
     ]
    },
    {
     "name": "stderr",
     "output_type": "stream",
     "text": [
      "c:\\users\\asmarus\\anaconda3\\envs\\tensorflow-gpu\\lib\\site-packages\\sklearn\\metrics\\_classification.py:1272: UndefinedMetricWarning: Precision is ill-defined and being set to 0.0 due to no predicted samples. Use `zero_division` parameter to control this behavior.\n",
      "  _warn_prf(average, modifier, msg_start, len(result))\n",
      "G:\\USB Drive Files\\Year 3\\Semester 1\\KV6003 - Individual Computing Project\\Machine Learning\\kf_ml_lib.py:91: RuntimeWarning: invalid value encountered in double_scalars\n",
      "  f1_score = 2 * ((precision*recall) / (precision+recall))\n"
     ]
    },
    {
     "name": "stdout",
     "output_type": "stream",
     "text": [
      "f1_score =  nan\n"
     ]
    },
    {
     "name": "stderr",
     "output_type": "stream",
     "text": [
      "c:\\users\\asmarus\\anaconda3\\envs\\tensorflow-gpu\\lib\\site-packages\\sklearn\\metrics\\_classification.py:1272: UndefinedMetricWarning: Precision is ill-defined and being set to 0.0 due to no predicted samples. Use `zero_division` parameter to control this behavior.\n",
      "  _warn_prf(average, modifier, msg_start, len(result))\n",
      "G:\\USB Drive Files\\Year 3\\Semester 1\\KV6003 - Individual Computing Project\\Machine Learning\\kf_ml_lib.py:91: RuntimeWarning: invalid value encountered in double_scalars\n",
      "  f1_score = 2 * ((precision*recall) / (precision+recall))\n"
     ]
    },
    {
     "name": "stdout",
     "output_type": "stream",
     "text": [
      "f1_score =  nan\n",
      "f1_score =  0.5120032990662465\n",
      "f1_score =  0.6386312324891874\n",
      "f1_score =  0.5120032990662465\n"
     ]
    },
    {
     "name": "stderr",
     "output_type": "stream",
     "text": [
      "c:\\users\\asmarus\\anaconda3\\envs\\tensorflow-gpu\\lib\\site-packages\\sklearn\\metrics\\_classification.py:1272: UndefinedMetricWarning: Precision is ill-defined and being set to 0.0 due to no predicted samples. Use `zero_division` parameter to control this behavior.\n",
      "  _warn_prf(average, modifier, msg_start, len(result))\n",
      "G:\\USB Drive Files\\Year 3\\Semester 1\\KV6003 - Individual Computing Project\\Machine Learning\\kf_ml_lib.py:91: RuntimeWarning: invalid value encountered in double_scalars\n",
      "  f1_score = 2 * ((precision*recall) / (precision+recall))\n"
     ]
    },
    {
     "name": "stdout",
     "output_type": "stream",
     "text": [
      "f1_score =  nan\n"
     ]
    },
    {
     "name": "stderr",
     "output_type": "stream",
     "text": [
      "c:\\users\\asmarus\\anaconda3\\envs\\tensorflow-gpu\\lib\\site-packages\\sklearn\\metrics\\_classification.py:1272: UndefinedMetricWarning: Precision is ill-defined and being set to 0.0 due to no predicted samples. Use `zero_division` parameter to control this behavior.\n",
      "  _warn_prf(average, modifier, msg_start, len(result))\n",
      "G:\\USB Drive Files\\Year 3\\Semester 1\\KV6003 - Individual Computing Project\\Machine Learning\\kf_ml_lib.py:91: RuntimeWarning: invalid value encountered in double_scalars\n",
      "  f1_score = 2 * ((precision*recall) / (precision+recall))\n"
     ]
    },
    {
     "name": "stdout",
     "output_type": "stream",
     "text": [
      "f1_score =  nan\n",
      "4  \t9     \tnan\tnan\tnan\tnan\n"
     ]
    },
    {
     "name": "stderr",
     "output_type": "stream",
     "text": [
      "c:\\users\\asmarus\\anaconda3\\envs\\tensorflow-gpu\\lib\\site-packages\\sklearn\\metrics\\_classification.py:1272: UndefinedMetricWarning: Precision is ill-defined and being set to 0.0 due to no predicted samples. Use `zero_division` parameter to control this behavior.\n",
      "  _warn_prf(average, modifier, msg_start, len(result))\n",
      "G:\\USB Drive Files\\Year 3\\Semester 1\\KV6003 - Individual Computing Project\\Machine Learning\\kf_ml_lib.py:91: RuntimeWarning: invalid value encountered in double_scalars\n",
      "  f1_score = 2 * ((precision*recall) / (precision+recall))\n"
     ]
    },
    {
     "name": "stdout",
     "output_type": "stream",
     "text": [
      "f1_score =  nan\n"
     ]
    },
    {
     "name": "stderr",
     "output_type": "stream",
     "text": [
      "c:\\users\\asmarus\\anaconda3\\envs\\tensorflow-gpu\\lib\\site-packages\\sklearn\\metrics\\_classification.py:1272: UndefinedMetricWarning: Precision is ill-defined and being set to 0.0 due to no predicted samples. Use `zero_division` parameter to control this behavior.\n",
      "  _warn_prf(average, modifier, msg_start, len(result))\n",
      "G:\\USB Drive Files\\Year 3\\Semester 1\\KV6003 - Individual Computing Project\\Machine Learning\\kf_ml_lib.py:91: RuntimeWarning: invalid value encountered in double_scalars\n",
      "  f1_score = 2 * ((precision*recall) / (precision+recall))\n"
     ]
    },
    {
     "name": "stdout",
     "output_type": "stream",
     "text": [
      "f1_score =  nan\n"
     ]
    },
    {
     "name": "stderr",
     "output_type": "stream",
     "text": [
      "c:\\users\\asmarus\\anaconda3\\envs\\tensorflow-gpu\\lib\\site-packages\\sklearn\\metrics\\_classification.py:1272: UndefinedMetricWarning: Precision is ill-defined and being set to 0.0 due to no predicted samples. Use `zero_division` parameter to control this behavior.\n",
      "  _warn_prf(average, modifier, msg_start, len(result))\n",
      "G:\\USB Drive Files\\Year 3\\Semester 1\\KV6003 - Individual Computing Project\\Machine Learning\\kf_ml_lib.py:91: RuntimeWarning: invalid value encountered in double_scalars\n",
      "  f1_score = 2 * ((precision*recall) / (precision+recall))\n"
     ]
    },
    {
     "name": "stdout",
     "output_type": "stream",
     "text": [
      "f1_score =  nan\n"
     ]
    },
    {
     "name": "stderr",
     "output_type": "stream",
     "text": [
      "c:\\users\\asmarus\\anaconda3\\envs\\tensorflow-gpu\\lib\\site-packages\\sklearn\\metrics\\_classification.py:1272: UndefinedMetricWarning: Precision is ill-defined and being set to 0.0 due to no predicted samples. Use `zero_division` parameter to control this behavior.\n",
      "  _warn_prf(average, modifier, msg_start, len(result))\n",
      "G:\\USB Drive Files\\Year 3\\Semester 1\\KV6003 - Individual Computing Project\\Machine Learning\\kf_ml_lib.py:91: RuntimeWarning: invalid value encountered in double_scalars\n",
      "  f1_score = 2 * ((precision*recall) / (precision+recall))\n"
     ]
    },
    {
     "name": "stdout",
     "output_type": "stream",
     "text": [
      "f1_score =  nan\n",
      "f1_score =  0.6386312324891874\n"
     ]
    },
    {
     "name": "stderr",
     "output_type": "stream",
     "text": [
      "c:\\users\\asmarus\\anaconda3\\envs\\tensorflow-gpu\\lib\\site-packages\\sklearn\\metrics\\_classification.py:1272: UndefinedMetricWarning: Precision is ill-defined and being set to 0.0 due to no predicted samples. Use `zero_division` parameter to control this behavior.\n",
      "  _warn_prf(average, modifier, msg_start, len(result))\n",
      "G:\\USB Drive Files\\Year 3\\Semester 1\\KV6003 - Individual Computing Project\\Machine Learning\\kf_ml_lib.py:91: RuntimeWarning: invalid value encountered in double_scalars\n",
      "  f1_score = 2 * ((precision*recall) / (precision+recall))\n"
     ]
    },
    {
     "name": "stdout",
     "output_type": "stream",
     "text": [
      "f1_score =  nan\n"
     ]
    },
    {
     "name": "stderr",
     "output_type": "stream",
     "text": [
      "c:\\users\\asmarus\\anaconda3\\envs\\tensorflow-gpu\\lib\\site-packages\\sklearn\\metrics\\_classification.py:1272: UndefinedMetricWarning: Precision is ill-defined and being set to 0.0 due to no predicted samples. Use `zero_division` parameter to control this behavior.\n",
      "  _warn_prf(average, modifier, msg_start, len(result))\n",
      "G:\\USB Drive Files\\Year 3\\Semester 1\\KV6003 - Individual Computing Project\\Machine Learning\\kf_ml_lib.py:91: RuntimeWarning: invalid value encountered in double_scalars\n",
      "  f1_score = 2 * ((precision*recall) / (precision+recall))\n"
     ]
    },
    {
     "name": "stdout",
     "output_type": "stream",
     "text": [
      "f1_score =  nan\n",
      "f1_score =  0.5120032990662465\n"
     ]
    },
    {
     "name": "stderr",
     "output_type": "stream",
     "text": [
      "c:\\users\\asmarus\\anaconda3\\envs\\tensorflow-gpu\\lib\\site-packages\\sklearn\\metrics\\_classification.py:1272: UndefinedMetricWarning: Precision is ill-defined and being set to 0.0 due to no predicted samples. Use `zero_division` parameter to control this behavior.\n",
      "  _warn_prf(average, modifier, msg_start, len(result))\n",
      "G:\\USB Drive Files\\Year 3\\Semester 1\\KV6003 - Individual Computing Project\\Machine Learning\\kf_ml_lib.py:91: RuntimeWarning: invalid value encountered in double_scalars\n",
      "  f1_score = 2 * ((precision*recall) / (precision+recall))\n"
     ]
    },
    {
     "name": "stdout",
     "output_type": "stream",
     "text": [
      "f1_score =  nan\n",
      "5  \t9     \tnan\tnan\tnan\tnan\n"
     ]
    },
    {
     "name": "stderr",
     "output_type": "stream",
     "text": [
      "c:\\users\\asmarus\\anaconda3\\envs\\tensorflow-gpu\\lib\\site-packages\\sklearn\\metrics\\_classification.py:1272: UndefinedMetricWarning: Precision is ill-defined and being set to 0.0 due to no predicted samples. Use `zero_division` parameter to control this behavior.\n",
      "  _warn_prf(average, modifier, msg_start, len(result))\n",
      "G:\\USB Drive Files\\Year 3\\Semester 1\\KV6003 - Individual Computing Project\\Machine Learning\\kf_ml_lib.py:91: RuntimeWarning: invalid value encountered in double_scalars\n",
      "  f1_score = 2 * ((precision*recall) / (precision+recall))\n"
     ]
    },
    {
     "name": "stdout",
     "output_type": "stream",
     "text": [
      "f1_score =  nan\n"
     ]
    },
    {
     "name": "stderr",
     "output_type": "stream",
     "text": [
      "c:\\users\\asmarus\\anaconda3\\envs\\tensorflow-gpu\\lib\\site-packages\\sklearn\\metrics\\_classification.py:1272: UndefinedMetricWarning: Precision is ill-defined and being set to 0.0 due to no predicted samples. Use `zero_division` parameter to control this behavior.\n",
      "  _warn_prf(average, modifier, msg_start, len(result))\n",
      "G:\\USB Drive Files\\Year 3\\Semester 1\\KV6003 - Individual Computing Project\\Machine Learning\\kf_ml_lib.py:91: RuntimeWarning: invalid value encountered in double_scalars\n",
      "  f1_score = 2 * ((precision*recall) / (precision+recall))\n"
     ]
    },
    {
     "name": "stdout",
     "output_type": "stream",
     "text": [
      "f1_score =  nan\n",
      "f1_score =  0.5120032990662465\n"
     ]
    },
    {
     "name": "stderr",
     "output_type": "stream",
     "text": [
      "c:\\users\\asmarus\\anaconda3\\envs\\tensorflow-gpu\\lib\\site-packages\\sklearn\\metrics\\_classification.py:1272: UndefinedMetricWarning: Precision is ill-defined and being set to 0.0 due to no predicted samples. Use `zero_division` parameter to control this behavior.\n",
      "  _warn_prf(average, modifier, msg_start, len(result))\n",
      "G:\\USB Drive Files\\Year 3\\Semester 1\\KV6003 - Individual Computing Project\\Machine Learning\\kf_ml_lib.py:91: RuntimeWarning: invalid value encountered in double_scalars\n",
      "  f1_score = 2 * ((precision*recall) / (precision+recall))\n"
     ]
    },
    {
     "name": "stdout",
     "output_type": "stream",
     "text": [
      "f1_score =  nan\n"
     ]
    },
    {
     "name": "stderr",
     "output_type": "stream",
     "text": [
      "c:\\users\\asmarus\\anaconda3\\envs\\tensorflow-gpu\\lib\\site-packages\\sklearn\\metrics\\_classification.py:1272: UndefinedMetricWarning: Precision is ill-defined and being set to 0.0 due to no predicted samples. Use `zero_division` parameter to control this behavior.\n",
      "  _warn_prf(average, modifier, msg_start, len(result))\n",
      "G:\\USB Drive Files\\Year 3\\Semester 1\\KV6003 - Individual Computing Project\\Machine Learning\\kf_ml_lib.py:91: RuntimeWarning: invalid value encountered in double_scalars\n",
      "  f1_score = 2 * ((precision*recall) / (precision+recall))\n"
     ]
    },
    {
     "name": "stdout",
     "output_type": "stream",
     "text": [
      "f1_score =  nan\n"
     ]
    },
    {
     "name": "stderr",
     "output_type": "stream",
     "text": [
      "c:\\users\\asmarus\\anaconda3\\envs\\tensorflow-gpu\\lib\\site-packages\\sklearn\\metrics\\_classification.py:1272: UndefinedMetricWarning: Precision is ill-defined and being set to 0.0 due to no predicted samples. Use `zero_division` parameter to control this behavior.\n",
      "  _warn_prf(average, modifier, msg_start, len(result))\n",
      "G:\\USB Drive Files\\Year 3\\Semester 1\\KV6003 - Individual Computing Project\\Machine Learning\\kf_ml_lib.py:91: RuntimeWarning: invalid value encountered in double_scalars\n",
      "  f1_score = 2 * ((precision*recall) / (precision+recall))\n"
     ]
    },
    {
     "name": "stdout",
     "output_type": "stream",
     "text": [
      "f1_score =  nan\n",
      "f1_score =  0.5120032990662465\n",
      "f1_score =  0.5120032990662465\n"
     ]
    },
    {
     "name": "stderr",
     "output_type": "stream",
     "text": [
      "c:\\users\\asmarus\\anaconda3\\envs\\tensorflow-gpu\\lib\\site-packages\\sklearn\\metrics\\_classification.py:1272: UndefinedMetricWarning: Precision is ill-defined and being set to 0.0 due to no predicted samples. Use `zero_division` parameter to control this behavior.\n",
      "  _warn_prf(average, modifier, msg_start, len(result))\n",
      "G:\\USB Drive Files\\Year 3\\Semester 1\\KV6003 - Individual Computing Project\\Machine Learning\\kf_ml_lib.py:91: RuntimeWarning: invalid value encountered in double_scalars\n",
      "  f1_score = 2 * ((precision*recall) / (precision+recall))\n"
     ]
    },
    {
     "name": "stdout",
     "output_type": "stream",
     "text": [
      "f1_score =  nan\n",
      "6  \t9     \tnan\tnan\tnan\tnan\n",
      "f1_score =  0.5120032990662465\n"
     ]
    },
    {
     "name": "stderr",
     "output_type": "stream",
     "text": [
      "c:\\users\\asmarus\\anaconda3\\envs\\tensorflow-gpu\\lib\\site-packages\\sklearn\\metrics\\_classification.py:1272: UndefinedMetricWarning: Precision is ill-defined and being set to 0.0 due to no predicted samples. Use `zero_division` parameter to control this behavior.\n",
      "  _warn_prf(average, modifier, msg_start, len(result))\n",
      "G:\\USB Drive Files\\Year 3\\Semester 1\\KV6003 - Individual Computing Project\\Machine Learning\\kf_ml_lib.py:91: RuntimeWarning: invalid value encountered in double_scalars\n",
      "  f1_score = 2 * ((precision*recall) / (precision+recall))\n"
     ]
    },
    {
     "name": "stdout",
     "output_type": "stream",
     "text": [
      "f1_score =  nan\n"
     ]
    },
    {
     "name": "stderr",
     "output_type": "stream",
     "text": [
      "c:\\users\\asmarus\\anaconda3\\envs\\tensorflow-gpu\\lib\\site-packages\\sklearn\\metrics\\_classification.py:1272: UndefinedMetricWarning: Precision is ill-defined and being set to 0.0 due to no predicted samples. Use `zero_division` parameter to control this behavior.\n",
      "  _warn_prf(average, modifier, msg_start, len(result))\n",
      "G:\\USB Drive Files\\Year 3\\Semester 1\\KV6003 - Individual Computing Project\\Machine Learning\\kf_ml_lib.py:91: RuntimeWarning: invalid value encountered in double_scalars\n",
      "  f1_score = 2 * ((precision*recall) / (precision+recall))\n"
     ]
    },
    {
     "name": "stdout",
     "output_type": "stream",
     "text": [
      "f1_score =  nan\n",
      "f1_score =  0.5120032990662465\n"
     ]
    },
    {
     "name": "stderr",
     "output_type": "stream",
     "text": [
      "c:\\users\\asmarus\\anaconda3\\envs\\tensorflow-gpu\\lib\\site-packages\\sklearn\\metrics\\_classification.py:1272: UndefinedMetricWarning: Precision is ill-defined and being set to 0.0 due to no predicted samples. Use `zero_division` parameter to control this behavior.\n",
      "  _warn_prf(average, modifier, msg_start, len(result))\n",
      "G:\\USB Drive Files\\Year 3\\Semester 1\\KV6003 - Individual Computing Project\\Machine Learning\\kf_ml_lib.py:91: RuntimeWarning: invalid value encountered in double_scalars\n",
      "  f1_score = 2 * ((precision*recall) / (precision+recall))\n"
     ]
    },
    {
     "name": "stdout",
     "output_type": "stream",
     "text": [
      "f1_score =  nan\n"
     ]
    },
    {
     "name": "stderr",
     "output_type": "stream",
     "text": [
      "c:\\users\\asmarus\\anaconda3\\envs\\tensorflow-gpu\\lib\\site-packages\\sklearn\\metrics\\_classification.py:1272: UndefinedMetricWarning: Precision is ill-defined and being set to 0.0 due to no predicted samples. Use `zero_division` parameter to control this behavior.\n",
      "  _warn_prf(average, modifier, msg_start, len(result))\n",
      "G:\\USB Drive Files\\Year 3\\Semester 1\\KV6003 - Individual Computing Project\\Machine Learning\\kf_ml_lib.py:91: RuntimeWarning: invalid value encountered in double_scalars\n",
      "  f1_score = 2 * ((precision*recall) / (precision+recall))\n"
     ]
    },
    {
     "name": "stdout",
     "output_type": "stream",
     "text": [
      "f1_score =  nan\n",
      "f1_score =  0.5120032990662465\n"
     ]
    },
    {
     "name": "stderr",
     "output_type": "stream",
     "text": [
      "c:\\users\\asmarus\\anaconda3\\envs\\tensorflow-gpu\\lib\\site-packages\\sklearn\\metrics\\_classification.py:1272: UndefinedMetricWarning: Precision is ill-defined and being set to 0.0 due to no predicted samples. Use `zero_division` parameter to control this behavior.\n",
      "  _warn_prf(average, modifier, msg_start, len(result))\n",
      "G:\\USB Drive Files\\Year 3\\Semester 1\\KV6003 - Individual Computing Project\\Machine Learning\\kf_ml_lib.py:91: RuntimeWarning: invalid value encountered in double_scalars\n",
      "  f1_score = 2 * ((precision*recall) / (precision+recall))\n"
     ]
    },
    {
     "name": "stdout",
     "output_type": "stream",
     "text": [
      "f1_score =  nan\n",
      "f1_score =  0.5120032990662465\n",
      "f1_score =  0.5120032990662465\n",
      "7  \t10    \tnan\tnan\tnan\tnan\n",
      "f1_score =  0.5120032990662465\n",
      "f1_score =  0.5120032990662465\n",
      "f1_score =  0.5120032990662465\n"
     ]
    },
    {
     "name": "stderr",
     "output_type": "stream",
     "text": [
      "c:\\users\\asmarus\\anaconda3\\envs\\tensorflow-gpu\\lib\\site-packages\\sklearn\\metrics\\_classification.py:1272: UndefinedMetricWarning: Precision is ill-defined and being set to 0.0 due to no predicted samples. Use `zero_division` parameter to control this behavior.\n",
      "  _warn_prf(average, modifier, msg_start, len(result))\n",
      "G:\\USB Drive Files\\Year 3\\Semester 1\\KV6003 - Individual Computing Project\\Machine Learning\\kf_ml_lib.py:91: RuntimeWarning: invalid value encountered in double_scalars\n",
      "  f1_score = 2 * ((precision*recall) / (precision+recall))\n"
     ]
    },
    {
     "name": "stdout",
     "output_type": "stream",
     "text": [
      "f1_score =  nan\n",
      "f1_score =  0.5120032990662465\n"
     ]
    },
    {
     "name": "stderr",
     "output_type": "stream",
     "text": [
      "c:\\users\\asmarus\\anaconda3\\envs\\tensorflow-gpu\\lib\\site-packages\\sklearn\\metrics\\_classification.py:1272: UndefinedMetricWarning: Precision is ill-defined and being set to 0.0 due to no predicted samples. Use `zero_division` parameter to control this behavior.\n",
      "  _warn_prf(average, modifier, msg_start, len(result))\n",
      "G:\\USB Drive Files\\Year 3\\Semester 1\\KV6003 - Individual Computing Project\\Machine Learning\\kf_ml_lib.py:91: RuntimeWarning: invalid value encountered in double_scalars\n",
      "  f1_score = 2 * ((precision*recall) / (precision+recall))\n"
     ]
    },
    {
     "name": "stdout",
     "output_type": "stream",
     "text": [
      "f1_score =  nan\n"
     ]
    },
    {
     "name": "stderr",
     "output_type": "stream",
     "text": [
      "c:\\users\\asmarus\\anaconda3\\envs\\tensorflow-gpu\\lib\\site-packages\\sklearn\\metrics\\_classification.py:1272: UndefinedMetricWarning: Precision is ill-defined and being set to 0.0 due to no predicted samples. Use `zero_division` parameter to control this behavior.\n",
      "  _warn_prf(average, modifier, msg_start, len(result))\n",
      "G:\\USB Drive Files\\Year 3\\Semester 1\\KV6003 - Individual Computing Project\\Machine Learning\\kf_ml_lib.py:91: RuntimeWarning: invalid value encountered in double_scalars\n",
      "  f1_score = 2 * ((precision*recall) / (precision+recall))\n"
     ]
    },
    {
     "name": "stdout",
     "output_type": "stream",
     "text": [
      "f1_score =  nan\n",
      "f1_score =  0.5120032990662465\n",
      "f1_score =  0.5120032990662465\n",
      "8  \t9     \tnan\tnan\tnan\tnan\n"
     ]
    },
    {
     "name": "stderr",
     "output_type": "stream",
     "text": [
      "c:\\users\\asmarus\\anaconda3\\envs\\tensorflow-gpu\\lib\\site-packages\\sklearn\\metrics\\_classification.py:1272: UndefinedMetricWarning: Precision is ill-defined and being set to 0.0 due to no predicted samples. Use `zero_division` parameter to control this behavior.\n",
      "  _warn_prf(average, modifier, msg_start, len(result))\n",
      "G:\\USB Drive Files\\Year 3\\Semester 1\\KV6003 - Individual Computing Project\\Machine Learning\\kf_ml_lib.py:91: RuntimeWarning: invalid value encountered in double_scalars\n",
      "  f1_score = 2 * ((precision*recall) / (precision+recall))\n"
     ]
    },
    {
     "name": "stdout",
     "output_type": "stream",
     "text": [
      "f1_score =  nan\n",
      "f1_score =  0.5120032990662465\n",
      "f1_score =  0.5120032990662465\n",
      "f1_score =  0.5120032990662465\n",
      "f1_score =  0.5120032990662465\n",
      "f1_score =  0.5120032990662465\n",
      "f1_score =  0.5120032990662465\n",
      "f1_score =  0.5120032990662465\n"
     ]
    },
    {
     "name": "stderr",
     "output_type": "stream",
     "text": [
      "c:\\users\\asmarus\\anaconda3\\envs\\tensorflow-gpu\\lib\\site-packages\\sklearn\\metrics\\_classification.py:1272: UndefinedMetricWarning: Precision is ill-defined and being set to 0.0 due to no predicted samples. Use `zero_division` parameter to control this behavior.\n",
      "  _warn_prf(average, modifier, msg_start, len(result))\n",
      "G:\\USB Drive Files\\Year 3\\Semester 1\\KV6003 - Individual Computing Project\\Machine Learning\\kf_ml_lib.py:91: RuntimeWarning: invalid value encountered in double_scalars\n",
      "  f1_score = 2 * ((precision*recall) / (precision+recall))\n"
     ]
    },
    {
     "name": "stdout",
     "output_type": "stream",
     "text": [
      "f1_score =  nan\n"
     ]
    },
    {
     "name": "stderr",
     "output_type": "stream",
     "text": [
      "c:\\users\\asmarus\\anaconda3\\envs\\tensorflow-gpu\\lib\\site-packages\\sklearn\\metrics\\_classification.py:1272: UndefinedMetricWarning: Precision is ill-defined and being set to 0.0 due to no predicted samples. Use `zero_division` parameter to control this behavior.\n",
      "  _warn_prf(average, modifier, msg_start, len(result))\n",
      "G:\\USB Drive Files\\Year 3\\Semester 1\\KV6003 - Individual Computing Project\\Machine Learning\\kf_ml_lib.py:91: RuntimeWarning: invalid value encountered in double_scalars\n",
      "  f1_score = 2 * ((precision*recall) / (precision+recall))\n"
     ]
    },
    {
     "name": "stdout",
     "output_type": "stream",
     "text": [
      "f1_score =  nan\n",
      "9  \t10    \tnan\tnan\tnan\tnan\n"
     ]
    },
    {
     "name": "stderr",
     "output_type": "stream",
     "text": [
      "c:\\users\\asmarus\\anaconda3\\envs\\tensorflow-gpu\\lib\\site-packages\\sklearn\\metrics\\_classification.py:1272: UndefinedMetricWarning: Precision is ill-defined and being set to 0.0 due to no predicted samples. Use `zero_division` parameter to control this behavior.\n",
      "  _warn_prf(average, modifier, msg_start, len(result))\n",
      "G:\\USB Drive Files\\Year 3\\Semester 1\\KV6003 - Individual Computing Project\\Machine Learning\\kf_ml_lib.py:91: RuntimeWarning: invalid value encountered in double_scalars\n",
      "  f1_score = 2 * ((precision*recall) / (precision+recall))\n"
     ]
    },
    {
     "name": "stdout",
     "output_type": "stream",
     "text": [
      "f1_score =  nan\n",
      "f1_score =  0.5120032990662465\n",
      "f1_score =  0.5120032990662465\n"
     ]
    },
    {
     "name": "stderr",
     "output_type": "stream",
     "text": [
      "c:\\users\\asmarus\\anaconda3\\envs\\tensorflow-gpu\\lib\\site-packages\\sklearn\\metrics\\_classification.py:1272: UndefinedMetricWarning: Precision is ill-defined and being set to 0.0 due to no predicted samples. Use `zero_division` parameter to control this behavior.\n",
      "  _warn_prf(average, modifier, msg_start, len(result))\n",
      "G:\\USB Drive Files\\Year 3\\Semester 1\\KV6003 - Individual Computing Project\\Machine Learning\\kf_ml_lib.py:91: RuntimeWarning: invalid value encountered in double_scalars\n",
      "  f1_score = 2 * ((precision*recall) / (precision+recall))\n"
     ]
    },
    {
     "name": "stdout",
     "output_type": "stream",
     "text": [
      "f1_score =  nan\n",
      "f1_score =  0.5120032990662465\n",
      "f1_score =  0.5120032990662465\n"
     ]
    },
    {
     "name": "stderr",
     "output_type": "stream",
     "text": [
      "c:\\users\\asmarus\\anaconda3\\envs\\tensorflow-gpu\\lib\\site-packages\\sklearn\\metrics\\_classification.py:1272: UndefinedMetricWarning: Precision is ill-defined and being set to 0.0 due to no predicted samples. Use `zero_division` parameter to control this behavior.\n",
      "  _warn_prf(average, modifier, msg_start, len(result))\n",
      "G:\\USB Drive Files\\Year 3\\Semester 1\\KV6003 - Individual Computing Project\\Machine Learning\\kf_ml_lib.py:91: RuntimeWarning: invalid value encountered in double_scalars\n",
      "  f1_score = 2 * ((precision*recall) / (precision+recall))\n"
     ]
    },
    {
     "name": "stdout",
     "output_type": "stream",
     "text": [
      "f1_score =  nan\n"
     ]
    },
    {
     "name": "stderr",
     "output_type": "stream",
     "text": [
      "c:\\users\\asmarus\\anaconda3\\envs\\tensorflow-gpu\\lib\\site-packages\\sklearn\\metrics\\_classification.py:1272: UndefinedMetricWarning: Precision is ill-defined and being set to 0.0 due to no predicted samples. Use `zero_division` parameter to control this behavior.\n",
      "  _warn_prf(average, modifier, msg_start, len(result))\n",
      "G:\\USB Drive Files\\Year 3\\Semester 1\\KV6003 - Individual Computing Project\\Machine Learning\\kf_ml_lib.py:91: RuntimeWarning: invalid value encountered in double_scalars\n",
      "  f1_score = 2 * ((precision*recall) / (precision+recall))\n"
     ]
    },
    {
     "name": "stdout",
     "output_type": "stream",
     "text": [
      "f1_score =  nan\n",
      "10 \t8     \tnan\tnan\tnan\tnan\n"
     ]
    },
    {
     "name": "stderr",
     "output_type": "stream",
     "text": [
      "c:\\users\\asmarus\\anaconda3\\envs\\tensorflow-gpu\\lib\\site-packages\\sklearn\\metrics\\_classification.py:1272: UndefinedMetricWarning: Precision is ill-defined and being set to 0.0 due to no predicted samples. Use `zero_division` parameter to control this behavior.\n",
      "  _warn_prf(average, modifier, msg_start, len(result))\n",
      "G:\\USB Drive Files\\Year 3\\Semester 1\\KV6003 - Individual Computing Project\\Machine Learning\\kf_ml_lib.py:91: RuntimeWarning: invalid value encountered in double_scalars\n",
      "  f1_score = 2 * ((precision*recall) / (precision+recall))\n"
     ]
    },
    {
     "name": "stdout",
     "output_type": "stream",
     "text": [
      "f1_score =  nan\n"
     ]
    },
    {
     "name": "stderr",
     "output_type": "stream",
     "text": [
      "c:\\users\\asmarus\\anaconda3\\envs\\tensorflow-gpu\\lib\\site-packages\\sklearn\\metrics\\_classification.py:1272: UndefinedMetricWarning: Precision is ill-defined and being set to 0.0 due to no predicted samples. Use `zero_division` parameter to control this behavior.\n",
      "  _warn_prf(average, modifier, msg_start, len(result))\n",
      "G:\\USB Drive Files\\Year 3\\Semester 1\\KV6003 - Individual Computing Project\\Machine Learning\\kf_ml_lib.py:91: RuntimeWarning: invalid value encountered in double_scalars\n",
      "  f1_score = 2 * ((precision*recall) / (precision+recall))\n"
     ]
    },
    {
     "name": "stdout",
     "output_type": "stream",
     "text": [
      "f1_score =  nan\n",
      "f1_score =  0.5120032990662465\n",
      "f1_score =  0.5120032990662465\n"
     ]
    },
    {
     "name": "stderr",
     "output_type": "stream",
     "text": [
      "c:\\users\\asmarus\\anaconda3\\envs\\tensorflow-gpu\\lib\\site-packages\\sklearn\\metrics\\_classification.py:1272: UndefinedMetricWarning: Precision is ill-defined and being set to 0.0 due to no predicted samples. Use `zero_division` parameter to control this behavior.\n",
      "  _warn_prf(average, modifier, msg_start, len(result))\n",
      "G:\\USB Drive Files\\Year 3\\Semester 1\\KV6003 - Individual Computing Project\\Machine Learning\\kf_ml_lib.py:91: RuntimeWarning: invalid value encountered in double_scalars\n",
      "  f1_score = 2 * ((precision*recall) / (precision+recall))\n"
     ]
    },
    {
     "name": "stdout",
     "output_type": "stream",
     "text": [
      "f1_score =  nan\n"
     ]
    },
    {
     "name": "stderr",
     "output_type": "stream",
     "text": [
      "c:\\users\\asmarus\\anaconda3\\envs\\tensorflow-gpu\\lib\\site-packages\\sklearn\\metrics\\_classification.py:1272: UndefinedMetricWarning: Precision is ill-defined and being set to 0.0 due to no predicted samples. Use `zero_division` parameter to control this behavior.\n",
      "  _warn_prf(average, modifier, msg_start, len(result))\n",
      "G:\\USB Drive Files\\Year 3\\Semester 1\\KV6003 - Individual Computing Project\\Machine Learning\\kf_ml_lib.py:91: RuntimeWarning: invalid value encountered in double_scalars\n",
      "  f1_score = 2 * ((precision*recall) / (precision+recall))\n"
     ]
    },
    {
     "name": "stdout",
     "output_type": "stream",
     "text": [
      "f1_score =  nan\n",
      "f1_score =  0.5120032990662465\n"
     ]
    },
    {
     "name": "stderr",
     "output_type": "stream",
     "text": [
      "c:\\users\\asmarus\\anaconda3\\envs\\tensorflow-gpu\\lib\\site-packages\\sklearn\\metrics\\_classification.py:1272: UndefinedMetricWarning: Precision is ill-defined and being set to 0.0 due to no predicted samples. Use `zero_division` parameter to control this behavior.\n",
      "  _warn_prf(average, modifier, msg_start, len(result))\n",
      "G:\\USB Drive Files\\Year 3\\Semester 1\\KV6003 - Individual Computing Project\\Machine Learning\\kf_ml_lib.py:91: RuntimeWarning: invalid value encountered in double_scalars\n",
      "  f1_score = 2 * ((precision*recall) / (precision+recall))\n"
     ]
    },
    {
     "name": "stdout",
     "output_type": "stream",
     "text": [
      "f1_score =  nan\n",
      "f1_score =  0.5120032990662465\n"
     ]
    },
    {
     "name": "stderr",
     "output_type": "stream",
     "text": [
      "c:\\users\\asmarus\\anaconda3\\envs\\tensorflow-gpu\\lib\\site-packages\\sklearn\\metrics\\_classification.py:1272: UndefinedMetricWarning: Precision is ill-defined and being set to 0.0 due to no predicted samples. Use `zero_division` parameter to control this behavior.\n",
      "  _warn_prf(average, modifier, msg_start, len(result))\n",
      "G:\\USB Drive Files\\Year 3\\Semester 1\\KV6003 - Individual Computing Project\\Machine Learning\\kf_ml_lib.py:91: RuntimeWarning: invalid value encountered in double_scalars\n",
      "  f1_score = 2 * ((precision*recall) / (precision+recall))\n"
     ]
    },
    {
     "name": "stdout",
     "output_type": "stream",
     "text": [
      "f1_score =  nan\n",
      "11 \t10    \tnan\tnan\tnan\tnan\n",
      "f1_score =  0.5120032990662465\n",
      "f1_score =  0.5120032990662465\n"
     ]
    },
    {
     "name": "stderr",
     "output_type": "stream",
     "text": [
      "c:\\users\\asmarus\\anaconda3\\envs\\tensorflow-gpu\\lib\\site-packages\\sklearn\\metrics\\_classification.py:1272: UndefinedMetricWarning: Precision is ill-defined and being set to 0.0 due to no predicted samples. Use `zero_division` parameter to control this behavior.\n",
      "  _warn_prf(average, modifier, msg_start, len(result))\n",
      "G:\\USB Drive Files\\Year 3\\Semester 1\\KV6003 - Individual Computing Project\\Machine Learning\\kf_ml_lib.py:91: RuntimeWarning: invalid value encountered in double_scalars\n",
      "  f1_score = 2 * ((precision*recall) / (precision+recall))\n"
     ]
    },
    {
     "name": "stdout",
     "output_type": "stream",
     "text": [
      "f1_score =  nan\n",
      "f1_score =  0.5120032990662465\n",
      "f1_score =  0.5120032990662465\n"
     ]
    },
    {
     "name": "stderr",
     "output_type": "stream",
     "text": [
      "c:\\users\\asmarus\\anaconda3\\envs\\tensorflow-gpu\\lib\\site-packages\\sklearn\\metrics\\_classification.py:1272: UndefinedMetricWarning: Precision is ill-defined and being set to 0.0 due to no predicted samples. Use `zero_division` parameter to control this behavior.\n",
      "  _warn_prf(average, modifier, msg_start, len(result))\n",
      "G:\\USB Drive Files\\Year 3\\Semester 1\\KV6003 - Individual Computing Project\\Machine Learning\\kf_ml_lib.py:91: RuntimeWarning: invalid value encountered in double_scalars\n",
      "  f1_score = 2 * ((precision*recall) / (precision+recall))\n"
     ]
    },
    {
     "name": "stdout",
     "output_type": "stream",
     "text": [
      "f1_score =  nan\n",
      "f1_score =  0.5120032990662465\n",
      "f1_score =  0.5120032990662465\n"
     ]
    },
    {
     "name": "stderr",
     "output_type": "stream",
     "text": [
      "c:\\users\\asmarus\\anaconda3\\envs\\tensorflow-gpu\\lib\\site-packages\\sklearn\\metrics\\_classification.py:1272: UndefinedMetricWarning: Precision is ill-defined and being set to 0.0 due to no predicted samples. Use `zero_division` parameter to control this behavior.\n",
      "  _warn_prf(average, modifier, msg_start, len(result))\n",
      "G:\\USB Drive Files\\Year 3\\Semester 1\\KV6003 - Individual Computing Project\\Machine Learning\\kf_ml_lib.py:91: RuntimeWarning: invalid value encountered in double_scalars\n",
      "  f1_score = 2 * ((precision*recall) / (precision+recall))\n"
     ]
    },
    {
     "name": "stdout",
     "output_type": "stream",
     "text": [
      "f1_score =  nan\n",
      "12 \t9     \tnan\tnan\tnan\tnan\n"
     ]
    },
    {
     "name": "stderr",
     "output_type": "stream",
     "text": [
      "c:\\users\\asmarus\\anaconda3\\envs\\tensorflow-gpu\\lib\\site-packages\\sklearn\\metrics\\_classification.py:1272: UndefinedMetricWarning: Precision is ill-defined and being set to 0.0 due to no predicted samples. Use `zero_division` parameter to control this behavior.\n",
      "  _warn_prf(average, modifier, msg_start, len(result))\n",
      "G:\\USB Drive Files\\Year 3\\Semester 1\\KV6003 - Individual Computing Project\\Machine Learning\\kf_ml_lib.py:91: RuntimeWarning: invalid value encountered in double_scalars\n",
      "  f1_score = 2 * ((precision*recall) / (precision+recall))\n"
     ]
    },
    {
     "name": "stdout",
     "output_type": "stream",
     "text": [
      "f1_score =  nan\n"
     ]
    },
    {
     "name": "stderr",
     "output_type": "stream",
     "text": [
      "c:\\users\\asmarus\\anaconda3\\envs\\tensorflow-gpu\\lib\\site-packages\\sklearn\\metrics\\_classification.py:1272: UndefinedMetricWarning: Precision is ill-defined and being set to 0.0 due to no predicted samples. Use `zero_division` parameter to control this behavior.\n",
      "  _warn_prf(average, modifier, msg_start, len(result))\n",
      "G:\\USB Drive Files\\Year 3\\Semester 1\\KV6003 - Individual Computing Project\\Machine Learning\\kf_ml_lib.py:91: RuntimeWarning: invalid value encountered in double_scalars\n",
      "  f1_score = 2 * ((precision*recall) / (precision+recall))\n"
     ]
    },
    {
     "name": "stdout",
     "output_type": "stream",
     "text": [
      "f1_score =  nan\n",
      "f1_score =  0.5120032990662465\n",
      "f1_score =  0.5120032990662465\n",
      "f1_score =  0.5120032990662465\n"
     ]
    },
    {
     "name": "stderr",
     "output_type": "stream",
     "text": [
      "c:\\users\\asmarus\\anaconda3\\envs\\tensorflow-gpu\\lib\\site-packages\\sklearn\\metrics\\_classification.py:1272: UndefinedMetricWarning: Precision is ill-defined and being set to 0.0 due to no predicted samples. Use `zero_division` parameter to control this behavior.\n",
      "  _warn_prf(average, modifier, msg_start, len(result))\n",
      "G:\\USB Drive Files\\Year 3\\Semester 1\\KV6003 - Individual Computing Project\\Machine Learning\\kf_ml_lib.py:91: RuntimeWarning: invalid value encountered in double_scalars\n",
      "  f1_score = 2 * ((precision*recall) / (precision+recall))\n"
     ]
    },
    {
     "name": "stdout",
     "output_type": "stream",
     "text": [
      "f1_score =  nan\n",
      "f1_score =  0.5120032990662465\n",
      "f1_score =  0.5120032990662465\n",
      "f1_score =  0.5120032990662465\n"
     ]
    },
    {
     "name": "stderr",
     "output_type": "stream",
     "text": [
      "c:\\users\\asmarus\\anaconda3\\envs\\tensorflow-gpu\\lib\\site-packages\\sklearn\\metrics\\_classification.py:1272: UndefinedMetricWarning: Precision is ill-defined and being set to 0.0 due to no predicted samples. Use `zero_division` parameter to control this behavior.\n",
      "  _warn_prf(average, modifier, msg_start, len(result))\n",
      "G:\\USB Drive Files\\Year 3\\Semester 1\\KV6003 - Individual Computing Project\\Machine Learning\\kf_ml_lib.py:91: RuntimeWarning: invalid value encountered in double_scalars\n",
      "  f1_score = 2 * ((precision*recall) / (precision+recall))\n"
     ]
    },
    {
     "name": "stdout",
     "output_type": "stream",
     "text": [
      "f1_score =  nan\n",
      "13 \t10    \tnan\tnan\tnan\tnan\n"
     ]
    },
    {
     "name": "stderr",
     "output_type": "stream",
     "text": [
      "c:\\users\\asmarus\\anaconda3\\envs\\tensorflow-gpu\\lib\\site-packages\\sklearn\\metrics\\_classification.py:1272: UndefinedMetricWarning: Precision is ill-defined and being set to 0.0 due to no predicted samples. Use `zero_division` parameter to control this behavior.\n",
      "  _warn_prf(average, modifier, msg_start, len(result))\n",
      "G:\\USB Drive Files\\Year 3\\Semester 1\\KV6003 - Individual Computing Project\\Machine Learning\\kf_ml_lib.py:91: RuntimeWarning: invalid value encountered in double_scalars\n",
      "  f1_score = 2 * ((precision*recall) / (precision+recall))\n"
     ]
    },
    {
     "name": "stdout",
     "output_type": "stream",
     "text": [
      "f1_score =  nan\n",
      "f1_score =  0.5120032990662465\n"
     ]
    },
    {
     "name": "stderr",
     "output_type": "stream",
     "text": [
      "c:\\users\\asmarus\\anaconda3\\envs\\tensorflow-gpu\\lib\\site-packages\\sklearn\\metrics\\_classification.py:1272: UndefinedMetricWarning: Precision is ill-defined and being set to 0.0 due to no predicted samples. Use `zero_division` parameter to control this behavior.\n",
      "  _warn_prf(average, modifier, msg_start, len(result))\n",
      "G:\\USB Drive Files\\Year 3\\Semester 1\\KV6003 - Individual Computing Project\\Machine Learning\\kf_ml_lib.py:91: RuntimeWarning: invalid value encountered in double_scalars\n",
      "  f1_score = 2 * ((precision*recall) / (precision+recall))\n"
     ]
    },
    {
     "name": "stdout",
     "output_type": "stream",
     "text": [
      "f1_score =  nan\n",
      "f1_score =  0.5120032990662465\n",
      "f1_score =  0.5120032990662465\n"
     ]
    },
    {
     "name": "stderr",
     "output_type": "stream",
     "text": [
      "c:\\users\\asmarus\\anaconda3\\envs\\tensorflow-gpu\\lib\\site-packages\\sklearn\\metrics\\_classification.py:1272: UndefinedMetricWarning: Precision is ill-defined and being set to 0.0 due to no predicted samples. Use `zero_division` parameter to control this behavior.\n",
      "  _warn_prf(average, modifier, msg_start, len(result))\n",
      "G:\\USB Drive Files\\Year 3\\Semester 1\\KV6003 - Individual Computing Project\\Machine Learning\\kf_ml_lib.py:91: RuntimeWarning: invalid value encountered in double_scalars\n",
      "  f1_score = 2 * ((precision*recall) / (precision+recall))\n"
     ]
    },
    {
     "name": "stdout",
     "output_type": "stream",
     "text": [
      "f1_score =  nan\n"
     ]
    },
    {
     "name": "stderr",
     "output_type": "stream",
     "text": [
      "c:\\users\\asmarus\\anaconda3\\envs\\tensorflow-gpu\\lib\\site-packages\\sklearn\\metrics\\_classification.py:1272: UndefinedMetricWarning: Precision is ill-defined and being set to 0.0 due to no predicted samples. Use `zero_division` parameter to control this behavior.\n",
      "  _warn_prf(average, modifier, msg_start, len(result))\n",
      "G:\\USB Drive Files\\Year 3\\Semester 1\\KV6003 - Individual Computing Project\\Machine Learning\\kf_ml_lib.py:91: RuntimeWarning: invalid value encountered in double_scalars\n",
      "  f1_score = 2 * ((precision*recall) / (precision+recall))\n"
     ]
    },
    {
     "name": "stdout",
     "output_type": "stream",
     "text": [
      "f1_score =  nan\n"
     ]
    },
    {
     "name": "stderr",
     "output_type": "stream",
     "text": [
      "c:\\users\\asmarus\\anaconda3\\envs\\tensorflow-gpu\\lib\\site-packages\\sklearn\\metrics\\_classification.py:1272: UndefinedMetricWarning: Precision is ill-defined and being set to 0.0 due to no predicted samples. Use `zero_division` parameter to control this behavior.\n",
      "  _warn_prf(average, modifier, msg_start, len(result))\n",
      "G:\\USB Drive Files\\Year 3\\Semester 1\\KV6003 - Individual Computing Project\\Machine Learning\\kf_ml_lib.py:91: RuntimeWarning: invalid value encountered in double_scalars\n",
      "  f1_score = 2 * ((precision*recall) / (precision+recall))\n"
     ]
    },
    {
     "name": "stdout",
     "output_type": "stream",
     "text": [
      "f1_score =  nan\n",
      "f1_score =  0.5120032990662465\n",
      "f1_score =  0.5120032990662465\n",
      "14 \t10    \tnan\tnan\tnan\tnan\n",
      "f1_score =  0.5120032990662465\n"
     ]
    },
    {
     "name": "stderr",
     "output_type": "stream",
     "text": [
      "c:\\users\\asmarus\\anaconda3\\envs\\tensorflow-gpu\\lib\\site-packages\\sklearn\\metrics\\_classification.py:1272: UndefinedMetricWarning: Precision is ill-defined and being set to 0.0 due to no predicted samples. Use `zero_division` parameter to control this behavior.\n",
      "  _warn_prf(average, modifier, msg_start, len(result))\n",
      "G:\\USB Drive Files\\Year 3\\Semester 1\\KV6003 - Individual Computing Project\\Machine Learning\\kf_ml_lib.py:91: RuntimeWarning: invalid value encountered in double_scalars\n",
      "  f1_score = 2 * ((precision*recall) / (precision+recall))\n"
     ]
    },
    {
     "name": "stdout",
     "output_type": "stream",
     "text": [
      "f1_score =  nan\n",
      "f1_score =  0.5120032990662465\n"
     ]
    },
    {
     "name": "stderr",
     "output_type": "stream",
     "text": [
      "c:\\users\\asmarus\\anaconda3\\envs\\tensorflow-gpu\\lib\\site-packages\\sklearn\\metrics\\_classification.py:1272: UndefinedMetricWarning: Precision is ill-defined and being set to 0.0 due to no predicted samples. Use `zero_division` parameter to control this behavior.\n",
      "  _warn_prf(average, modifier, msg_start, len(result))\n",
      "G:\\USB Drive Files\\Year 3\\Semester 1\\KV6003 - Individual Computing Project\\Machine Learning\\kf_ml_lib.py:91: RuntimeWarning: invalid value encountered in double_scalars\n",
      "  f1_score = 2 * ((precision*recall) / (precision+recall))\n"
     ]
    },
    {
     "name": "stdout",
     "output_type": "stream",
     "text": [
      "f1_score =  nan\n"
     ]
    },
    {
     "name": "stderr",
     "output_type": "stream",
     "text": [
      "c:\\users\\asmarus\\anaconda3\\envs\\tensorflow-gpu\\lib\\site-packages\\sklearn\\metrics\\_classification.py:1272: UndefinedMetricWarning: Precision is ill-defined and being set to 0.0 due to no predicted samples. Use `zero_division` parameter to control this behavior.\n",
      "  _warn_prf(average, modifier, msg_start, len(result))\n",
      "G:\\USB Drive Files\\Year 3\\Semester 1\\KV6003 - Individual Computing Project\\Machine Learning\\kf_ml_lib.py:91: RuntimeWarning: invalid value encountered in double_scalars\n",
      "  f1_score = 2 * ((precision*recall) / (precision+recall))\n"
     ]
    },
    {
     "name": "stdout",
     "output_type": "stream",
     "text": [
      "f1_score =  nan\n"
     ]
    },
    {
     "name": "stderr",
     "output_type": "stream",
     "text": [
      "c:\\users\\asmarus\\anaconda3\\envs\\tensorflow-gpu\\lib\\site-packages\\sklearn\\metrics\\_classification.py:1272: UndefinedMetricWarning: Precision is ill-defined and being set to 0.0 due to no predicted samples. Use `zero_division` parameter to control this behavior.\n",
      "  _warn_prf(average, modifier, msg_start, len(result))\n",
      "G:\\USB Drive Files\\Year 3\\Semester 1\\KV6003 - Individual Computing Project\\Machine Learning\\kf_ml_lib.py:91: RuntimeWarning: invalid value encountered in double_scalars\n",
      "  f1_score = 2 * ((precision*recall) / (precision+recall))\n"
     ]
    },
    {
     "name": "stdout",
     "output_type": "stream",
     "text": [
      "f1_score =  nan\n"
     ]
    },
    {
     "name": "stderr",
     "output_type": "stream",
     "text": [
      "c:\\users\\asmarus\\anaconda3\\envs\\tensorflow-gpu\\lib\\site-packages\\sklearn\\metrics\\_classification.py:1272: UndefinedMetricWarning: Precision is ill-defined and being set to 0.0 due to no predicted samples. Use `zero_division` parameter to control this behavior.\n",
      "  _warn_prf(average, modifier, msg_start, len(result))\n",
      "G:\\USB Drive Files\\Year 3\\Semester 1\\KV6003 - Individual Computing Project\\Machine Learning\\kf_ml_lib.py:91: RuntimeWarning: invalid value encountered in double_scalars\n",
      "  f1_score = 2 * ((precision*recall) / (precision+recall))\n"
     ]
    },
    {
     "name": "stdout",
     "output_type": "stream",
     "text": [
      "f1_score =  nan\n",
      "f1_score =  0.5120032990662465\n"
     ]
    },
    {
     "name": "stderr",
     "output_type": "stream",
     "text": [
      "c:\\users\\asmarus\\anaconda3\\envs\\tensorflow-gpu\\lib\\site-packages\\sklearn\\metrics\\_classification.py:1272: UndefinedMetricWarning: Precision is ill-defined and being set to 0.0 due to no predicted samples. Use `zero_division` parameter to control this behavior.\n",
      "  _warn_prf(average, modifier, msg_start, len(result))\n",
      "G:\\USB Drive Files\\Year 3\\Semester 1\\KV6003 - Individual Computing Project\\Machine Learning\\kf_ml_lib.py:91: RuntimeWarning: invalid value encountered in double_scalars\n",
      "  f1_score = 2 * ((precision*recall) / (precision+recall))\n"
     ]
    },
    {
     "name": "stdout",
     "output_type": "stream",
     "text": [
      "f1_score =  nan\n",
      "15 \t9     \tnan\tnan\tnan\tnan\n",
      "f1_score =  0.5120032990662465\n"
     ]
    },
    {
     "name": "stderr",
     "output_type": "stream",
     "text": [
      "c:\\users\\asmarus\\anaconda3\\envs\\tensorflow-gpu\\lib\\site-packages\\sklearn\\metrics\\_classification.py:1272: UndefinedMetricWarning: Precision is ill-defined and being set to 0.0 due to no predicted samples. Use `zero_division` parameter to control this behavior.\n",
      "  _warn_prf(average, modifier, msg_start, len(result))\n",
      "G:\\USB Drive Files\\Year 3\\Semester 1\\KV6003 - Individual Computing Project\\Machine Learning\\kf_ml_lib.py:91: RuntimeWarning: invalid value encountered in double_scalars\n",
      "  f1_score = 2 * ((precision*recall) / (precision+recall))\n"
     ]
    },
    {
     "name": "stdout",
     "output_type": "stream",
     "text": [
      "f1_score =  nan\n",
      "f1_score =  0.5120032990662465\n"
     ]
    },
    {
     "name": "stderr",
     "output_type": "stream",
     "text": [
      "c:\\users\\asmarus\\anaconda3\\envs\\tensorflow-gpu\\lib\\site-packages\\sklearn\\metrics\\_classification.py:1272: UndefinedMetricWarning: Precision is ill-defined and being set to 0.0 due to no predicted samples. Use `zero_division` parameter to control this behavior.\n",
      "  _warn_prf(average, modifier, msg_start, len(result))\n",
      "G:\\USB Drive Files\\Year 3\\Semester 1\\KV6003 - Individual Computing Project\\Machine Learning\\kf_ml_lib.py:91: RuntimeWarning: invalid value encountered in double_scalars\n",
      "  f1_score = 2 * ((precision*recall) / (precision+recall))\n"
     ]
    },
    {
     "name": "stdout",
     "output_type": "stream",
     "text": [
      "f1_score =  nan\n"
     ]
    },
    {
     "name": "stderr",
     "output_type": "stream",
     "text": [
      "c:\\users\\asmarus\\anaconda3\\envs\\tensorflow-gpu\\lib\\site-packages\\sklearn\\metrics\\_classification.py:1272: UndefinedMetricWarning: Precision is ill-defined and being set to 0.0 due to no predicted samples. Use `zero_division` parameter to control this behavior.\n",
      "  _warn_prf(average, modifier, msg_start, len(result))\n",
      "G:\\USB Drive Files\\Year 3\\Semester 1\\KV6003 - Individual Computing Project\\Machine Learning\\kf_ml_lib.py:91: RuntimeWarning: invalid value encountered in double_scalars\n",
      "  f1_score = 2 * ((precision*recall) / (precision+recall))\n"
     ]
    },
    {
     "name": "stdout",
     "output_type": "stream",
     "text": [
      "f1_score =  nan\n"
     ]
    },
    {
     "name": "stderr",
     "output_type": "stream",
     "text": [
      "c:\\users\\asmarus\\anaconda3\\envs\\tensorflow-gpu\\lib\\site-packages\\sklearn\\metrics\\_classification.py:1272: UndefinedMetricWarning: Precision is ill-defined and being set to 0.0 due to no predicted samples. Use `zero_division` parameter to control this behavior.\n",
      "  _warn_prf(average, modifier, msg_start, len(result))\n",
      "G:\\USB Drive Files\\Year 3\\Semester 1\\KV6003 - Individual Computing Project\\Machine Learning\\kf_ml_lib.py:91: RuntimeWarning: invalid value encountered in double_scalars\n",
      "  f1_score = 2 * ((precision*recall) / (precision+recall))\n"
     ]
    },
    {
     "name": "stdout",
     "output_type": "stream",
     "text": [
      "f1_score =  nan\n",
      "f1_score =  0.5120032990662465\n"
     ]
    },
    {
     "name": "stderr",
     "output_type": "stream",
     "text": [
      "c:\\users\\asmarus\\anaconda3\\envs\\tensorflow-gpu\\lib\\site-packages\\sklearn\\metrics\\_classification.py:1272: UndefinedMetricWarning: Precision is ill-defined and being set to 0.0 due to no predicted samples. Use `zero_division` parameter to control this behavior.\n",
      "  _warn_prf(average, modifier, msg_start, len(result))\n",
      "G:\\USB Drive Files\\Year 3\\Semester 1\\KV6003 - Individual Computing Project\\Machine Learning\\kf_ml_lib.py:91: RuntimeWarning: invalid value encountered in double_scalars\n",
      "  f1_score = 2 * ((precision*recall) / (precision+recall))\n"
     ]
    },
    {
     "name": "stdout",
     "output_type": "stream",
     "text": [
      "f1_score =  nan\n",
      "16 \t8     \tnan\tnan\tnan\tnan\n"
     ]
    },
    {
     "name": "stderr",
     "output_type": "stream",
     "text": [
      "c:\\users\\asmarus\\anaconda3\\envs\\tensorflow-gpu\\lib\\site-packages\\sklearn\\metrics\\_classification.py:1272: UndefinedMetricWarning: Precision is ill-defined and being set to 0.0 due to no predicted samples. Use `zero_division` parameter to control this behavior.\n",
      "  _warn_prf(average, modifier, msg_start, len(result))\n",
      "G:\\USB Drive Files\\Year 3\\Semester 1\\KV6003 - Individual Computing Project\\Machine Learning\\kf_ml_lib.py:91: RuntimeWarning: invalid value encountered in double_scalars\n",
      "  f1_score = 2 * ((precision*recall) / (precision+recall))\n"
     ]
    },
    {
     "name": "stdout",
     "output_type": "stream",
     "text": [
      "f1_score =  nan\n",
      "f1_score =  0.5120032990662465\n"
     ]
    },
    {
     "name": "stderr",
     "output_type": "stream",
     "text": [
      "c:\\users\\asmarus\\anaconda3\\envs\\tensorflow-gpu\\lib\\site-packages\\sklearn\\metrics\\_classification.py:1272: UndefinedMetricWarning: Precision is ill-defined and being set to 0.0 due to no predicted samples. Use `zero_division` parameter to control this behavior.\n",
      "  _warn_prf(average, modifier, msg_start, len(result))\n",
      "G:\\USB Drive Files\\Year 3\\Semester 1\\KV6003 - Individual Computing Project\\Machine Learning\\kf_ml_lib.py:91: RuntimeWarning: invalid value encountered in double_scalars\n",
      "  f1_score = 2 * ((precision*recall) / (precision+recall))\n"
     ]
    },
    {
     "name": "stdout",
     "output_type": "stream",
     "text": [
      "f1_score =  nan\n"
     ]
    },
    {
     "name": "stderr",
     "output_type": "stream",
     "text": [
      "c:\\users\\asmarus\\anaconda3\\envs\\tensorflow-gpu\\lib\\site-packages\\sklearn\\metrics\\_classification.py:1272: UndefinedMetricWarning: Precision is ill-defined and being set to 0.0 due to no predicted samples. Use `zero_division` parameter to control this behavior.\n",
      "  _warn_prf(average, modifier, msg_start, len(result))\n",
      "G:\\USB Drive Files\\Year 3\\Semester 1\\KV6003 - Individual Computing Project\\Machine Learning\\kf_ml_lib.py:91: RuntimeWarning: invalid value encountered in double_scalars\n",
      "  f1_score = 2 * ((precision*recall) / (precision+recall))\n"
     ]
    },
    {
     "name": "stdout",
     "output_type": "stream",
     "text": [
      "f1_score =  nan\n",
      "f1_score =  0.5120032990662465\n",
      "f1_score =  0.5120032990662465\n",
      "f1_score =  0.5120032990662465\n"
     ]
    },
    {
     "name": "stderr",
     "output_type": "stream",
     "text": [
      "c:\\users\\asmarus\\anaconda3\\envs\\tensorflow-gpu\\lib\\site-packages\\sklearn\\metrics\\_classification.py:1272: UndefinedMetricWarning: Precision is ill-defined and being set to 0.0 due to no predicted samples. Use `zero_division` parameter to control this behavior.\n",
      "  _warn_prf(average, modifier, msg_start, len(result))\n",
      "G:\\USB Drive Files\\Year 3\\Semester 1\\KV6003 - Individual Computing Project\\Machine Learning\\kf_ml_lib.py:91: RuntimeWarning: invalid value encountered in double_scalars\n",
      "  f1_score = 2 * ((precision*recall) / (precision+recall))\n"
     ]
    },
    {
     "name": "stdout",
     "output_type": "stream",
     "text": [
      "f1_score =  nan\n",
      "17 \t8     \tnan\tnan\tnan\tnan\n"
     ]
    },
    {
     "name": "stderr",
     "output_type": "stream",
     "text": [
      "c:\\users\\asmarus\\anaconda3\\envs\\tensorflow-gpu\\lib\\site-packages\\sklearn\\metrics\\_classification.py:1272: UndefinedMetricWarning: Precision is ill-defined and being set to 0.0 due to no predicted samples. Use `zero_division` parameter to control this behavior.\n",
      "  _warn_prf(average, modifier, msg_start, len(result))\n",
      "G:\\USB Drive Files\\Year 3\\Semester 1\\KV6003 - Individual Computing Project\\Machine Learning\\kf_ml_lib.py:91: RuntimeWarning: invalid value encountered in double_scalars\n",
      "  f1_score = 2 * ((precision*recall) / (precision+recall))\n"
     ]
    },
    {
     "name": "stdout",
     "output_type": "stream",
     "text": [
      "f1_score =  nan\n"
     ]
    },
    {
     "name": "stderr",
     "output_type": "stream",
     "text": [
      "c:\\users\\asmarus\\anaconda3\\envs\\tensorflow-gpu\\lib\\site-packages\\sklearn\\metrics\\_classification.py:1272: UndefinedMetricWarning: Precision is ill-defined and being set to 0.0 due to no predicted samples. Use `zero_division` parameter to control this behavior.\n",
      "  _warn_prf(average, modifier, msg_start, len(result))\n",
      "G:\\USB Drive Files\\Year 3\\Semester 1\\KV6003 - Individual Computing Project\\Machine Learning\\kf_ml_lib.py:91: RuntimeWarning: invalid value encountered in double_scalars\n",
      "  f1_score = 2 * ((precision*recall) / (precision+recall))\n"
     ]
    },
    {
     "name": "stdout",
     "output_type": "stream",
     "text": [
      "f1_score =  nan\n"
     ]
    },
    {
     "name": "stderr",
     "output_type": "stream",
     "text": [
      "c:\\users\\asmarus\\anaconda3\\envs\\tensorflow-gpu\\lib\\site-packages\\sklearn\\metrics\\_classification.py:1272: UndefinedMetricWarning: Precision is ill-defined and being set to 0.0 due to no predicted samples. Use `zero_division` parameter to control this behavior.\n",
      "  _warn_prf(average, modifier, msg_start, len(result))\n",
      "G:\\USB Drive Files\\Year 3\\Semester 1\\KV6003 - Individual Computing Project\\Machine Learning\\kf_ml_lib.py:91: RuntimeWarning: invalid value encountered in double_scalars\n",
      "  f1_score = 2 * ((precision*recall) / (precision+recall))\n"
     ]
    },
    {
     "name": "stdout",
     "output_type": "stream",
     "text": [
      "f1_score =  nan\n",
      "f1_score =  0.5120032990662465\n",
      "f1_score =  0.5120032990662465\n",
      "f1_score =  0.5120032990662465\n"
     ]
    },
    {
     "name": "stderr",
     "output_type": "stream",
     "text": [
      "c:\\users\\asmarus\\anaconda3\\envs\\tensorflow-gpu\\lib\\site-packages\\sklearn\\metrics\\_classification.py:1272: UndefinedMetricWarning: Precision is ill-defined and being set to 0.0 due to no predicted samples. Use `zero_division` parameter to control this behavior.\n",
      "  _warn_prf(average, modifier, msg_start, len(result))\n",
      "G:\\USB Drive Files\\Year 3\\Semester 1\\KV6003 - Individual Computing Project\\Machine Learning\\kf_ml_lib.py:91: RuntimeWarning: invalid value encountered in double_scalars\n",
      "  f1_score = 2 * ((precision*recall) / (precision+recall))\n"
     ]
    },
    {
     "name": "stdout",
     "output_type": "stream",
     "text": [
      "f1_score =  nan\n"
     ]
    },
    {
     "name": "stderr",
     "output_type": "stream",
     "text": [
      "c:\\users\\asmarus\\anaconda3\\envs\\tensorflow-gpu\\lib\\site-packages\\sklearn\\metrics\\_classification.py:1272: UndefinedMetricWarning: Precision is ill-defined and being set to 0.0 due to no predicted samples. Use `zero_division` parameter to control this behavior.\n",
      "  _warn_prf(average, modifier, msg_start, len(result))\n",
      "G:\\USB Drive Files\\Year 3\\Semester 1\\KV6003 - Individual Computing Project\\Machine Learning\\kf_ml_lib.py:91: RuntimeWarning: invalid value encountered in double_scalars\n",
      "  f1_score = 2 * ((precision*recall) / (precision+recall))\n"
     ]
    },
    {
     "name": "stdout",
     "output_type": "stream",
     "text": [
      "f1_score =  nan\n",
      "f1_score =  0.5120032990662465\n"
     ]
    },
    {
     "name": "stderr",
     "output_type": "stream",
     "text": [
      "c:\\users\\asmarus\\anaconda3\\envs\\tensorflow-gpu\\lib\\site-packages\\sklearn\\metrics\\_classification.py:1272: UndefinedMetricWarning: Precision is ill-defined and being set to 0.0 due to no predicted samples. Use `zero_division` parameter to control this behavior.\n",
      "  _warn_prf(average, modifier, msg_start, len(result))\n",
      "G:\\USB Drive Files\\Year 3\\Semester 1\\KV6003 - Individual Computing Project\\Machine Learning\\kf_ml_lib.py:91: RuntimeWarning: invalid value encountered in double_scalars\n",
      "  f1_score = 2 * ((precision*recall) / (precision+recall))\n"
     ]
    },
    {
     "name": "stdout",
     "output_type": "stream",
     "text": [
      "f1_score =  nan\n",
      "18 \t10    \tnan\tnan\tnan\tnan\n"
     ]
    },
    {
     "name": "stderr",
     "output_type": "stream",
     "text": [
      "c:\\users\\asmarus\\anaconda3\\envs\\tensorflow-gpu\\lib\\site-packages\\sklearn\\metrics\\_classification.py:1272: UndefinedMetricWarning: Precision is ill-defined and being set to 0.0 due to no predicted samples. Use `zero_division` parameter to control this behavior.\n",
      "  _warn_prf(average, modifier, msg_start, len(result))\n",
      "G:\\USB Drive Files\\Year 3\\Semester 1\\KV6003 - Individual Computing Project\\Machine Learning\\kf_ml_lib.py:91: RuntimeWarning: invalid value encountered in double_scalars\n",
      "  f1_score = 2 * ((precision*recall) / (precision+recall))\n"
     ]
    },
    {
     "name": "stdout",
     "output_type": "stream",
     "text": [
      "f1_score =  nan\n"
     ]
    },
    {
     "name": "stderr",
     "output_type": "stream",
     "text": [
      "c:\\users\\asmarus\\anaconda3\\envs\\tensorflow-gpu\\lib\\site-packages\\sklearn\\metrics\\_classification.py:1272: UndefinedMetricWarning: Precision is ill-defined and being set to 0.0 due to no predicted samples. Use `zero_division` parameter to control this behavior.\n",
      "  _warn_prf(average, modifier, msg_start, len(result))\n",
      "G:\\USB Drive Files\\Year 3\\Semester 1\\KV6003 - Individual Computing Project\\Machine Learning\\kf_ml_lib.py:91: RuntimeWarning: invalid value encountered in double_scalars\n",
      "  f1_score = 2 * ((precision*recall) / (precision+recall))\n"
     ]
    },
    {
     "name": "stdout",
     "output_type": "stream",
     "text": [
      "f1_score =  nan\n",
      "f1_score =  0.5120032990662465\n"
     ]
    },
    {
     "name": "stderr",
     "output_type": "stream",
     "text": [
      "c:\\users\\asmarus\\anaconda3\\envs\\tensorflow-gpu\\lib\\site-packages\\sklearn\\metrics\\_classification.py:1272: UndefinedMetricWarning: Precision is ill-defined and being set to 0.0 due to no predicted samples. Use `zero_division` parameter to control this behavior.\n",
      "  _warn_prf(average, modifier, msg_start, len(result))\n",
      "G:\\USB Drive Files\\Year 3\\Semester 1\\KV6003 - Individual Computing Project\\Machine Learning\\kf_ml_lib.py:91: RuntimeWarning: invalid value encountered in double_scalars\n",
      "  f1_score = 2 * ((precision*recall) / (precision+recall))\n"
     ]
    },
    {
     "name": "stdout",
     "output_type": "stream",
     "text": [
      "f1_score =  nan\n"
     ]
    },
    {
     "name": "stderr",
     "output_type": "stream",
     "text": [
      "c:\\users\\asmarus\\anaconda3\\envs\\tensorflow-gpu\\lib\\site-packages\\sklearn\\metrics\\_classification.py:1272: UndefinedMetricWarning: Precision is ill-defined and being set to 0.0 due to no predicted samples. Use `zero_division` parameter to control this behavior.\n",
      "  _warn_prf(average, modifier, msg_start, len(result))\n",
      "G:\\USB Drive Files\\Year 3\\Semester 1\\KV6003 - Individual Computing Project\\Machine Learning\\kf_ml_lib.py:91: RuntimeWarning: invalid value encountered in double_scalars\n",
      "  f1_score = 2 * ((precision*recall) / (precision+recall))\n"
     ]
    },
    {
     "name": "stdout",
     "output_type": "stream",
     "text": [
      "f1_score =  nan\n"
     ]
    },
    {
     "name": "stderr",
     "output_type": "stream",
     "text": [
      "c:\\users\\asmarus\\anaconda3\\envs\\tensorflow-gpu\\lib\\site-packages\\sklearn\\metrics\\_classification.py:1272: UndefinedMetricWarning: Precision is ill-defined and being set to 0.0 due to no predicted samples. Use `zero_division` parameter to control this behavior.\n",
      "  _warn_prf(average, modifier, msg_start, len(result))\n",
      "G:\\USB Drive Files\\Year 3\\Semester 1\\KV6003 - Individual Computing Project\\Machine Learning\\kf_ml_lib.py:91: RuntimeWarning: invalid value encountered in double_scalars\n",
      "  f1_score = 2 * ((precision*recall) / (precision+recall))\n"
     ]
    },
    {
     "name": "stdout",
     "output_type": "stream",
     "text": [
      "f1_score =  nan\n"
     ]
    },
    {
     "name": "stderr",
     "output_type": "stream",
     "text": [
      "c:\\users\\asmarus\\anaconda3\\envs\\tensorflow-gpu\\lib\\site-packages\\sklearn\\metrics\\_classification.py:1272: UndefinedMetricWarning: Precision is ill-defined and being set to 0.0 due to no predicted samples. Use `zero_division` parameter to control this behavior.\n",
      "  _warn_prf(average, modifier, msg_start, len(result))\n",
      "G:\\USB Drive Files\\Year 3\\Semester 1\\KV6003 - Individual Computing Project\\Machine Learning\\kf_ml_lib.py:91: RuntimeWarning: invalid value encountered in double_scalars\n",
      "  f1_score = 2 * ((precision*recall) / (precision+recall))\n"
     ]
    },
    {
     "name": "stdout",
     "output_type": "stream",
     "text": [
      "f1_score =  nan\n"
     ]
    },
    {
     "name": "stderr",
     "output_type": "stream",
     "text": [
      "c:\\users\\asmarus\\anaconda3\\envs\\tensorflow-gpu\\lib\\site-packages\\sklearn\\metrics\\_classification.py:1272: UndefinedMetricWarning: Precision is ill-defined and being set to 0.0 due to no predicted samples. Use `zero_division` parameter to control this behavior.\n",
      "  _warn_prf(average, modifier, msg_start, len(result))\n",
      "G:\\USB Drive Files\\Year 3\\Semester 1\\KV6003 - Individual Computing Project\\Machine Learning\\kf_ml_lib.py:91: RuntimeWarning: invalid value encountered in double_scalars\n",
      "  f1_score = 2 * ((precision*recall) / (precision+recall))\n"
     ]
    },
    {
     "name": "stdout",
     "output_type": "stream",
     "text": [
      "f1_score =  nan\n",
      "f1_score =  0.5120032990662465\n",
      "19 \t9     \tnan\tnan\tnan\tnan\n",
      "f1_score =  0.5120032990662465\n"
     ]
    },
    {
     "name": "stderr",
     "output_type": "stream",
     "text": [
      "c:\\users\\asmarus\\anaconda3\\envs\\tensorflow-gpu\\lib\\site-packages\\sklearn\\metrics\\_classification.py:1272: UndefinedMetricWarning: Precision is ill-defined and being set to 0.0 due to no predicted samples. Use `zero_division` parameter to control this behavior.\n",
      "  _warn_prf(average, modifier, msg_start, len(result))\n",
      "G:\\USB Drive Files\\Year 3\\Semester 1\\KV6003 - Individual Computing Project\\Machine Learning\\kf_ml_lib.py:91: RuntimeWarning: invalid value encountered in double_scalars\n",
      "  f1_score = 2 * ((precision*recall) / (precision+recall))\n"
     ]
    },
    {
     "name": "stdout",
     "output_type": "stream",
     "text": [
      "f1_score =  nan\n"
     ]
    },
    {
     "name": "stderr",
     "output_type": "stream",
     "text": [
      "c:\\users\\asmarus\\anaconda3\\envs\\tensorflow-gpu\\lib\\site-packages\\sklearn\\metrics\\_classification.py:1272: UndefinedMetricWarning: Precision is ill-defined and being set to 0.0 due to no predicted samples. Use `zero_division` parameter to control this behavior.\n",
      "  _warn_prf(average, modifier, msg_start, len(result))\n",
      "G:\\USB Drive Files\\Year 3\\Semester 1\\KV6003 - Individual Computing Project\\Machine Learning\\kf_ml_lib.py:91: RuntimeWarning: invalid value encountered in double_scalars\n",
      "  f1_score = 2 * ((precision*recall) / (precision+recall))\n"
     ]
    },
    {
     "name": "stdout",
     "output_type": "stream",
     "text": [
      "f1_score =  nan\n"
     ]
    },
    {
     "name": "stderr",
     "output_type": "stream",
     "text": [
      "c:\\users\\asmarus\\anaconda3\\envs\\tensorflow-gpu\\lib\\site-packages\\sklearn\\metrics\\_classification.py:1272: UndefinedMetricWarning: Precision is ill-defined and being set to 0.0 due to no predicted samples. Use `zero_division` parameter to control this behavior.\n",
      "  _warn_prf(average, modifier, msg_start, len(result))\n",
      "G:\\USB Drive Files\\Year 3\\Semester 1\\KV6003 - Individual Computing Project\\Machine Learning\\kf_ml_lib.py:91: RuntimeWarning: invalid value encountered in double_scalars\n",
      "  f1_score = 2 * ((precision*recall) / (precision+recall))\n"
     ]
    },
    {
     "name": "stdout",
     "output_type": "stream",
     "text": [
      "f1_score =  nan\n"
     ]
    },
    {
     "name": "stderr",
     "output_type": "stream",
     "text": [
      "c:\\users\\asmarus\\anaconda3\\envs\\tensorflow-gpu\\lib\\site-packages\\sklearn\\metrics\\_classification.py:1272: UndefinedMetricWarning: Precision is ill-defined and being set to 0.0 due to no predicted samples. Use `zero_division` parameter to control this behavior.\n",
      "  _warn_prf(average, modifier, msg_start, len(result))\n",
      "G:\\USB Drive Files\\Year 3\\Semester 1\\KV6003 - Individual Computing Project\\Machine Learning\\kf_ml_lib.py:91: RuntimeWarning: invalid value encountered in double_scalars\n",
      "  f1_score = 2 * ((precision*recall) / (precision+recall))\n"
     ]
    },
    {
     "name": "stdout",
     "output_type": "stream",
     "text": [
      "f1_score =  nan\n",
      "f1_score =  0.5120032990662465\n",
      "f1_score =  0.6544344329436295\n"
     ]
    },
    {
     "name": "stderr",
     "output_type": "stream",
     "text": [
      "c:\\users\\asmarus\\anaconda3\\envs\\tensorflow-gpu\\lib\\site-packages\\sklearn\\metrics\\_classification.py:1272: UndefinedMetricWarning: Precision is ill-defined and being set to 0.0 due to no predicted samples. Use `zero_division` parameter to control this behavior.\n",
      "  _warn_prf(average, modifier, msg_start, len(result))\n",
      "G:\\USB Drive Files\\Year 3\\Semester 1\\KV6003 - Individual Computing Project\\Machine Learning\\kf_ml_lib.py:91: RuntimeWarning: invalid value encountered in double_scalars\n",
      "  f1_score = 2 * ((precision*recall) / (precision+recall))\n"
     ]
    },
    {
     "name": "stdout",
     "output_type": "stream",
     "text": [
      "f1_score =  nan\n",
      "f1_score =  0.5120032990662465\n"
     ]
    },
    {
     "name": "stderr",
     "output_type": "stream",
     "text": [
      "c:\\users\\asmarus\\anaconda3\\envs\\tensorflow-gpu\\lib\\site-packages\\sklearn\\metrics\\_classification.py:1272: UndefinedMetricWarning: Precision is ill-defined and being set to 0.0 due to no predicted samples. Use `zero_division` parameter to control this behavior.\n",
      "  _warn_prf(average, modifier, msg_start, len(result))\n"
     ]
    },
    {
     "name": "stdout",
     "output_type": "stream",
     "text": [
      "f1_score =  nan\n",
      "20 \t10    \tnan\tnan\tnan\tnan\n",
      "BEST PARAMETERS =  ['gini', 'best', 43, 0.07250229681880183, 0.08064296231376233, 0.4924053632409452, 0.8307876692534332, 54, 0.10868165602321989, None]\n"
     ]
    },
    {
     "name": "stderr",
     "output_type": "stream",
     "text": [
      "G:\\USB Drive Files\\Year 3\\Semester 1\\KV6003 - Individual Computing Project\\Machine Learning\\kf_ml_lib.py:91: RuntimeWarning: invalid value encountered in double_scalars\n",
      "  f1_score = 2 * ((precision*recall) / (precision+recall))\n"
     ]
    },
    {
     "data": {
      "text/plain": [
       "([<matplotlib.axis.XTick at 0x179a4f8d688>,\n",
       "  <matplotlib.axis.XTick at 0x179b9c82c08>,\n",
       "  <matplotlib.axis.XTick at 0x179b9c82648>,\n",
       "  <matplotlib.axis.XTick at 0x179b9cef548>,\n",
       "  <matplotlib.axis.XTick at 0x179b9cefc48>],\n",
       " <a list of 5 Text xticklabel objects>)"
      ]
     },
     "execution_count": 1,
     "metadata": {},
     "output_type": "execute_result"
    }
   ],
   "source": [
    "import random\n",
    "import numpy as np\n",
    "import pandas as pd\n",
    "import kf_ml_lib as kf\n",
    "import matplotlib.pyplot as plt\n",
    "\n",
    "from deap import base\n",
    "from deap import creator\n",
    "from deap import tools\n",
    "from deap import algorithms\n",
    "\n",
    "from sklearn.tree import DecisionTreeClassifier\n",
    "from sklearn import metrics\n",
    "from sklearn.model_selection import train_test_split\n",
    "\n",
    "\n",
    "def mutate(individual):\n",
    "    gene = random.randint(0,9) #select which parameter to mutate\n",
    "    if gene == 0:\n",
    "        if individual[0] == 'gini':\n",
    "            individual[0] = 'entropy'\n",
    "        else:\n",
    "            individual[0] = 'gini'\n",
    "        \n",
    "    elif gene == 1:\n",
    "        if individual[1] == 'best':\n",
    "            individual[1] = 'random'\n",
    "        else:\n",
    "            individual[1] = 'best'\n",
    "    \n",
    "    elif gene == 2:\n",
    "        individual[2] = random.randint(lower_depth, upper_depth)\n",
    "        \n",
    "    elif gene in [4,5]:\n",
    "        individual[gene] = random.uniform(lower_samples_leaf, upper_samples_leaf)\n",
    "        \n",
    "    elif gene in [3,6,8]:\n",
    "        individual[gene] = random.random()\n",
    "        \n",
    "    elif gene == 7:\n",
    "        individual[7] = random.randint(lower_leaf_nodes, upper_leaf_nodes)\n",
    "        \n",
    "    elif gene == 9:\n",
    "        if individual[9] == 'balanced':\n",
    "            individual[9] = None\n",
    "        else:\n",
    "            individual[9] = 'balanced'        \n",
    "        \n",
    "    return individual,\n",
    "\n",
    "\n",
    "def evaluate(individual):\n",
    "    #'''\n",
    "    # build and test a model based on the parameters in an individual and return\n",
    "    # the AUROC value\n",
    "    #'''\n",
    "    # extract the values of the parameters from the individual chromosome\n",
    "    crit = individual[0]\n",
    "    split = individual[1]\n",
    "    depth = individual[2]\n",
    "    samples_split = individual[3]\n",
    "    samples_leaf = individual[4]\n",
    "    weight_fraction_leaf = individual[5]\n",
    "    features = individual[6]\n",
    "    leaf_nodes = individual[7]\n",
    "    impurity_decrease = individual[8]\n",
    "    class_weight = individual[9]\n",
    "    \n",
    "    # build the model\n",
    "    model = DecisionTreeClassifier(criterion=crit, \n",
    "                                   splitter=split, \n",
    "                                   max_depth=depth, \n",
    "                                   min_samples_split=samples_split, \n",
    "                                   min_samples_leaf=samples_leaf, \n",
    "                                   min_weight_fraction_leaf=weight_fraction_leaf, \n",
    "                                   max_features=features, \n",
    "                                   max_leaf_nodes=leaf_nodes, \n",
    "                                   min_impurity_decrease=impurity_decrease, \n",
    "                                   class_weight=class_weight)\n",
    "\n",
    "    model = model.fit(X_train, y_train)\n",
    "    \n",
    "    # Make predictions on the test data\n",
    "    preds = model.predict(X_test)\n",
    "    \n",
    "    # Evaluate model Precision, Recall and F1-Score performance\n",
    "    precision = metrics.precision_score(y_test, preds, pos_label='Botnet')\n",
    "    recall = metrics.recall_score(y_test, preds, pos_label='Botnet')\n",
    "    f1_score = kf.calc_f1_score(precision, recall)\n",
    "    \n",
    "    print(\"f1_score = \", f1_score)\n",
    "    \n",
    "    return f1_score,\n",
    "\n",
    "\n",
    "\n",
    "creator.create(\"FitnessMax\", base.Fitness, weights=(1.0,)) # Maximise the fitness function value\n",
    "creator.create(\"Individual\", list, fitness=creator.FitnessMax)\n",
    "\n",
    "toolbox = base.Toolbox()\n",
    "\n",
    "# Possible parameter values\n",
    "criterions = ['gini', 'entropy']\n",
    "splits = ['best', 'random']\n",
    "lower_depth, upper_depth = 2, 100 \n",
    "lower_leaf_nodes, upper_leaf_nodes = 2, 100\n",
    "class_weight = ['balanced', None]\n",
    "lower_samples_leaf, upper_samples_leaf  = 0, 0.5\n",
    "\n",
    "\n",
    "N_CYCLES = 1\n",
    "\n",
    "# Init chromosomes; depending upon their possible parameter values or ranges\n",
    "toolbox.register(\"attr_crit\", random.choice, criterions)\n",
    "toolbox.register(\"attr_splitter\", random.choice, splits)\n",
    "toolbox.register(\"attr_depth\", random.randint, lower_depth, upper_depth)\n",
    "toolbox.register(\"attr_flt\", random.random)\n",
    "toolbox.register(\"attr_leaf_nodes\", random.randint, lower_leaf_nodes, upper_leaf_nodes)\n",
    "toolbox.register(\"attr_weight\", random.choice, class_weight)\n",
    "toolbox.register(\"attr_samples_leaf\", random.uniform, lower_samples_leaf, upper_samples_leaf)\n",
    "\n",
    "# Init chromosomes, with relevant randomly initalised genes\n",
    "toolbox.register(\"individual\", tools.initCycle, creator.Individual,\n",
    "                 (toolbox.attr_crit, toolbox.attr_splitter, toolbox.attr_depth,\n",
    "                 toolbox.attr_flt, toolbox.attr_samples_leaf, toolbox.attr_samples_leaf, \n",
    "                 toolbox.attr_flt, toolbox.attr_leaf_nodes,\n",
    "                 toolbox.attr_flt, toolbox.attr_weight), n=N_CYCLES)\n",
    "toolbox.register(\"population\", tools.initRepeat, list, toolbox.individual)\n",
    "\n",
    "# Set GA functions\n",
    "toolbox.register(\"mate\", tools.cxOnePoint)\n",
    "toolbox.register(\"mutate\", mutate)\n",
    "toolbox.register(\"select\", tools.selTournament, tournsize=5, fit_attr='fitness')\n",
    "toolbox.register(\"evaluate\", evaluate)\n",
    "\n",
    "population_size = 10\n",
    "crossover_probability = 0.7\n",
    "mutation_probability = 0.7\n",
    "number_of_generations = 20\n",
    "\n",
    "pop = toolbox.population(n=population_size)\n",
    "hof = tools.HallOfFame(1)\n",
    "stats = tools.Statistics(lambda ind: ind.fitness.values)\n",
    "stats.register(\"avg\", np.mean)\n",
    "stats.register(\"std\", np.std)\n",
    "stats.register(\"min\", np.min)\n",
    "stats.register(\"max\", np.max)\n",
    "\n",
    "\n",
    "# Load, process and split dataset\n",
    "dataset = kf.load_dataset(\"../Datasets/ISOT Botnet 2010/Pre-processed/isot_botnet.csv\")\n",
    "X, y = kf.split_dataset(dataset, extended=False)\n",
    "\n",
    "y = np.split(y, 1)\n",
    "y = np.array(y)\n",
    "y = y.reshape(len(y[0]), 1)\n",
    "        \n",
    "X_train, X_test, y_train, y_test = train_test_split(X, y, train_size=0.7, stratify=y)\n",
    "\n",
    "# Run GA\n",
    "pop, log = algorithms.eaSimple(pop, toolbox, cxpb=crossover_probability, stats = stats, \n",
    "                               mutpb = mutation_probability, ngen=number_of_generations, halloffame=hof, \n",
    "                               verbose=True) \n",
    "\n",
    "# Record best paramaters from the halloffame\n",
    "best_parameters = hof[0]\n",
    "\n",
    "print(\"BEST PARAMETERS = \", best_parameters)\n",
    "\n",
    "\n",
    "# Process data for plotting\n",
    "gen = log.select(\"gen\")\n",
    "max_ = log.select(\"max\")\n",
    "avg = log.select(\"avg\")\n",
    "min_ = log.select(\"min\")\n",
    "\n",
    "evolution = pd.DataFrame({'Generation': gen,\n",
    "                         'Max F1-Score': max_,\n",
    "                          'Average':avg,\n",
    "                         'Min F1-Score': min_})\n",
    "\n",
    "plt.title('Parameter Optimisation')\n",
    "plt.plot(evolution['Generation'], evolution['Min F1-Score'], 'b', color = 'C1',\n",
    "         label = 'Min F1-Score')\n",
    "plt.plot(evolution['Generation'], evolution['Average'], 'b', color = 'C2',\n",
    "         label = 'Average F1-Score')\n",
    "plt.plot(evolution['Generation'], evolution['Max F1-Score'], 'b', color = 'C3',\n",
    "         label= 'Max F1-Score')\n",
    "\n",
    "\n",
    "plt.legend(loc = 'lower right')\n",
    "plt.ylabel('F1-Score')\n",
    "plt.xlabel('Generation')\n",
    "plt.xticks([0,5,10,15,20])\n"
   ]
  },
  {
   "cell_type": "code",
   "execution_count": null,
   "metadata": {
    "ExecuteTime": {
     "start_time": "2020-01-16T09:10:46.899Z"
    }
   },
   "outputs": [],
   "source": [
    "print(y)\n",
    "\n",
    "y = np.split(y, '')\n",
    "print(y)"
   ]
  },
  {
   "cell_type": "code",
   "execution_count": null,
   "metadata": {},
   "outputs": [],
   "source": []
  }
 ],
 "metadata": {
  "kernelspec": {
   "display_name": "Python 3",
   "language": "python",
   "name": "python3"
  },
  "language_info": {
   "codemirror_mode": {
    "name": "ipython",
    "version": 3
   },
   "file_extension": ".py",
   "mimetype": "text/x-python",
   "name": "python",
   "nbconvert_exporter": "python",
   "pygments_lexer": "ipython3",
   "version": "3.7.4"
  }
 },
 "nbformat": 4,
 "nbformat_minor": 4
}

{
 "cells": [
  {
   "cell_type": "code",
   "execution_count": 5,
   "metadata": {
    "ExecuteTime": {
     "end_time": "2020-01-11T17:36:01.615121Z",
     "start_time": "2020-01-11T17:35:57.043009Z"
    }
   },
   "outputs": [
    {
     "name": "stderr",
     "output_type": "stream",
     "text": [
      "c:\\users\\asmarus\\anaconda3\\envs\\tensorflow-gpu\\lib\\site-packages\\numpy\\lib\\arraysetops.py:569: FutureWarning: elementwise comparison failed; returning scalar instead, but in the future will perform elementwise comparison\n",
      "  mask |= (ar1 == a)\n"
     ]
    },
    {
     "name": "stdout",
     "output_type": "stream",
     "text": [
      "StratifiedKFold(n_splits=10, random_state=None, shuffle=False)\n",
      "TRAIN: [ 120354  120355  120356 ... 1309788 1309789 1309790] TEST: [     0      1      2 ... 489633 489635 489636]\n",
      "1178811 130980 1309791\n",
      "10636\n",
      "\n",
      "TRAIN: [      0       1       2 ... 1309788 1309789 1309790] TEST: [120354 120355 120356 ... 500714 500715 500716]\n",
      "1178812 130979 1309791\n",
      "10635\n",
      "\n",
      "TRAIN: [      0       1       2 ... 1309788 1309789 1309790] TEST: [240769 240770 240771 ... 511894 511896 511897]\n",
      "1178812 130979 1309791\n",
      "10635\n",
      "\n",
      "TRAIN: [      0       1       2 ... 1309788 1309789 1309790] TEST: [361140 361141 361142 ... 537990 537993 537999]\n",
      "1178812 130979 1309791\n",
      "10635\n",
      "\n",
      "TRAIN: [      0       1       2 ... 1309788 1309789 1309790] TEST: [523053 523054 523055 ... 676514 676515 676516]\n",
      "1178812 130979 1309791\n",
      "10635\n",
      "\n",
      "TRAIN: [      0       1       2 ... 1309788 1309789 1309790] TEST: [534309 534310 534312 ... 796858 796859 796860]\n",
      "1178812 130979 1309791\n",
      "10635\n",
      "\n",
      "TRAIN: [      0       1       2 ... 1309788 1309789 1309790] TEST: [545828 545829 545830 ... 917202 917203 917204]\n",
      "1178812 130979 1309791\n",
      "10635\n",
      "\n",
      "TRAIN: [      0       1       2 ... 1309788 1309789 1309790] TEST: [ 560062  560063  560073 ... 1200764 1200765 1200766]\n",
      "1178812 130979 1309791\n",
      "10635\n",
      "\n",
      "TRAIN: [      0       1       2 ... 1309788 1309789 1309790] TEST: [1037659 1037660 1037661 ... 1213026 1213030 1213031]\n",
      "1178812 130979 1309791\n",
      "10635\n",
      "\n",
      "TRAIN: [      0       1       2 ... 1213026 1213030 1213031] TEST: [1158024 1158025 1158026 ... 1309788 1309789 1309790]\n",
      "1178812 130979 1309791\n",
      "10636\n",
      "\n"
     ]
    },
    {
     "data": {
      "image/png": "[encoded data removed]",
      "text/plain": [
       "<Figure size 432x288 with 1 Axes>"
      ]
     },
     "metadata": {
      "needs_background": "light"
     },
     "output_type": "display_data"
    }
   ],
   "source": [
    "import numpy as np\n",
    "from sklearn.model_selection import StratifiedKFold\n",
    "import kf_ml_lib as kf\n",
    "import matplotlib.pyplot as plt\n",
    "\n",
    "dataset = kf.load_dataset(\"../Datasets/CTU-13/Pre-processed/10.csv\")\n",
    "X, y = kf.split_dataset(dataset, extended=False)\n",
    "\n",
    "skf = StratifiedKFold(n_splits=10)\n",
    "skf.get_n_splits(X, y)\n",
    "\n",
    "print(skf)\n",
    "\n",
    "fold = 0\n",
    "width = 0.35\n",
    "\n",
    "for train_index, test_index in skf.split(X, y):\n",
    "    print(\"TRAIN:\", train_index, \"TEST:\", test_index)\n",
    "    \n",
    "    print(len(train_index), len(test_index) ,len(train_index) + len(test_index))\n",
    "    \n",
    "    fold += 1\n",
    "    \n",
    "    botnet_count = 0\n",
    "    \n",
    "    for index in test_index:\n",
    "        if \"Botnet\" in y[index]:\n",
    "            botnet_count += 1\n",
    "\n",
    "    print(botnet_count)\n",
    "    print(\"\")\n",
    "    \n",
    "    plt.bar(fold, len(train_index), width)\n",
    "    plt.bar(fold + width, len(test_index), width)\n",
    "        \n",
    "plt.show()\n",
    "\n",
    "del dataset, X, y"
   ]
  },
  {
   "cell_type": "code",
   "execution_count": null,
   "metadata": {},
   "outputs": [],
   "source": []
  }
 ],
 "metadata": {
  "kernelspec": {
   "display_name": "Python 3",
   "language": "python",
   "name": "python3"
  },
  "language_info": {
   "codemirror_mode": {
    "name": "ipython",
    "version": 3
   },
   "file_extension": ".py",
   "mimetype": "text/x-python",
   "name": "python",
   "nbconvert_exporter": "python",
   "pygments_lexer": "ipython3",
   "version": "3.7.4"
  }
 },
 "nbformat": 4,
 "nbformat_minor": 2
}

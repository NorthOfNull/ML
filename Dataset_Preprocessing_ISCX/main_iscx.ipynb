{
 "cells": [
  {
   "cell_type": "code",
   "execution_count": 25,
   "metadata": {
    "ExecuteTime": {
     "end_time": "2020-02-04T21:20:26.544244Z",
     "start_time": "2020-02-04T21:19:19.678854Z"
    }
   },
   "outputs": [
    {
     "name": "stdout",
     "output_type": "stream",
     "text": [
      "Created iscx_preprocessor object\n",
      "../../Datasets/ISCX Botnet 2014/Netflow_Extended/ISCX_Training.binetflow\n",
      "File Read Error\n",
      "Started ISCX Dataset Netflow Preprocessor!\n",
      "     [1/2] Fixing hex values...\n",
      "     [2/3] Filling empty fields...\n",
      "     [3/3] Creating labels...\n",
      "Finished preprocessing!!!\n",
      "Botnet Flows =  194075\n",
      "Normal Flows =  122501\n",
      "Writing fixed dataset Dataframe to  ../../Datasets/ISCX Botnet 2014/Pre-processed_Extended/ISCX_Training.csv\n",
      "File Write Successful!\n",
      "        SrcAddr        DstAddr Proto Sport Dport State  sTos  dTos  SrcWin  \\\n",
      "0   147.32.84.1  147.32.84.165   arp     0     0   INT   0.0   0.0     0.0   \n",
      "1   147.32.84.1  147.32.84.165   arp     0     0   INT   0.0   0.0     0.0   \n",
      "2   147.32.84.1  147.32.84.165   arp     0     0   INT   0.0   0.0     0.0   \n",
      "3  147.32.84.85  147.32.84.165   arp     0     0   INT   0.0   0.0     0.0   \n",
      "4   147.32.84.1  147.32.84.165   arp     0     0   INT   0.0   0.0     0.0   \n",
      "\n",
      "   DstWin  ...  SAppBytes  DAppBytes       Dur TotPkts  TotBytes  TotAppByte  \\\n",
      "0     0.0  ...          0          0  0.000000       1        60           0   \n",
      "1     0.0  ...          0          0  0.000000       1        60           0   \n",
      "2     0.0  ...          0          0  2.987276       2       120           0   \n",
      "3     0.0  ...          0          0  2.000422       3       180           0   \n",
      "4     0.0  ...          0          0  0.000000       1        60           0   \n",
      "\n",
      "       Rate   SrcRate  DstRate   Label  \n",
      "0  0.000000  0.000000      0.0  Normal  \n",
      "1  0.000000  0.000000      0.0  Normal  \n",
      "2  0.334753  0.334753      0.0  Normal  \n",
      "3  0.999789  0.999789      0.0  Normal  \n",
      "4  0.000000  0.000000      0.0  Normal  \n",
      "\n",
      "[5 rows x 33 columns]\n",
      "Destroying iscx_preprocessor object\n",
      "\n",
      "\n",
      "DONE!!!!!\n"
     ]
    }
   ],
   "source": [
    "%reload_ext autoreload\n",
    "%autoreload 2\n",
    "#\n",
    "# ISCX Botnet Netflow Dataset\n",
    "#      Adds labels, fixes port hex values and counts flows\n",
    "#\n",
    "\n",
    "# Imports\n",
    "#from ipynb.fs.full.iscx_preprocessor import iscx_preprocessor\n",
    "%run iscx_preprocessor.py\n",
    "\n",
    "import matplotlib.pyplot as plt\n",
    "\n",
    "\n",
    "# Main function\n",
    "# Create isot_preprocessor object\n",
    "pp = iscx_preprocessor(\"../../Datasets/ISCX Botnet 2014/Netflow_Extended/ISCX_Training.binetflow\")\n",
    "\n",
    "# Load dataset from it's path into the object\n",
    "pp.get_dataset()\n",
    "\n",
    "# Preprocess dataset in the dataframe\n",
    "# Fills empty hex fields\n",
    "# Converts any hex in Sport and Dport fields to ints\n",
    "# Adds labels to dataset\n",
    "pp.process_iscx(extended=True)\n",
    "\n",
    "# Count each type of flow in the dataset\n",
    "botnet_flows, normal_flows = pp.count_flows()\n",
    "print(\"Botnet Flows = \", botnet_flows)\n",
    "print(\"Normal Flows = \", normal_flows)\n",
    "\n",
    "# Write preprocessed dataframe to file\n",
    "pp.write_fixed_dataset(extended=True)\n",
    "\n",
    "# Confirm it has been loaded\n",
    "print(pp.show_dataset_head())\n",
    "\n",
    "del pp \n",
    "\n",
    "print(\"DONE!!!!!\")"
   ]
  },
  {
   "cell_type": "code",
   "execution_count": null,
   "metadata": {
    "collapsed": true
   },
   "outputs": [],
   "source": []
  },
  {
   "cell_type": "code",
   "execution_count": null,
   "metadata": {},
   "outputs": [],
   "source": []
  }
 ],
 "metadata": {
  "kernelspec": {
   "display_name": "Python 3",
   "language": "python",
   "name": "python3"
  },
  "language_info": {
   "codemirror_mode": {
    "name": "ipython",
    "version": 3
   },
   "file_extension": ".py",
   "mimetype": "text/x-python",
   "name": "python",
   "nbconvert_exporter": "python",
   "pygments_lexer": "ipython3",
   "version": "3.7.4"
  }
 },
 "nbformat": 4,
 "nbformat_minor": 2
}

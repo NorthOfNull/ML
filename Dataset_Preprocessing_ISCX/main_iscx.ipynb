{
 "cells": [
  {
   "cell_type": "code",
   "execution_count": 4,
   "metadata": {
    "ExecuteTime": {
     "end_time": "2020-01-06T09:10:57.769992Z",
     "start_time": "2020-01-06T09:10:35.248875Z"
    }
   },
   "outputs": [
    {
     "name": "stdout",
     "output_type": "stream",
     "text": [
      "Created iscx_preprocessor object\n",
      "../../Datasets/ISCX Botnet 2014/Netflow/ISCX_Training.binetflow\n"
     ]
    },
    {
     "name": "stderr",
     "output_type": "stream",
     "text": [
      "c:\\users\\asmarus\\anaconda3\\envs\\tensorflow-gpu\\lib\\site-packages\\IPython\\core\\interactiveshell.py:3249: DtypeWarning: Columns (14) have mixed types. Specify dtype option on import or set low_memory=False.\n",
      "  if (await self.run_code(code, result,  async_=asy)):\n"
     ]
    },
    {
     "name": "stdout",
     "output_type": "stream",
     "text": [
      "Started ISCX Dataset Netflow Preprocessor!\n",
      "     [1/2] Fixing hex values...\n",
      "     [2/3] Filling empty fields...\n",
      "     [3/3] Creating labels...\n",
      "Finished preprocessing!!!\n",
      "Botnet Flows =  194075\n",
      "Normal Flows =  122502\n",
      "Writing fixed dataset Dataframe to  ../../Datasets/ISCX Botnet 2014/Pre-processed/ISCX_Training.csv\n",
      "File Write Successful!\n",
      "         StartTime       Dur Proto       SrcAddr Sport    Dir        DstAddr  \\\n",
      "0  10:01:40.475792  0.000000   arp   147.32.84.1     0    who  147.32.84.165   \n",
      "1  10:01:49.458501  0.000000   arp   147.32.84.1     0    who  147.32.84.165   \n",
      "2  10:02:30.575356  2.987276   arp   147.32.84.1     0    who  147.32.84.165   \n",
      "3  10:02:30.845058  2.000422   arp  147.32.84.85     0    who  147.32.84.165   \n",
      "4  10:02:39.561923  0.000000   arp   147.32.84.1     0    who  147.32.84.165   \n",
      "\n",
      "  Dport State  sTos  dTos  TotPkts  TotBytes  SrcBytes   Label  \n",
      "0     0   INT   0.0   0.0        1        60        60  Normal  \n",
      "1     0   INT   0.0   0.0        1        60        60  Normal  \n",
      "2     0   INT   0.0   0.0        2       120       120  Normal  \n",
      "3     0   INT   0.0   0.0        3       180       180  Normal  \n",
      "4     0   INT   0.0   0.0        1        60        60  Normal  \n",
      "Destroying iscx_preprocessor object\n",
      "\n",
      "\n",
      "DONE!!!!!\n"
     ]
    }
   ],
   "source": [
    "%reload_ext autoreload\n",
    "%autoreload 2\n",
    "#\n",
    "# ISCX Botnet Netflow Dataset\n",
    "#      Adds labels, fixes port hex values and counts flows\n",
    "#\n",
    "\n",
    "# Imports\n",
    "#from ipynb.fs.full.iscx_preprocessor import iscx_preprocessor\n",
    "%run iscx_preprocessor.py\n",
    "\n",
    "import matplotlib.pyplot as plt\n",
    "\n",
    "\n",
    "# Main function\n",
    "# Create isot_preprocessor object\n",
    "pp = iscx_preprocessor(\"../../Datasets/ISCX Botnet 2014/Netflow/ISCX_Training.binetflow\")\n",
    "\n",
    "# Load dataset from it's path into the object\n",
    "pp.get_dataset()\n",
    "\n",
    "# Preprocess dataset in the dataframe\n",
    "# Fills empty hex fields\n",
    "# Converts any hex in Sport and Dport fields to ints\n",
    "# Adds labels to dataset\n",
    "pp.process_iscx()\n",
    "\n",
    "# Count each type of flow in the dataset\n",
    "botnet_flows, normal_flows = pp.count_flows()\n",
    "print(\"Botnet Flows = \", botnet_flows)\n",
    "print(\"Normal Flows = \", normal_flows)\n",
    "\n",
    "# Write preprocessed dataframe to file\n",
    "pp.write_fixed_dataset()\n",
    "\n",
    "# Confirm it has been loaded\n",
    "print(pp.show_dataset_head())\n",
    "\n",
    "del pp \n",
    "\n",
    "print(\"DONE!!!!!\")"
   ]
  },
  {
   "cell_type": "code",
   "execution_count": null,
   "metadata": {
    "collapsed": true
   },
   "outputs": [],
   "source": []
  },
  {
   "cell_type": "code",
   "execution_count": null,
   "metadata": {},
   "outputs": [],
   "source": []
  }
 ],
 "metadata": {
  "kernelspec": {
   "display_name": "Python 3",
   "language": "python",
   "name": "python3"
  },
  "language_info": {
   "codemirror_mode": {
    "name": "ipython",
    "version": 3
   },
   "file_extension": ".py",
   "mimetype": "text/x-python",
   "name": "python",
   "nbconvert_exporter": "python",
   "pygments_lexer": "ipython3",
   "version": "3.7.4"
  }
 },
 "nbformat": 4,
 "nbformat_minor": 2
}

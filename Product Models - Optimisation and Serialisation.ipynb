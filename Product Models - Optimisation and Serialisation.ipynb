{
 "cells": [
  {
   "cell_type": "code",
   "execution_count": 1,
   "metadata": {
    "ExecuteTime": {
     "end_time": "2020-02-23T22:22:26.314618Z",
     "start_time": "2020-02-23T21:51:11.507059Z"
    }
   },
   "outputs": [
    {
     "name": "stderr",
     "output_type": "stream",
     "text": [
      "c:\\users\\asmarus\\anaconda3\\envs\\tensorflow-gpu\\lib\\site-packages\\numpy\\lib\\arraysetops.py:569: FutureWarning: elementwise comparison failed; returning scalar instead, but in the future will perform elementwise comparison\n",
      "  mask |= (ar1 == a)\n"
     ]
    },
    {
     "name": "stdout",
     "output_type": "stream",
     "text": [
      "../Datasets/CTU-13/Pre-processed_Extended/4.csv\n",
      "[[0.9743260590500641, 0.9736673089274245, 0.9743589743589742, 0.9737347853939782, 0.9730423620025673]]\n",
      "Best score & chromosome =  (0.9743589743589742, [100, 'gini', 2, 2, 0.0, None])\n",
      "\n",
      "Destroying ga object\n",
      "\n"
     ]
    },
    {
     "name": "stderr",
     "output_type": "stream",
     "text": [
      "c:\\users\\asmarus\\anaconda3\\envs\\tensorflow-gpu\\lib\\site-packages\\numpy\\lib\\arraysetops.py:569: FutureWarning: elementwise comparison failed; returning scalar instead, but in the future will perform elementwise comparison\n",
      "  mask |= (ar1 == a)\n"
     ]
    },
    {
     "name": "stdout",
     "output_type": "stream",
     "text": [
      "ga_param =  [100, 'gini', 2, 2, 0.0, None]\n",
      "Writing Model to Models/Rbot(4).model\n"
     ]
    }
   ],
   "source": [
    "%reload_ext autoreload\n",
    "%autoreload 2\n",
    "\n",
    "import kf_ml_lib as kf\n",
    "import kf_bio_optimisation_lib as kf_bio\n",
    "import matplotlib.pyplot as plt\n",
    "from sklearn.model_selection import train_test_split\n",
    "from sklearn.ensemble import RandomForestClassifier\n",
    "import pickle\n",
    " \n",
    "model_iter = 3\n",
    "model_details = ['Neris(1)', 'Neris(2)', 'Rbot(3)', 'Rbot(4)', 'Virut(5)', 'Menti(6)', 'Sogou(7)',\n",
    "                 'Murlo(8)', 'Neris(9)', 'Rbot(10)', 'Rbot(11)', 'NSIS_ay(12)', 'Virut(13)',\n",
    "                 'Storm/Waledac(14)', 'Bot_Behaviour(15)'] \n",
    "\n",
    "\n",
    "# RFC Training \n",
    "#for dataset_path in kf.extended_dataset_path_list:\n",
    "\n",
    "dataset_path = \"../Datasets/CTU-13/Pre-processed_Extended/4.csv\"\n",
    "# Classifier Optimisation\n",
    "# Finding the fittest chromosome (best performing hyperparameters for the dataset)\n",
    "run_results = []\n",
    "\n",
    "ga = kf_bio.kf_genetic_algorithm(classifier='RandomForestClassifier', dataset_path=dataset_path,\n",
    "                      population_size=6, generations=5, evaluation_method='single_fit_eval',\n",
    "                      initial_pop_gen_method='heuristic', extended_dataset=True)\n",
    "\n",
    "sorted_score_chromosome_list = ga.run()\n",
    "best_score_chromosome = sorted_score_chromosome_list[0]\n",
    "scores = ga.best_generation_fitness_scores\n",
    "run_results.append(scores)\n",
    "#\n",
    "\n",
    "#print(baseline)\n",
    "print(dataset_path)\n",
    "print(run_results)\n",
    "print(\"Best score & chromosome = \", best_score_chromosome)\n",
    "\n",
    "\n",
    "plt.figure(figsize=(10,6))\n",
    "plt.xlabel('Generation')\n",
    "plt.ylabel('F1-Score')\n",
    "#plt.plot(baseline, c='k', linestyle='--', label='Default Hyperparameters')\n",
    "plt.plot(run_results[0], label='Fittest Chromosome')\n",
    "plt.legend(loc='lower right')\n",
    "\n",
    "del ga\n",
    "\n",
    "\n",
    "# Model Training\n",
    "# Fitting to whole dataset with the best_score_chromosome found via GA Optimisation\n",
    "dataset = kf.load_dataset(dataset_path)\n",
    "X, y = kf.split_dataset(dataset, extended=True)\n",
    "del dataset\n",
    "\n",
    "ga_param = best_score_chromosome[1]\n",
    "print(\"ga_param = \", ga_param)\n",
    "\n",
    "rfc = RandomForestClassifier(n_estimators=ga_param[0], criterion=ga_param[1],\n",
    "                            min_samples_split=ga_param[2], min_samples_leaf=ga_param[3],\n",
    "                            min_weight_fraction_leaf=ga_param[4], class_weight=ga_param[5])\n",
    "\n",
    "model = rfc.fit(X, y)\n",
    "\n",
    "\n",
    "# Serialise Model\n",
    "model_file = \"Models/\" + model_details[model_iter] + \".model\"\n",
    "with open(model_file, 'wb') as f:\n",
    "    print(\"Writing Model to \" + model_file)\n",
    "    pickle.dump(model, f, pickle.DEFAULT_PROTOCOL)\n",
    "\n",
    "model_iter += 1"
   ]
  },
  {
   "cell_type": "code",
   "execution_count": null,
   "metadata": {},
   "outputs": [],
   "source": []
  }
 ],
 "metadata": {
  "kernelspec": {
   "display_name": "Python 3",
   "language": "python",
   "name": "python3"
  },
  "language_info": {
   "codemirror_mode": {
    "name": "ipython",
    "version": 3
   },
   "file_extension": ".py",
   "mimetype": "text/x-python",
   "name": "python",
   "nbconvert_exporter": "python",
   "pygments_lexer": "ipython3",
   "version": "3.7.4"
  }
 },
 "nbformat": 4,
 "nbformat_minor": 2
}

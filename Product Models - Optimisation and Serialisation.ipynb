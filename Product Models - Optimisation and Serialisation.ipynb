{
 "cells": [
  {
   "cell_type": "code",
   "execution_count": 2,
   "metadata": {
    "ExecuteTime": {
     "end_time": "2020-03-04T15:48:28.274390Z",
     "start_time": "2020-03-04T15:45:21.108013Z"
    }
   },
   "outputs": [
    {
     "name": "stdout",
     "output_type": "stream",
     "text": [
      "Storm_or_Waledac(14)\n",
      "ga_param =  [187, 'entropy', 2, 2, 0.0, None]\n",
      "Writing Model to Models/Storm_or_Waledac(14).model\n",
      "Bot_Behaviour(15)\n",
      "ga_param =  [76, 'entropy', 4, 1, 0.0, 'balanced']\n",
      "Writing Model to Models/Bot_Behaviour(15).model\n"
     ]
    }
   ],
   "source": [
    "%reload_ext autoreload\n",
    "%autoreload 2\n",
    "\n",
    "import kf_ml_lib as kf\n",
    "import kf_bio_optimisation_lib as kf_bio\n",
    "import matplotlib.pyplot as plt\n",
    "from sklearn.model_selection import train_test_split\n",
    "from sklearn.ensemble import RandomForestClassifier\n",
    "import pickle\n",
    " \n",
    "model_iter = 0\n",
    "model_ga_hyperparams = [['Neris(1)', [75, 'gini', 3, 1, 0.0, 'balanced']],\n",
    "                        ['Neris(2)', [100, 'gini', 2, 1, 0.0, None]],\n",
    "                        ['Rbot(3)', [74, 'entropy', 3, 1, 0.0, None]],\n",
    "                        ['Rbot(4)', [61, 'entropy', 3, 1, 0.0, None]],\n",
    "                        ['Virut(5)', [112, 'gini', 3, 2, 0.0, None]],\n",
    "                        ['Menti(6)', [100, 'gini', 3, 2, 0.0, 'balanced']],\n",
    "                        ['Sogou(7)', [70, 'entropy', 2, 1, 0.0, None]],\n",
    "                        ['Murlo(8)', [198, 'entropy', 4, 2, 0.0, 'balanced']],\n",
    "                        ['Neris(9)', [100, 'entropy', 3, 1, 0.0, None]],\n",
    "                        ['Rbot(10)', [100, 'gini', 2, 1, 0.0, None]],\n",
    "                        ['Rbot(11)', [136, 'gini', 3, 2, 0.0, None]],\n",
    "                        ['NSIS_ay(12)', [188, 'entropy', 2, 1, 0.0, 'balanced']],\n",
    "                        ['Virut(13)', [142, 'gini', 3, 2, 0.0, None]],\n",
    "                        ['Storm_or_Waledac(14)', [187, 'entropy', 2, 2, 0.0, None]],\n",
    "                        ['Bot_Behaviour(15)', [76, 'entropy', 4, 1, 0.0, 'balanced']]]\n",
    "\n",
    "# RFC Training \n",
    "for dataset_path in kf.extended_dataset_path_list:\n",
    "    model_details = model_ga_hyperparams[model_iter][0]\n",
    "    ga_param = model_ga_hyperparams[model_iter][1] \n",
    "\n",
    "    print(model_details)\n",
    "    print(\"ga_param = \", ga_param)\n",
    "    \n",
    "    # Model Training\n",
    "    # Fitting to whole dataset with the best_score_chromosome found via GA Optimisation\n",
    "    dataset = kf.load_dataset(dataset_path)\n",
    "    X, y = kf.split_dataset(dataset, extended=True)\n",
    "    del dataset\n",
    "\n",
    "    rfc = RandomForestClassifier(n_estimators=ga_param[0], criterion=ga_param[1],\n",
    "                                min_samples_split=ga_param[2], min_samples_leaf=ga_param[3],\n",
    "                                min_weight_fraction_leaf=ga_param[4], class_weight=ga_param[5])\n",
    "\n",
    "    model = rfc.fit(X, y)\n",
    "    del X, y\n",
    "\n",
    "    # Serialise Model\n",
    "    model_file = \"Models/\" + model_details + \".model\"\n",
    "    with open(model_file, 'wb') as f:\n",
    "        print(\"Writing Model to \" + model_file)\n",
    "        pickle.dump(model, f, pickle.DEFAULT_PROTOCOL)\n",
    "\n",
    "\n",
    "        model_iter += 1"
   ]
  },
  {
   "cell_type": "code",
   "execution_count": null,
   "metadata": {},
   "outputs": [],
   "source": []
  }
 ],
 "metadata": {
  "kernelspec": {
   "display_name": "Python 3",
   "language": "python",
   "name": "python3"
  },
  "language_info": {
   "codemirror_mode": {
    "name": "ipython",
    "version": 3
   },
   "file_extension": ".py",
   "mimetype": "text/x-python",
   "name": "python",
   "nbconvert_exporter": "python",
   "pygments_lexer": "ipython3",
   "version": "3.7.4"
  }
 },
 "nbformat": 4,
 "nbformat_minor": 2
}

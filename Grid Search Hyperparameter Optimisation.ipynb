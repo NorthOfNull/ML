{
 "cells": [
  {
   "cell_type": "code",
   "execution_count": null,
   "metadata": {
    "ExecuteTime": {
     "start_time": "2020-01-20T11:06:56.421Z"
    },
    "scrolled": false
   },
   "outputs": [
    {
     "name": "stdout",
     "output_type": "stream",
     "text": [
      "BEST params =  {'class_weight': None, 'criterion': 'gini', 'min_samples_leaf': 4, 'min_samples_split': 5, 'min_weight_fraction_leaf': 0.0, 'splitter': 'best'}\n",
      "BEST score =  0.9346650403723696\n",
      "\n",
      "\n",
      "\n",
      "      mean_fit_time  std_fit_time  mean_score_time  std_score_time  \\\n",
      "0         2.234610      0.026075         0.230693        0.012386   \n",
      "1         1.397719      0.094358         0.215133        0.009062   \n",
      "2         2.152755      0.046328         0.219721        0.008136   \n",
      "3         1.335768      0.056492         0.221416        0.003887   \n",
      "4         0.890155      0.024667         0.000000        0.000000   \n",
      "..             ...           ...              ...             ...   \n",
      "891       0.568599      0.030190         0.222511        0.020201   \n",
      "892       0.666642      0.030819         0.228198        0.008471   \n",
      "893       0.592935      0.020273         0.234980        0.012461   \n",
      "894       0.664545      0.037405         0.211106        0.012621   \n",
      "895       0.504415      0.047008         0.151000        0.024902   \n",
      "\n",
      "    param_class_weight param_criterion param_min_samples_leaf  \\\n",
      "0             balanced            gini                      1   \n",
      "1             balanced            gini                      1   \n",
      "2             balanced            gini                      1   \n",
      "3             balanced            gini                      1   \n",
      "4             balanced            gini                      1   \n",
      "..                 ...             ...                    ...   \n",
      "891               None         entropy                      4   \n",
      "892               None         entropy                      4   \n",
      "893               None         entropy                      4   \n",
      "894               None         entropy                      4   \n",
      "895               None         entropy                      4   \n",
      "\n",
      "    param_min_samples_split param_min_weight_fraction_leaf param_splitter  \\\n",
      "0                         2                              0           best   \n",
      "1                         2                              0         random   \n",
      "2                         2                              0           best   \n",
      "3                         2                              0         random   \n",
      "4                         2                              1           best   \n",
      "..                      ...                            ...            ...   \n",
      "891                       5                            0.3         random   \n",
      "892                       5                            0.4           best   \n",
      "893                       5                            0.4         random   \n",
      "894                       5                            0.5           best   \n",
      "895                       5                            0.5         random   \n",
      "\n",
      "                                                params  split0_test_score  \\\n",
      "0    {'class_weight': 'balanced', 'criterion': 'gin...           0.850583   \n",
      "1    {'class_weight': 'balanced', 'criterion': 'gin...           0.849633   \n",
      "2    {'class_weight': 'balanced', 'criterion': 'gin...           0.850880   \n",
      "3    {'class_weight': 'balanced', 'criterion': 'gin...           0.824467   \n",
      "4    {'class_weight': 'balanced', 'criterion': 'gin...                NaN   \n",
      "..                                                 ...                ...   \n",
      "891  {'class_weight': None, 'criterion': 'entropy',...           0.655913   \n",
      "892  {'class_weight': None, 'criterion': 'entropy',...           0.408403   \n",
      "893  {'class_weight': None, 'criterion': 'entropy',...           0.655913   \n",
      "894  {'class_weight': None, 'criterion': 'entropy',...           0.655913   \n",
      "895  {'class_weight': None, 'criterion': 'entropy',...           0.655913   \n",
      "\n",
      "     split1_test_score  split2_test_score  split3_test_score  \\\n",
      "0             0.978665           0.968435           0.906925   \n",
      "1             0.968643           0.957612           0.904133   \n",
      "2             0.978427           0.968183           0.906880   \n",
      "3             0.964649           0.957805           0.903926   \n",
      "4                  NaN                NaN                NaN   \n",
      "..                 ...                ...                ...   \n",
      "891           0.655908           0.655908           0.655922   \n",
      "892           0.655908           0.706402           0.655922   \n",
      "893           0.655908           0.655908           0.655922   \n",
      "894           0.655908           0.655908           0.655922   \n",
      "895           0.655908           0.655908           0.655922   \n",
      "\n",
      "     split4_test_score  mean_test_score  std_test_score  rank_test_score  \n",
      "0             0.947056         0.930333        0.046852              103  \n",
      "1             0.930190         0.922042        0.042584              142  \n",
      "2             0.948570         0.930588        0.046778               97  \n",
      "3             0.929700         0.916109        0.050648              199  \n",
      "4                  NaN              NaN             NaN              777  \n",
      "..                 ...              ...             ...              ...  \n",
      "891           0.655922         0.655915        0.000007              417  \n",
      "892           0.655922         0.616512        0.105875              577  \n",
      "893           0.655922         0.655915        0.000007              417  \n",
      "894           0.655922         0.655915        0.000007              417  \n",
      "895           0.655922         0.655915        0.000007              417  \n",
      "\n",
      "[896 rows x 19 columns]\n"
     ]
    }
   ],
   "source": [
    "import kf_ml_lib as kf\n",
    "import pandas as pd\n",
    "from sklearn import svm, datasets\n",
    "from sklearn.model_selection import GridSearchCV\n",
    "from sklearn.tree import DecisionTreeClassifier\n",
    "\n",
    "dataset = kf.load_dataset(\"../Datasets/ISOT Botnet 2010/Pre-processed/isot_botnet.csv\")\n",
    "X, y = kf.split_dataset(dataset, extended=False)\n",
    "\n",
    "parameters = {'criterion':['gini', 'entropy'],\n",
    "              'splitter':['best', 'random'],\n",
    "              'min_samples_split':[2, 3, 4, 5],\n",
    "              'min_samples_leaf':[1, 2, 3, 4],\n",
    "              'min_weight_fraction_leaf':[0.0, 0,1, 0.2, 0.3, 0.4, 0.5],\n",
    "              'class_weight':['balanced', None]}  \n",
    "                        \n",
    "\n",
    "dtc = DecisionTreeClassifier()\n",
    "\n",
    "clf = GridSearchCV(dtc, parameters, cv=5, n_jobs=7)\n",
    "clf.fit(X, y)\n",
    "\n",
    "#print(clf.cv_results_)\n",
    "print(\"BEST params = \", clf.best_params_)\n",
    "print(\"BEST score = \", clf.best_score_)\n",
    "print(\"\\n\\n\\n\", pd.DataFrame(clf.cv_results_))"
   ]
  },
  {
   "cell_type": "code",
   "execution_count": 6,
   "metadata": {
    "ExecuteTime": {
     "end_time": "2020-01-23T10:06:26.194306Z",
     "start_time": "2020-01-23T10:06:26.188322Z"
    }
   },
   "outputs": [
    {
     "name": "stdout",
     "output_type": "stream",
     "text": [
      "896\n",
      "<class 'sklearn.model_selection._search.ParameterGrid'>\n"
     ]
    }
   ],
   "source": [
    "from sklearn.model_selection import ParameterGrid\n",
    "\n",
    "parameters = {'criterion':['gini', 'entropy'],\n",
    "              'splitter':['best', 'random'],\n",
    "              'min_samples_split':[2, 3, 4, 5],\n",
    "              'min_samples_leaf':[1, 2, 3, 4],\n",
    "              'min_weight_fraction_leaf':[0.0, 0,1, 0.2, 0.3, 0.4, 0.5],\n",
    "              'class_weight':['balanced', None]}  \n",
    "                        \n",
    "pg = ParameterGrid(parameters)\n",
    "print(len(pg))\n",
    "print(type(pg))"
   ]
  },
  {
   "cell_type": "code",
   "execution_count": null,
   "metadata": {},
   "outputs": [],
   "source": []
  }
 ],
 "metadata": {
  "kernelspec": {
   "display_name": "Python 3",
   "language": "python",
   "name": "python3"
  },
  "language_info": {
   "codemirror_mode": {
    "name": "ipython",
    "version": 3
   },
   "file_extension": ".py",
   "mimetype": "text/x-python",
   "name": "python",
   "nbconvert_exporter": "python",
   "pygments_lexer": "ipython3",
   "version": "3.7.4"
  }
 },
 "nbformat": 4,
 "nbformat_minor": 2
}

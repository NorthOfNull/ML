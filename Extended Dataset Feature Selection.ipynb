{
 "cells": [
  {
   "cell_type": "code",
   "execution_count": 8,
   "metadata": {
    "ExecuteTime": {
     "end_time": "2020-01-23T20:40:24.267902Z",
     "start_time": "2020-01-23T20:39:35.953076Z"
    }
   },
   "outputs": [
    {
     "name": "stderr",
     "output_type": "stream",
     "text": [
      "c:\\users\\asmarus\\anaconda3\\envs\\tensorflow-gpu\\lib\\site-packages\\numpy\\lib\\arraysetops.py:569: FutureWarning: elementwise comparison failed; returning scalar instead, but in the future will perform elementwise comparison\n",
      "  mask |= (ar1 == a)\n"
     ]
    },
    {
     "name": "stdout",
     "output_type": "stream",
     "text": [
      "('sTos', 0.0)\n",
      "('dTos', 0.0)\n",
      "('SrcWin', 0.10166240139980494)\n",
      "('DstWin', 0.0011122507470129196)\n",
      "('sHops', 0.002439299398017095)\n",
      "('dHops', 0.00033895869425856106)\n",
      "('sTtl', 0.10370639282022888)\n",
      "('dTtl', 0.0030155722357770665)\n",
      "('TcpRtt', 3.381451164248882e-05)\n",
      "('SynAck', 0.00521588042546111)\n",
      "('AckDat', 0.004904299496942867)\n",
      "('SrcPkts', 3.429769778550843e-05)\n",
      "('DstPkts', 0.00012554232084189848)\n",
      "('SrcBytes', 0.00036351151905377474)\n",
      "('DstBytes', 0.0007986031720241202)\n",
      "('SAppBytes', 0.0004014525576710908)\n",
      "('DAppBytes', 0.0008093049599906224)\n",
      "('Dur', 0.0004466461953812354)\n",
      "('TotPkts', 0.001429630040941867)\n",
      "('TotBytes', 0.0006582537396274646)\n",
      "('TotAppByte', 0.0003785491127889118)\n",
      "('Rate', 0.0011836592432801188)\n",
      "('SrcRate', 9.759461992500218e-05)\n",
      "('DstRate', 2.6476447625578007e-05)\n",
      "('Sport', 0.7069696230997295)\n",
      "('Dport', 0.0638479855441874)\n"
     ]
    }
   ],
   "source": [
    "import kf_ml_lib as kf\n",
    "import numpy as np\n",
    "\n",
    "from sklearn.tree import DecisionTreeClassifier\n",
    "\n",
    "dataset_path = \"../Datasets/CTU-13/Pre-processed_Extended/1.csv\"\n",
    "dataset = kf.load_dataset(dataset_path)\n",
    "\n",
    "feature_vector_columns = ['sTos','dTos','SrcWin','DstWin','sHops','dHops',\n",
    "                          'sTtl','dTtl','TcpRtt','SynAck','AckDat','SrcPkts',\n",
    "                          'DstPkts','SrcBytes','DstBytes','SAppBytes','DAppBytes',\n",
    "                          'Dur','TotPkts','TotBytes','TotAppByte','Rate','SrcRate','DstRate',\n",
    "                          'Sport', 'Dport']\n",
    "\n",
    "label_vector_column = ['Label']\n",
    "\n",
    "X = dataset.loc[:, feature_vector_columns]\n",
    "y = dataset.loc[:, label_vector_column]\n",
    "y = np.ravel(y)\n",
    "\n",
    "del dataset\n",
    "\n",
    "clf = DecisionTreeClassifier()\n",
    "clf.fit(X, y)\n",
    "\n",
    "array = sorted(zip(clf.feature_importances_,feature_vector_columns))\n",
    "\n",
    "for item in array:\n",
    "    print(item)"
   ]
  },
  {
   "cell_type": "code",
   "execution_count": null,
   "metadata": {},
   "outputs": [],
   "source": [
    "# Then test with pre-feature selected columns vs feature selected columns\n",
    "# to determine the effect of the least important feautres in deep learning\n",
    "# and compare the fit times????? "
   ]
  }
 ],
 "metadata": {
  "kernelspec": {
   "display_name": "Python 3",
   "language": "python",
   "name": "python3"
  },
  "language_info": {
   "codemirror_mode": {
    "name": "ipython",
    "version": 3
   },
   "file_extension": ".py",
   "mimetype": "text/x-python",
   "name": "python",
   "nbconvert_exporter": "python",
   "pygments_lexer": "ipython3",
   "version": "3.7.4"
  }
 },
 "nbformat": 4,
 "nbformat_minor": 2
}

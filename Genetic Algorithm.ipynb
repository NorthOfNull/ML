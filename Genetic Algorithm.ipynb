{
 "cells": [
  {
   "cell_type": "code",
   "execution_count": 2,
   "metadata": {
    "ExecuteTime": {
     "end_time": "2020-01-29T10:01:49.391235Z",
     "start_time": "2020-01-29T10:01:44.476019Z"
    }
   },
   "outputs": [],
   "source": [
    "%reload_ext autoreload\n",
    "%autoreload 2\n",
    "\n",
    "import kf_ml_lib as kf\n",
    "import kf_bio_optimisation_lib as kf_bio\n",
    "import matplotlib.pyplot as plt"
   ]
  },
  {
   "cell_type": "code",
   "execution_count": null,
   "metadata": {},
   "outputs": [],
   "source": []
  },
  {
   "cell_type": "code",
   "execution_count": 3,
   "metadata": {
    "ExecuteTime": {
     "end_time": "2020-01-29T19:10:18.893161Z",
     "start_time": "2020-01-29T10:01:49.392924Z"
    },
    "scrolled": false
   },
   "outputs": [
    {
     "name": "stderr",
     "output_type": "stream",
     "text": [
      "c:\\users\\asmarus\\anaconda3\\envs\\tensorflow-gpu\\lib\\site-packages\\numpy\\lib\\arraysetops.py:569: FutureWarning: elementwise comparison failed; returning scalar instead, but in the future will perform elementwise comparison\n",
      "  mask |= (ar1 == a)\n"
     ]
    },
    {
     "name": "stdout",
     "output_type": "stream",
     "text": [
      "Best score & chromosome for dataset  ../Datasets/CTU-13/Pre-processed/1.csv  = (0.8611808652623403, ['gini', 'best', 2, 3, 0.0, None])\n",
      "\n",
      "Destroying ga object\n",
      "\n"
     ]
    },
    {
     "name": "stderr",
     "output_type": "stream",
     "text": [
      "c:\\users\\asmarus\\anaconda3\\envs\\tensorflow-gpu\\lib\\site-packages\\numpy\\lib\\arraysetops.py:569: FutureWarning: elementwise comparison failed; returning scalar instead, but in the future will perform elementwise comparison\n",
      "  mask |= (ar1 == a)\n"
     ]
    },
    {
     "name": "stdout",
     "output_type": "stream",
     "text": [
      "Best score & chromosome for dataset  ../Datasets/CTU-13/Pre-processed/2.csv  = (0.8969104521156919, ['entropy', 'best', 3, 3, 0.0, None])\n",
      "\n",
      "Destroying ga object\n",
      "\n"
     ]
    },
    {
     "name": "stderr",
     "output_type": "stream",
     "text": [
      "c:\\users\\asmarus\\anaconda3\\envs\\tensorflow-gpu\\lib\\site-packages\\numpy\\lib\\arraysetops.py:569: FutureWarning: elementwise comparison failed; returning scalar instead, but in the future will perform elementwise comparison\n",
      "  mask |= (ar1 == a)\n",
      "c:\\users\\asmarus\\anaconda3\\envs\\tensorflow-gpu\\lib\\site-packages\\joblib\\externals\\loky\\process_executor.py:706: UserWarning: A worker stopped while some jobs were given to the executor. This can be caused by a too short worker timeout or by a memory leak.\n",
      "  \"timeout or by a memory leak.\", UserWarning\n"
     ]
    },
    {
     "name": "stdout",
     "output_type": "stream",
     "text": [
      "Best score & chromosome for dataset  ../Datasets/CTU-13/Pre-processed/3.csv  = (0.9322912450809021, ['entropy', 'random', 2, 3, 0.0, None])\n",
      "\n",
      "Destroying ga object\n",
      "\n"
     ]
    },
    {
     "name": "stderr",
     "output_type": "stream",
     "text": [
      "c:\\users\\asmarus\\anaconda3\\envs\\tensorflow-gpu\\lib\\site-packages\\numpy\\lib\\arraysetops.py:569: FutureWarning: elementwise comparison failed; returning scalar instead, but in the future will perform elementwise comparison\n",
      "  mask |= (ar1 == a)\n"
     ]
    },
    {
     "name": "stdout",
     "output_type": "stream",
     "text": [
      "Best score & chromosome for dataset  ../Datasets/CTU-13/Pre-processed/4.csv  = (0.7677683388579226, ['entropy', 'best', 2, 2, 0.0, None])\n",
      "\n",
      "Destroying ga object\n",
      "\n",
      "Best score & chromosome for dataset  ../Datasets/CTU-13/Pre-processed/5.csv  = (0.8219186488518029, ['entropy', 'best', 3, 3, 0.0, None])\n",
      "\n",
      "Destroying ga object\n",
      "\n",
      "Best score & chromosome for dataset  ../Datasets/CTU-13/Pre-processed/6.csv  = (0.9694316397587791, ['gini', 'best', 4, 3, 0.0, None])\n",
      "\n",
      "Destroying ga object\n",
      "\n",
      "Best score & chromosome for dataset  ../Datasets/CTU-13/Pre-processed/7.csv  = (0.6221591327791091, ['entropy', 'best', 4, 2, 0.02234821215502927, 'balanced'])\n",
      "\n",
      "Destroying ga object\n",
      "\n"
     ]
    },
    {
     "name": "stderr",
     "output_type": "stream",
     "text": [
      "c:\\users\\asmarus\\anaconda3\\envs\\tensorflow-gpu\\lib\\site-packages\\numpy\\lib\\arraysetops.py:569: FutureWarning: elementwise comparison failed; returning scalar instead, but in the future will perform elementwise comparison\n",
      "  mask |= (ar1 == a)\n"
     ]
    },
    {
     "name": "stdout",
     "output_type": "stream",
     "text": [
      "Best score & chromosome for dataset  ../Datasets/CTU-13/Pre-processed/8.csv  = (0.8552144237523169, ['gini', 'best', 3, 1, 0.0, 'balanced'])\n",
      "\n",
      "Destroying ga object\n",
      "\n"
     ]
    },
    {
     "name": "stderr",
     "output_type": "stream",
     "text": [
      "c:\\users\\asmarus\\anaconda3\\envs\\tensorflow-gpu\\lib\\site-packages\\numpy\\lib\\arraysetops.py:569: FutureWarning: elementwise comparison failed; returning scalar instead, but in the future will perform elementwise comparison\n",
      "  mask |= (ar1 == a)\n"
     ]
    },
    {
     "name": "stdout",
     "output_type": "stream",
     "text": [
      "Best score & chromosome for dataset  ../Datasets/CTU-13/Pre-processed/9.csv  = (0.9032599388258098, ['gini', 'best', 3, 3, 0.0, None])\n",
      "\n",
      "Destroying ga object\n",
      "\n"
     ]
    },
    {
     "name": "stderr",
     "output_type": "stream",
     "text": [
      "c:\\users\\asmarus\\anaconda3\\envs\\tensorflow-gpu\\lib\\site-packages\\numpy\\lib\\arraysetops.py:569: FutureWarning: elementwise comparison failed; returning scalar instead, but in the future will perform elementwise comparison\n",
      "  mask |= (ar1 == a)\n"
     ]
    },
    {
     "name": "stdout",
     "output_type": "stream",
     "text": [
      "Best score & chromosome for dataset  ../Datasets/CTU-13/Pre-processed/10.csv  = (0.9984788912084824, ['entropy', 'best', 4, 3, 0.0, None])\n",
      "\n",
      "Destroying ga object\n",
      "\n",
      "Best score & chromosome for dataset  ../Datasets/CTU-13/Pre-processed/11.csv  = (0.9985420729074778, ['entropy', 'best', 2, 1, 0.0, None])\n",
      "\n",
      "Destroying ga object\n",
      "\n",
      "Best score & chromosome for dataset  ../Datasets/CTU-13/Pre-processed/12.csv  = (0.807915145241996, ['entropy', 'best', 2, 1, 0.0, 'balanced'])\n",
      "\n",
      "Destroying ga object\n",
      "\n"
     ]
    },
    {
     "name": "stderr",
     "output_type": "stream",
     "text": [
      "c:\\users\\asmarus\\anaconda3\\envs\\tensorflow-gpu\\lib\\site-packages\\numpy\\lib\\arraysetops.py:569: FutureWarning: elementwise comparison failed; returning scalar instead, but in the future will perform elementwise comparison\n",
      "  mask |= (ar1 == a)\n"
     ]
    },
    {
     "name": "stdout",
     "output_type": "stream",
     "text": [
      "Best score & chromosome for dataset  ../Datasets/CTU-13/Pre-processed/13.csv  = (0.9345723131178933, ['gini', 'best', 2, 1, 0.0, None])\n",
      "\n",
      "Destroying ga object\n",
      "\n",
      "Best score & chromosome for dataset  ../Datasets/ISOT Botnet 2010/Pre-processed/isot_botnet.csv  = (0.9529377885731398, ['gini', 'best', 2, 1, 0.0, None])\n",
      "\n",
      "Destroying ga object\n",
      "\n",
      "Best score & chromosome for dataset  ../Datasets/ISCX Botnet 2014/Pre-processed/iscx_training.csv  = (0.8573004872032702, ['entropy', 'best', 2, 2, 0.0, 'balanced'])\n",
      "\n",
      "Destroying ga object\n",
      "\n",
      "BEST CHROMOSOME PERFORMERS = \n",
      "(0.8611808652623403, ['gini', 'best', 2, 3, 0.0, None])\n",
      "(0.8969104521156919, ['entropy', 'best', 3, 3, 0.0, None])\n",
      "(0.9322912450809021, ['entropy', 'random', 2, 3, 0.0, None])\n",
      "(0.7677683388579226, ['entropy', 'best', 2, 2, 0.0, None])\n",
      "(0.8219186488518029, ['entropy', 'best', 3, 3, 0.0, None])\n",
      "(0.9694316397587791, ['gini', 'best', 4, 3, 0.0, None])\n",
      "(0.6221591327791091, ['entropy', 'best', 4, 2, 0.02234821215502927, 'balanced'])\n",
      "(0.8552144237523169, ['gini', 'best', 3, 1, 0.0, 'balanced'])\n",
      "(0.9032599388258098, ['gini', 'best', 3, 3, 0.0, None])\n",
      "(0.9984788912084824, ['entropy', 'best', 4, 3, 0.0, None])\n",
      "(0.9985420729074778, ['entropy', 'best', 2, 1, 0.0, None])\n",
      "(0.807915145241996, ['entropy', 'best', 2, 1, 0.0, 'balanced'])\n",
      "(0.9345723131178933, ['gini', 'best', 2, 1, 0.0, None])\n",
      "(0.9529377885731398, ['gini', 'best', 2, 1, 0.0, None])\n",
      "(0.8573004872032702, ['entropy', 'best', 2, 2, 0.0, 'balanced'])\n"
     ]
    },
    {
     "ename": "ValueError",
     "evalue": "setting an array element with a sequence.",
     "output_type": "error",
     "traceback": [
      "\u001b[1;31m---------------------------------------------------------------------------\u001b[0m",
      "\u001b[1;31mTypeError\u001b[0m                                 Traceback (most recent call last)",
      "\u001b[1;31mTypeError\u001b[0m: float() argument must be a string or a number, not 'list'",
      "\nThe above exception was the direct cause of the following exception:\n",
      "\u001b[1;31mValueError\u001b[0m                                Traceback (most recent call last)",
      "\u001b[1;32m<ipython-input-3-8f5eeb4974ba>\u001b[0m in \u001b[0;36m<module>\u001b[1;34m\u001b[0m\n\u001b[0;32m     28\u001b[0m \u001b[0mplt\u001b[0m\u001b[1;33m.\u001b[0m\u001b[0mxlabel\u001b[0m\u001b[1;33m(\u001b[0m\u001b[1;34m'Dataset'\u001b[0m\u001b[1;33m)\u001b[0m\u001b[1;33m\u001b[0m\u001b[1;33m\u001b[0m\u001b[0m\n\u001b[0;32m     29\u001b[0m \u001b[0mplt\u001b[0m\u001b[1;33m.\u001b[0m\u001b[0mylabel\u001b[0m\u001b[1;33m(\u001b[0m\u001b[1;34m'F1-Score'\u001b[0m\u001b[1;33m)\u001b[0m\u001b[1;33m\u001b[0m\u001b[1;33m\u001b[0m\u001b[0m\n\u001b[1;32m---> 30\u001b[1;33m \u001b[0mplt\u001b[0m\u001b[1;33m.\u001b[0m\u001b[0mplot\u001b[0m\u001b[1;33m(\u001b[0m\u001b[0mbest_dataset_chromosomes\u001b[0m\u001b[1;33m[\u001b[0m\u001b[1;36m0\u001b[0m\u001b[1;33m]\u001b[0m\u001b[1;33m,\u001b[0m \u001b[0mc\u001b[0m\u001b[1;33m=\u001b[0m\u001b[1;34m'g'\u001b[0m\u001b[1;33m,\u001b[0m \u001b[0mlabel\u001b[0m\u001b[1;33m=\u001b[0m\u001b[1;34m'Best dataset chromosome performance for each dataset'\u001b[0m\u001b[1;33m)\u001b[0m\u001b[1;33m\u001b[0m\u001b[1;33m\u001b[0m\u001b[0m\n\u001b[0m\u001b[0;32m     31\u001b[0m \u001b[1;33m\u001b[0m\u001b[0m\n\u001b[0;32m     32\u001b[0m \u001b[0mplt\u001b[0m\u001b[1;33m.\u001b[0m\u001b[0mshow\u001b[0m\u001b[1;33m(\u001b[0m\u001b[1;33m)\u001b[0m\u001b[1;33m\u001b[0m\u001b[1;33m\u001b[0m\u001b[0m\n",
      "\u001b[1;32mc:\\users\\asmarus\\anaconda3\\envs\\tensorflow-gpu\\lib\\site-packages\\matplotlib\\pyplot.py\u001b[0m in \u001b[0;36mplot\u001b[1;34m(scalex, scaley, data, *args, **kwargs)\u001b[0m\n\u001b[0;32m   2793\u001b[0m     return gca().plot(\n\u001b[0;32m   2794\u001b[0m         *args, scalex=scalex, scaley=scaley, **({\"data\": data} if data\n\u001b[1;32m-> 2795\u001b[1;33m         is not None else {}), **kwargs)\n\u001b[0m\u001b[0;32m   2796\u001b[0m \u001b[1;33m\u001b[0m\u001b[0m\n\u001b[0;32m   2797\u001b[0m \u001b[1;33m\u001b[0m\u001b[0m\n",
      "\u001b[1;32mc:\\users\\asmarus\\anaconda3\\envs\\tensorflow-gpu\\lib\\site-packages\\matplotlib\\axes\\_axes.py\u001b[0m in \u001b[0;36mplot\u001b[1;34m(self, scalex, scaley, data, *args, **kwargs)\u001b[0m\n\u001b[0;32m   1666\u001b[0m         \u001b[0mlines\u001b[0m \u001b[1;33m=\u001b[0m \u001b[1;33m[\u001b[0m\u001b[1;33m*\u001b[0m\u001b[0mself\u001b[0m\u001b[1;33m.\u001b[0m\u001b[0m_get_lines\u001b[0m\u001b[1;33m(\u001b[0m\u001b[1;33m*\u001b[0m\u001b[0margs\u001b[0m\u001b[1;33m,\u001b[0m \u001b[0mdata\u001b[0m\u001b[1;33m=\u001b[0m\u001b[0mdata\u001b[0m\u001b[1;33m,\u001b[0m \u001b[1;33m**\u001b[0m\u001b[0mkwargs\u001b[0m\u001b[1;33m)\u001b[0m\u001b[1;33m]\u001b[0m\u001b[1;33m\u001b[0m\u001b[1;33m\u001b[0m\u001b[0m\n\u001b[0;32m   1667\u001b[0m         \u001b[1;32mfor\u001b[0m \u001b[0mline\u001b[0m \u001b[1;32min\u001b[0m \u001b[0mlines\u001b[0m\u001b[1;33m:\u001b[0m\u001b[1;33m\u001b[0m\u001b[1;33m\u001b[0m\u001b[0m\n\u001b[1;32m-> 1668\u001b[1;33m             \u001b[0mself\u001b[0m\u001b[1;33m.\u001b[0m\u001b[0madd_line\u001b[0m\u001b[1;33m(\u001b[0m\u001b[0mline\u001b[0m\u001b[1;33m)\u001b[0m\u001b[1;33m\u001b[0m\u001b[1;33m\u001b[0m\u001b[0m\n\u001b[0m\u001b[0;32m   1669\u001b[0m         \u001b[0mself\u001b[0m\u001b[1;33m.\u001b[0m\u001b[0mautoscale_view\u001b[0m\u001b[1;33m(\u001b[0m\u001b[0mscalex\u001b[0m\u001b[1;33m=\u001b[0m\u001b[0mscalex\u001b[0m\u001b[1;33m,\u001b[0m \u001b[0mscaley\u001b[0m\u001b[1;33m=\u001b[0m\u001b[0mscaley\u001b[0m\u001b[1;33m)\u001b[0m\u001b[1;33m\u001b[0m\u001b[1;33m\u001b[0m\u001b[0m\n\u001b[0;32m   1670\u001b[0m         \u001b[1;32mreturn\u001b[0m \u001b[0mlines\u001b[0m\u001b[1;33m\u001b[0m\u001b[1;33m\u001b[0m\u001b[0m\n",
      "\u001b[1;32mc:\\users\\asmarus\\anaconda3\\envs\\tensorflow-gpu\\lib\\site-packages\\matplotlib\\axes\\_base.py\u001b[0m in \u001b[0;36madd_line\u001b[1;34m(self, line)\u001b[0m\n\u001b[0;32m   1900\u001b[0m             \u001b[0mline\u001b[0m\u001b[1;33m.\u001b[0m\u001b[0mset_clip_path\u001b[0m\u001b[1;33m(\u001b[0m\u001b[0mself\u001b[0m\u001b[1;33m.\u001b[0m\u001b[0mpatch\u001b[0m\u001b[1;33m)\u001b[0m\u001b[1;33m\u001b[0m\u001b[1;33m\u001b[0m\u001b[0m\n\u001b[0;32m   1901\u001b[0m \u001b[1;33m\u001b[0m\u001b[0m\n\u001b[1;32m-> 1902\u001b[1;33m         \u001b[0mself\u001b[0m\u001b[1;33m.\u001b[0m\u001b[0m_update_line_limits\u001b[0m\u001b[1;33m(\u001b[0m\u001b[0mline\u001b[0m\u001b[1;33m)\u001b[0m\u001b[1;33m\u001b[0m\u001b[1;33m\u001b[0m\u001b[0m\n\u001b[0m\u001b[0;32m   1903\u001b[0m         \u001b[1;32mif\u001b[0m \u001b[1;32mnot\u001b[0m \u001b[0mline\u001b[0m\u001b[1;33m.\u001b[0m\u001b[0mget_label\u001b[0m\u001b[1;33m(\u001b[0m\u001b[1;33m)\u001b[0m\u001b[1;33m:\u001b[0m\u001b[1;33m\u001b[0m\u001b[1;33m\u001b[0m\u001b[0m\n\u001b[0;32m   1904\u001b[0m             \u001b[0mline\u001b[0m\u001b[1;33m.\u001b[0m\u001b[0mset_label\u001b[0m\u001b[1;33m(\u001b[0m\u001b[1;34m'_line%d'\u001b[0m \u001b[1;33m%\u001b[0m \u001b[0mlen\u001b[0m\u001b[1;33m(\u001b[0m\u001b[0mself\u001b[0m\u001b[1;33m.\u001b[0m\u001b[0mlines\u001b[0m\u001b[1;33m)\u001b[0m\u001b[1;33m)\u001b[0m\u001b[1;33m\u001b[0m\u001b[1;33m\u001b[0m\u001b[0m\n",
      "\u001b[1;32mc:\\users\\asmarus\\anaconda3\\envs\\tensorflow-gpu\\lib\\site-packages\\matplotlib\\axes\\_base.py\u001b[0m in \u001b[0;36m_update_line_limits\u001b[1;34m(self, line)\u001b[0m\n\u001b[0;32m   1922\u001b[0m         \u001b[0mFigures\u001b[0m \u001b[0mout\u001b[0m \u001b[0mthe\u001b[0m \u001b[0mdata\u001b[0m \u001b[0mlimit\u001b[0m \u001b[0mof\u001b[0m \u001b[0mthe\u001b[0m \u001b[0mgiven\u001b[0m \u001b[0mline\u001b[0m\u001b[1;33m,\u001b[0m \u001b[0mupdating\u001b[0m \u001b[0mself\u001b[0m\u001b[1;33m.\u001b[0m\u001b[0mdataLim\u001b[0m\u001b[1;33m.\u001b[0m\u001b[1;33m\u001b[0m\u001b[1;33m\u001b[0m\u001b[0m\n\u001b[0;32m   1923\u001b[0m         \"\"\"\n\u001b[1;32m-> 1924\u001b[1;33m         \u001b[0mpath\u001b[0m \u001b[1;33m=\u001b[0m \u001b[0mline\u001b[0m\u001b[1;33m.\u001b[0m\u001b[0mget_path\u001b[0m\u001b[1;33m(\u001b[0m\u001b[1;33m)\u001b[0m\u001b[1;33m\u001b[0m\u001b[1;33m\u001b[0m\u001b[0m\n\u001b[0m\u001b[0;32m   1925\u001b[0m         \u001b[1;32mif\u001b[0m \u001b[0mpath\u001b[0m\u001b[1;33m.\u001b[0m\u001b[0mvertices\u001b[0m\u001b[1;33m.\u001b[0m\u001b[0msize\u001b[0m \u001b[1;33m==\u001b[0m \u001b[1;36m0\u001b[0m\u001b[1;33m:\u001b[0m\u001b[1;33m\u001b[0m\u001b[1;33m\u001b[0m\u001b[0m\n\u001b[0;32m   1926\u001b[0m             \u001b[1;32mreturn\u001b[0m\u001b[1;33m\u001b[0m\u001b[1;33m\u001b[0m\u001b[0m\n",
      "\u001b[1;32mc:\\users\\asmarus\\anaconda3\\envs\\tensorflow-gpu\\lib\\site-packages\\matplotlib\\lines.py\u001b[0m in \u001b[0;36mget_path\u001b[1;34m(self)\u001b[0m\n\u001b[0;32m   1025\u001b[0m         \"\"\"\n\u001b[0;32m   1026\u001b[0m         \u001b[1;32mif\u001b[0m \u001b[0mself\u001b[0m\u001b[1;33m.\u001b[0m\u001b[0m_invalidy\u001b[0m \u001b[1;32mor\u001b[0m \u001b[0mself\u001b[0m\u001b[1;33m.\u001b[0m\u001b[0m_invalidx\u001b[0m\u001b[1;33m:\u001b[0m\u001b[1;33m\u001b[0m\u001b[1;33m\u001b[0m\u001b[0m\n\u001b[1;32m-> 1027\u001b[1;33m             \u001b[0mself\u001b[0m\u001b[1;33m.\u001b[0m\u001b[0mrecache\u001b[0m\u001b[1;33m(\u001b[0m\u001b[1;33m)\u001b[0m\u001b[1;33m\u001b[0m\u001b[1;33m\u001b[0m\u001b[0m\n\u001b[0m\u001b[0;32m   1028\u001b[0m         \u001b[1;32mreturn\u001b[0m \u001b[0mself\u001b[0m\u001b[1;33m.\u001b[0m\u001b[0m_path\u001b[0m\u001b[1;33m\u001b[0m\u001b[1;33m\u001b[0m\u001b[0m\n\u001b[0;32m   1029\u001b[0m \u001b[1;33m\u001b[0m\u001b[0m\n",
      "\u001b[1;32mc:\\users\\asmarus\\anaconda3\\envs\\tensorflow-gpu\\lib\\site-packages\\matplotlib\\lines.py\u001b[0m in \u001b[0;36mrecache\u001b[1;34m(self, always)\u001b[0m\n\u001b[0;32m    673\u001b[0m         \u001b[1;32mif\u001b[0m \u001b[0malways\u001b[0m \u001b[1;32mor\u001b[0m \u001b[0mself\u001b[0m\u001b[1;33m.\u001b[0m\u001b[0m_invalidy\u001b[0m\u001b[1;33m:\u001b[0m\u001b[1;33m\u001b[0m\u001b[1;33m\u001b[0m\u001b[0m\n\u001b[0;32m    674\u001b[0m             \u001b[0myconv\u001b[0m \u001b[1;33m=\u001b[0m \u001b[0mself\u001b[0m\u001b[1;33m.\u001b[0m\u001b[0mconvert_yunits\u001b[0m\u001b[1;33m(\u001b[0m\u001b[0mself\u001b[0m\u001b[1;33m.\u001b[0m\u001b[0m_yorig\u001b[0m\u001b[1;33m)\u001b[0m\u001b[1;33m\u001b[0m\u001b[1;33m\u001b[0m\u001b[0m\n\u001b[1;32m--> 675\u001b[1;33m             \u001b[0my\u001b[0m \u001b[1;33m=\u001b[0m \u001b[0m_to_unmasked_float_array\u001b[0m\u001b[1;33m(\u001b[0m\u001b[0myconv\u001b[0m\u001b[1;33m)\u001b[0m\u001b[1;33m.\u001b[0m\u001b[0mravel\u001b[0m\u001b[1;33m(\u001b[0m\u001b[1;33m)\u001b[0m\u001b[1;33m\u001b[0m\u001b[1;33m\u001b[0m\u001b[0m\n\u001b[0m\u001b[0;32m    676\u001b[0m         \u001b[1;32melse\u001b[0m\u001b[1;33m:\u001b[0m\u001b[1;33m\u001b[0m\u001b[1;33m\u001b[0m\u001b[0m\n\u001b[0;32m    677\u001b[0m             \u001b[0my\u001b[0m \u001b[1;33m=\u001b[0m \u001b[0mself\u001b[0m\u001b[1;33m.\u001b[0m\u001b[0m_y\u001b[0m\u001b[1;33m\u001b[0m\u001b[1;33m\u001b[0m\u001b[0m\n",
      "\u001b[1;32mc:\\users\\asmarus\\anaconda3\\envs\\tensorflow-gpu\\lib\\site-packages\\matplotlib\\cbook\\__init__.py\u001b[0m in \u001b[0;36m_to_unmasked_float_array\u001b[1;34m(x)\u001b[0m\n\u001b[0;32m   1388\u001b[0m         \u001b[1;32mreturn\u001b[0m \u001b[0mnp\u001b[0m\u001b[1;33m.\u001b[0m\u001b[0mma\u001b[0m\u001b[1;33m.\u001b[0m\u001b[0masarray\u001b[0m\u001b[1;33m(\u001b[0m\u001b[0mx\u001b[0m\u001b[1;33m,\u001b[0m \u001b[0mfloat\u001b[0m\u001b[1;33m)\u001b[0m\u001b[1;33m.\u001b[0m\u001b[0mfilled\u001b[0m\u001b[1;33m(\u001b[0m\u001b[0mnp\u001b[0m\u001b[1;33m.\u001b[0m\u001b[0mnan\u001b[0m\u001b[1;33m)\u001b[0m\u001b[1;33m\u001b[0m\u001b[1;33m\u001b[0m\u001b[0m\n\u001b[0;32m   1389\u001b[0m     \u001b[1;32melse\u001b[0m\u001b[1;33m:\u001b[0m\u001b[1;33m\u001b[0m\u001b[1;33m\u001b[0m\u001b[0m\n\u001b[1;32m-> 1390\u001b[1;33m         \u001b[1;32mreturn\u001b[0m \u001b[0mnp\u001b[0m\u001b[1;33m.\u001b[0m\u001b[0masarray\u001b[0m\u001b[1;33m(\u001b[0m\u001b[0mx\u001b[0m\u001b[1;33m,\u001b[0m \u001b[0mfloat\u001b[0m\u001b[1;33m)\u001b[0m\u001b[1;33m\u001b[0m\u001b[1;33m\u001b[0m\u001b[0m\n\u001b[0m\u001b[0;32m   1391\u001b[0m \u001b[1;33m\u001b[0m\u001b[0m\n\u001b[0;32m   1392\u001b[0m \u001b[1;33m\u001b[0m\u001b[0m\n",
      "\u001b[1;32mc:\\users\\asmarus\\anaconda3\\envs\\tensorflow-gpu\\lib\\site-packages\\numpy\\core\\_asarray.py\u001b[0m in \u001b[0;36masarray\u001b[1;34m(a, dtype, order)\u001b[0m\n\u001b[0;32m     83\u001b[0m \u001b[1;33m\u001b[0m\u001b[0m\n\u001b[0;32m     84\u001b[0m     \"\"\"\n\u001b[1;32m---> 85\u001b[1;33m     \u001b[1;32mreturn\u001b[0m \u001b[0marray\u001b[0m\u001b[1;33m(\u001b[0m\u001b[0ma\u001b[0m\u001b[1;33m,\u001b[0m \u001b[0mdtype\u001b[0m\u001b[1;33m,\u001b[0m \u001b[0mcopy\u001b[0m\u001b[1;33m=\u001b[0m\u001b[1;32mFalse\u001b[0m\u001b[1;33m,\u001b[0m \u001b[0morder\u001b[0m\u001b[1;33m=\u001b[0m\u001b[0morder\u001b[0m\u001b[1;33m)\u001b[0m\u001b[1;33m\u001b[0m\u001b[1;33m\u001b[0m\u001b[0m\n\u001b[0m\u001b[0;32m     86\u001b[0m \u001b[1;33m\u001b[0m\u001b[0m\n\u001b[0;32m     87\u001b[0m \u001b[1;33m\u001b[0m\u001b[0m\n",
      "\u001b[1;31mValueError\u001b[0m: setting an array element with a sequence."
     ]
    },
    {
     "data": {
      "image/png": "[encoded data removed]",
      "text/plain": [
       "<Figure size 720x432 with 1 Axes>"
      ]
     },
     "metadata": {
      "needs_background": "light"
     },
     "output_type": "display_data"
    }
   ],
   "source": [
    "# DECISION TREE CLASSIFIER GA RESULTS\n",
    "# Genetic Algorithm using 10 generations with a population size of 10 for each dataset\n",
    "# Each chromosome is evaluated with Stratified 10-fold Cross Validation and \n",
    "# uses Heuristic Inital Population Generation\n",
    "best_dataset_chromosomes = []\n",
    "\n",
    "for dataset_path in kf.dataset_path_list:    \n",
    "    ga = kf_bio.kf_genetic_algorithm(classifier='DecisionTreeClassifier', dataset_path=dataset_path,\n",
    "                          population_size=10, generations=10, evaluation_method='cv', initial_pop_gen_method='heuristic',\n",
    "                          extended_dataset=False)\n",
    "\n",
    "    sorted_score_chromosome_list = ga.run()\n",
    "\n",
    "    best_score_chromosome = sorted_score_chromosome_list[0]\n",
    "    print(\"Best score & chromosome for dataset \", dataset_path, \" =\", best_score_chromosome)\n",
    "\n",
    "    # Get the best result from the 3 runs for this dataset\n",
    "    best_dataset_chromosomes.append(best_score_chromosome)\n",
    "    \n",
    "    del ga, sorted_score_chromosome_list, best_score_chromosome\n",
    "\n",
    "print(\"BEST CHROMOSOME PERFORMERS = \")\n",
    "for c in best_dataset_chromosomes:\n",
    "    print(c)\n",
    "\n",
    "del ga"
   ]
  },
  {
   "cell_type": "code",
   "execution_count": 1,
   "metadata": {
    "ExecuteTime": {
     "end_time": "2020-01-28T06:56:52.356443Z",
     "start_time": "2020-01-28T06:56:52.352428Z"
    }
   },
   "outputs": [],
   "source": [
    "# MAKE SURE YOU DONT DO THE BELOW WITH 3 RUNS!!!\n",
    "# MAKE SURE YOU DONT DO THE BELOW WITH 3 RUNS!!!\n",
    "# MAKE SURE YOU DONT DO THE BELOW WITH 3 RUNS!!!\n",
    "# MAKE SURE YOU DONT DO THE BELOW WITH 3 RUNS!!!\n",
    "\n"
   ]
  },
  {
   "cell_type": "code",
   "execution_count": null,
   "metadata": {
    "ExecuteTime": {
     "start_time": "2020-01-24T09:03:03.476Z"
    },
    "scrolled": false
   },
   "outputs": [
    {
     "name": "stderr",
     "output_type": "stream",
     "text": [
      "C:\\Anaconda3\\lib\\site-packages\\numpy\\lib\\arraysetops.py:569: FutureWarning: elementwise comparison failed; returning scalar instead, but in the future will perform elementwise comparison\n",
      "  mask |= (ar1 == a)\n"
     ]
    }
   ],
   "source": [
    "# K NEIGHBORS CLASSIFIER GA RESULTS\n",
    "# Genetic Algorithm using 10 generations with a population size of 10 for each dataset\n",
    "# Each chromosome is evaluated with Stratified 10-fold Cross Validation and \n",
    "# uses Heuristic Inital Population Generation\n",
    "best_dataset_chromosomes = []\n",
    "\n",
    "for dataset_path in kf.dataset_path_list:    \n",
    "    ga = kf_bio.kf_genetic_algorithm(classifier='KNeighborsClassifier', dataset_path=dataset_path,\n",
    "                          population_size=10, generations=10, evaluation_method='cv', initial_pop_gen_method='heuristic',\n",
    "                          extended_dataset=False)\n",
    "\n",
    "    sorted_score_chromosome_list = ga.run()\n",
    "\n",
    "    best_score_chromosome = sorted_score_chromosome_list[0]\n",
    "    print(\"Best score & chromosome for dataset \", dataset_path, \" =\", best_score_chromosome)\n",
    "\n",
    "    # Get the best result from the 3 runs for this dataset\n",
    "    best_dataset_chromosomes.append(best_score_chromosome)\n",
    "    \n",
    "    del ga, sorted_score_chromosome_list, best_score_chromosome\n",
    "\n",
    "print(\"BEST CHROMOSOME PERFORMERS = \")\n",
    "for c in best_dataset_chromosomes:\n",
    "    print(c)\n",
    "\n",
    "# Plot cross validation scores \n",
    "plt.figure(figsize=(10,6))\n",
    "plt.xlabel('Dataset')\n",
    "plt.ylabel('F1-Score')\n",
    "plt.plot(best_dataset_chromosomes[0], c='g', label='Best dataset chromosome performance for each dataset')\n",
    "\n",
    "plt.show()\n",
    "\n",
    "del ga"
   ]
  },
  {
   "cell_type": "code",
   "execution_count": null,
   "metadata": {
    "ExecuteTime": {
     "start_time": "2020-01-20T14:20:11.613Z"
    }
   },
   "outputs": [
    {
     "name": "stderr",
     "output_type": "stream",
     "text": [
      "c:\\users\\asmarus\\anaconda3\\envs\\tensorflow-gpu\\lib\\site-packages\\numpy\\lib\\arraysetops.py:569: FutureWarning: elementwise comparison failed; returning scalar instead, but in the future will perform elementwise comparison\n",
      "  mask |= (ar1 == a)\n"
     ]
    },
    {
     "name": "stdout",
     "output_type": "stream",
     "text": [
      "\n"
     ]
    }
   ],
   "source": [
    "# RANDOM FOREST CLASSIFIER GA RESULTS\n",
    "# Genetic Algorithm using 10 generations with a population size of 10 for each dataset\n",
    "# Each chromosome is evaluated with Stratified 10-fold Cross Validation and \n",
    "# uses Heuristic Inital Population Generation\n",
    "best_dataset_chromosomes = []\n",
    "\n",
    "for dataset_path in kf.dataset_path_list:    \n",
    "    best_run_results = []\n",
    "\n",
    "    for run in range(0, 3):\n",
    "        ga = kf_bio.kf_genetic_algorithm(classifier='RandomForestClassifier', dataset_path=dataset_path,\n",
    "                              population_size=10, generations=10, evaluation_method='cv',\n",
    "                              initial_pop_gen_method='heuristic', extended_dataset=False)\n",
    "\n",
    "        sorted_score_chromosome_list = ga.run()\n",
    "\n",
    "        best_score_chromosome = sorted_score_chromosome_list[0]\n",
    "        print(\"Best score & chromosome for run \", run + 1, \" =\", best_score_chromosome)\n",
    "        \n",
    "        best_run_results.append(best_score_chromosome)\n",
    "        del ga\n",
    "        \n",
    "\n",
    "    best_run_results = sorted(best_run_results, key=lambda x: x[0], reverse=True)\n",
    "    print(\"BEST RUN SCORE AND CHROMOSOME FOR DATASET \", dataset_path, \" = \", best_run_results)\n",
    "\n",
    "    # Get the best result from the 3 runs for this dataset\n",
    "    best_dataset_chromosomes.append(best_run_results[0])\n",
    "\n",
    "print(\"BEST CHROMOSOME PERFORMERS = \")\n",
    "for c in best_dataset_chromosomes:\n",
    "    print(c)\n",
    "\n",
    "# Plot cross validation scores \n",
    "plt.figure(figsize=(10,6))\n",
    "plt.xlabel('Dataset')\n",
    "plt.ylabel('F1-Score')\n",
    "plt.plot(best_dataset_chromosomes[0], c='g', label='Best dataset chromosome performance for each dataset')\n",
    "\n",
    "plt.show()\n",
    "\n",
    "del ga"
   ]
  },
  {
   "cell_type": "code",
   "execution_count": 3,
   "metadata": {
    "ExecuteTime": {
     "end_time": "2020-01-26T14:22:49.499787Z",
     "start_time": "2020-01-26T14:22:41.651468Z"
    }
   },
   "outputs": [
    {
     "name": "stdout",
     "output_type": "stream",
     "text": [
      "[0.9529385994159056, 0.9529385994159056, 0.9529385994159056, 0.9529385994159056, 0.9529385994159056, 0.9529385994159056, 0.9529385994159056, 0.9529385994159056, 0.9529385994159056, 0.9529385994159056, 0.9529385994159056, 0.9529385994159056, 0.9529385994159056, 0.9529385994159056, 0.9529385994159056]\n"
     ]
    }
   ],
   "source": [
    "# DecisionTreeClassifier Cross Validation BASELINE (with default hyperparameters)\n",
    "# To create a baseline f1_score to compare against the bio-optimised results\n",
    "from sklearn.tree import DecisionTreeClassifier\n",
    "from sklearn.model_selection import cross_validate\n",
    "import numpy as np\n",
    "dataset_path = \"../Datasets/ISOT Botnet 2010/Pre-processed/isot_botnet.csv\"\n",
    "\n",
    "# Load, process and split dataset\n",
    "dataset = kf.load_dataset(dataset_path)\n",
    "X, y = kf.split_dataset(dataset, extended=False)\n",
    "\n",
    "clf = DecisionTreeClassifier()\n",
    "\n",
    "scoring = ['precision_macro', 'recall_macro']\n",
    "results = cross_validate(clf, X, y, cv=10, scoring=scoring, n_jobs=8, verbose=0)\n",
    "\n",
    "fit_time = np.mean(results['fit_time'])\n",
    "precision = np.mean(results['test_precision_macro'])\n",
    "recall = np.mean(results['test_recall_macro'])\n",
    "f1_score = kf.calc_f1_score(precision, recall)\n",
    "\n",
    "baseline = [f1_score]\n",
    "baseline = baseline * 15\n",
    "\n",
    "print(baseline)"
   ]
  },
  {
   "cell_type": "code",
   "execution_count": null,
   "metadata": {},
   "outputs": [],
   "source": []
  },
  {
   "cell_type": "code",
   "execution_count": 10,
   "metadata": {
    "ExecuteTime": {
     "end_time": "2020-01-19T11:51:27.544968Z",
     "start_time": "2020-01-19T11:24:36.615053Z"
    }
   },
   "outputs": [
    {
     "name": "stdout",
     "output_type": "stream",
     "text": [
      "\n",
      "Best score & chromosome =  (0.9215457742540154, ['gini', 'best', 4, 1, 0.014335456541922809, None])\n",
      "\n",
      "\n",
      "Destroying ga object\n",
      "\n",
      "Best score & chromosome =  (0.9183839958935459, ['gini', 'best', 2, 3, 0.012306147198043516, None])\n",
      "\n",
      "\n",
      "Destroying ga object\n",
      "\n",
      "Best score & chromosome =  (0.9304018933586853, ['entropy', 'best', 3, 2, 0.0030510835057914742, None])\n",
      "[[0.7417939782523674, 0.7417565707897416, 0.8969171964292764, 0.8969171964292764, 0.9126305727378375, 0.8969171964292764, 0.9126305727378375, 0.9126305727378375, 0.9215457742540154, 0.9215457742540154, 0.9215457742540154, 0.9215457742540154, 0.9215457742540154, 0.9215457742540154, 0.9215457742540154], [0.9183839958935459, 0.9061354258226847, 0.9061354258226847, 0.9061354258226847, 0.9061354258226847, 0.9061354258226847, 0.9061354258226847, 0.9183839958935459, 0.9183839958935459, 0.9183839958935459, 0.9183839958935459, 0.9183839958935459, 0.9183839958935459, 0.9183839958935459, 0.9183839958935459], [0.7692385082873516, 0.7709894419962714, 0.7700251324870988, 0.7700251324870988, 0.8987334430783299, 0.7700251324870988, 0.915247700301435, 0.9188098534904163, 0.9188098534904163, 0.9245043328394436, 0.9245043328394436, 0.9304018933586853, 0.9304018933586853, 0.9304018933586853, 0.9304018933586853]]\n",
      "\n",
      "Destroying ga object\n",
      "\n"
     ]
    },
    {
     "data": {
      "image/png": "[encoded data removed]",
      "text/plain": [
       "<Figure size 720x432 with 1 Axes>"
      ]
     },
     "metadata": {
      "needs_background": "light"
     },
     "output_type": "display_data"
    }
   ],
   "source": [
    "# 3 RUN GA HYPERPARAMETERS vs BASELINE HYPERPARAMETER PERFORMANCE \n",
    "# Population size = 10\n",
    "# Generations = 10\n",
    "# Chromosome Evaluation Method = Cross Validation (cv)\n",
    "# Initial Population Generation Method = Random\n",
    "dataset_path = \"../Datasets/ISOT Botnet 2010/Pre-processed/isot_botnet.csv\"\n",
    "\n",
    "run_results = []\n",
    "\n",
    "for run in range(0, 3):\n",
    "    ga = kf_bio.kf_genetic_algorithm(classifier='DecisionTreeClassifier', dataset_path=dataset_path,\n",
    "                          population_size=10, generations=15, evaluation_method='cv', initial_pop_gen_method='random')\n",
    "\n",
    "    sorted_score_chromosome_list = ga.run()\n",
    "\n",
    "    best_score_chromosome = sorted_score_chromosome_list[0]\n",
    "    print(\"Best score & chromosome = \", best_score_chromosome)\n",
    "    \n",
    "    scores = ga.best_generation_fitness_scores\n",
    "    run_results.append(scores)\n",
    "\n",
    "#print(baseline)\n",
    "print(run_results)\n",
    "\n",
    "plt.figure(figsize=(10,6))\n",
    "plt.xlabel('Generation')\n",
    "plt.ylabel('F1-Score')\n",
    "plt.plot(baseline, c='k', linestyle='--', label='Default Hyperparameters')\n",
    "plt.plot(run_results[0], c='r', label='GA Run 1')\n",
    "plt.plot(run_results[1], c='g', label='GA Run 2')\n",
    "plt.plot(run_results[2], c='b', label='GA Run 3')\n",
    "plt.legend(loc='lower right')\n",
    "\n",
    "del ga"
   ]
  },
  {
   "cell_type": "code",
   "execution_count": 8,
   "metadata": {
    "ExecuteTime": {
     "end_time": "2020-01-20T15:49:10.265460Z",
     "start_time": "2020-01-20T15:19:00.256447Z"
    }
   },
   "outputs": [
    {
     "name": "stdout",
     "output_type": "stream",
     "text": [
      "Best score & chromosome =  (0.9536048861685135, ['gini', 'best', 2, 3, 0.0, None])\n",
      "\n",
      "Destroying ga object\n",
      "\n",
      "Best score & chromosome =  (0.9534990197121389, ['gini', 'best', 3, 3, 0.0, None])\n",
      "\n",
      "Destroying ga object\n",
      "\n",
      "Best score & chromosome =  (0.9536629913901875, ['gini', 'best', 3, 3, 0.0, None])\n",
      "[[0.9532363412589567, 0.9497853825422506, 0.9485973799114739, 0.9528772954119583, 0.9528705485446485, 0.9523006576807724, 0.9526794681027264, 0.9536048861685135, 0.9528945753413003, 0.9528245707113525, 0.9522739714650761, 0.9502540146231213, 0.9502784111295697, 0.9515141951018357, 0.9489692521119967], [0.9521679675344963, 0.9523051228507734, 0.9495026541595624, 0.9493440581343936, 0.9470946306389324, 0.9492976600765842, 0.9528381878696194, 0.9488772970817226, 0.9502452493996688, 0.9513974509535064, 0.9519492687167656, 0.9524319431733393, 0.9532512041582459, 0.9534990197121389, 0.9513242106405658], [0.9522901677951275, 0.9491858114761095, 0.9527325831749205, 0.9506359138671882, 0.9530187892036114, 0.9529726014573011, 0.9529147268046643, 0.95341774493148, 0.9533883026982654, 0.9506205148395432, 0.9514934908858472, 0.9536629913901875, 0.9534989025141851, 0.9513435958844221, 0.9523981850161278]]\n",
      "\n",
      "Destroying ga object\n",
      "\n"
     ]
    },
    {
     "data": {
      "image/png": "[encoded data removed]",
      "text/plain": [
       "<Figure size 720x432 with 1 Axes>"
      ]
     },
     "metadata": {
      "needs_background": "light"
     },
     "output_type": "display_data"
    }
   ],
   "source": [
    "# 3 RUN GA HYPERPARAMETERS vs BASELINE HYPERPARAMETER PERFORMANCE \n",
    "# Population size = 10\n",
    "# Generations = 10\n",
    "# Chromosome Evaluation Method = Cross Validation (cv)\n",
    "# Initial Population Generation Method = Heuristic\n",
    "import matplotlib.pyplot as plt\n",
    "dataset_path = \"../Datasets/ISOT Botnet 2010/Pre-processed/isot_botnet.csv\"\n",
    "run_results = []\n",
    "\n",
    "for run in range(0, 3):\n",
    "    ga = kf_bio.kf_genetic_algorithm(classifier='DecisionTreeClassifier', dataset_path=dataset_path,\n",
    "                          population_size=10, generations=15, evaluation_method='cv',\n",
    "                          initial_pop_gen_method='heuristic', extended_dataset=False)\n",
    "\n",
    "    sorted_score_chromosome_list = ga.run()\n",
    "\n",
    "    best_score_chromosome = sorted_score_chromosome_list[0]\n",
    "    print(\"Best score & chromosome = \", best_score_chromosome)\n",
    "    \n",
    "    scores = ga.best_generation_fitness_scores\n",
    "    run_results.append(scores)\n",
    "\n",
    "#print(baseline)\n",
    "print(run_results)\n",
    "\n",
    "plt.figure(figsize=(10,6))\n",
    "plt.xlabel('Generation')\n",
    "plt.ylabel('F1-Score')\n",
    "plt.plot(baseline, c='k', linestyle='--', label='Default Hyperparameters')\n",
    "plt.plot(run_results[0], c='r', label='GA Run 1')\n",
    "plt.plot(run_results[1], c='g', label='GA Run 2')\n",
    "plt.plot(run_results[2], c='b', label='GA Run 3')\n",
    "plt.legend(loc='lower right')\n",
    "\n",
    "del ga"
   ]
  },
  {
   "cell_type": "code",
   "execution_count": null,
   "metadata": {},
   "outputs": [],
   "source": []
  },
  {
   "cell_type": "code",
   "execution_count": 31,
   "metadata": {
    "ExecuteTime": {
     "end_time": "2020-01-23T10:57:59.149445Z",
     "start_time": "2020-01-23T10:57:56.353956Z"
    }
   },
   "outputs": [
    {
     "data": {
      "image/png": "[encoded data removed]",
      "text/plain": [
       "<Figure size 720x432 with 1 Axes>"
      ]
     },
     "metadata": {
      "needs_background": "light"
     },
     "output_type": "display_data"
    }
   ],
   "source": [
    "# GA best random init generated chromosome vs best heuristic init generated chromosome\n",
    "import kf_ml_lib as kf\n",
    "from sklearn.model_selection import train_test_split\n",
    "from sklearn.tree import DecisionTreeClassifier\n",
    "from sklearn import metrics\n",
    "import matplotlib.pyplot as plt\n",
    "\n",
    "dataset_path = \"../Datasets/ISOT Botnet 2010/Pre-processed/isot_botnet.csv\"\n",
    "dataset = kf.load_dataset(dataset_path)\n",
    "X, y = kf.split_dataset(dataset, extended=False)\n",
    "X_train, X_test, y_train, y_test = train_test_split(X, y, stratify=y, train_size=0.7)\n",
    "\n",
    "# Best chromosome from random init\n",
    "# ['entropy', 'best', 3, 2, 0.0030510835057914742, None])\n",
    "r_dtc = DecisionTreeClassifier(criterion='entropy',\n",
    "                              splitter='best',\n",
    "                              min_samples_split=3,\n",
    "                              min_samples_leaf=2,\n",
    "                              min_weight_fraction_leaf=0.0030510835057914742,\n",
    "                              class_weight=None)\n",
    "\n",
    "# Best chromosome from heuristic init\n",
    "#['gini', 'best', 3, 3, 0.0, None]\n",
    "h_dtc = DecisionTreeClassifier(criterion='gini',\n",
    "                              splitter='best',\n",
    "                              min_samples_split=3,\n",
    "                              min_samples_leaf=3,\n",
    "                              min_weight_fraction_leaf=0.0,\n",
    "                              class_weight=None)\n",
    "\n",
    "r_dtc.fit(X_train, y_train)\n",
    "h_dtc.fit(X_train, y_train)\n",
    "\n",
    "fig, ax = plt.subplots(figsize=(10,6))\n",
    "plt.title(\"GA Pop Init ROC Curve Comparison\")\n",
    "metrics.plot_roc_curve(r_dtc, X_test, y_test, ax=ax, name=\"Random\")\n",
    "metrics.plot_roc_curve(h_dtc, X_test, y_test, ax=ax, name=\"Heuristic\")\n",
    "\n",
    "plt.show()"
   ]
  },
  {
   "cell_type": "code",
   "execution_count": 10,
   "metadata": {
    "ExecuteTime": {
     "end_time": "2020-01-26T19:39:31.420086Z",
     "start_time": "2020-01-26T18:23:32.067401Z"
    }
   },
   "outputs": [
    {
     "name": "stdout",
     "output_type": "stream",
     "text": [
      "Best score & chromosome =  (0.9316741765605859, [5, 'distance', 'kd_tree', 4, 1])\n",
      "\n",
      "Destroying ga object\n",
      "\n",
      "Best score & chromosome =  (0.9328791134864016, [3, 'uniform', 'kd_tree', 12, 1])\n",
      "\n",
      "Destroying ga object\n",
      "\n",
      "Best score & chromosome =  (0.9308713349616968, [5, 'distance', 'kd_tree', 16, 1])\n",
      "[[0.9303095363586346, 0.9301578805986547, 0.9316741765605859, 0.9309186825284038], [0.9300981194462727, 0.9296163520307974, 0.9304429732484161, 0.9328791134864016], [0.9308678071018097, 0.9306385203491802, 0.9306385203491802, 0.9308713349616968]]\n",
      "\n",
      "Destroying ga object\n",
      "\n"
     ]
    },
    {
     "data": {
      "image/png": "[encoded data removed]",
      "text/plain": [
       "<Figure size 720x432 with 1 Axes>"
      ]
     },
     "metadata": {
      "needs_background": "light"
     },
     "output_type": "display_data"
    }
   ],
   "source": [
    "# TEST\n",
    "# TEST\n",
    "# TEST\n",
    "# TESTING IF THE FLOAT CHROMOSOME IS BEING RANDOMISED AND TESTED?\n",
    "\n",
    "%reload_ext autoreload\n",
    "%autoreload 2\n",
    "\n",
    "import kf_ml_lib as kf\n",
    "import kf_bio_optimisation_lib as kf_bio\n",
    "import matplotlib.pyplot as plt\n",
    "from sklearn.neighbors import KNeighborsClassifier\n",
    "\n",
    "\n",
    "dataset_path = \"../Datasets/ISOT Botnet 2010/Pre-processed/isot_botnet.csv\"\n",
    "dataset = kf.load_dataset(dataset_path)\n",
    "X, y = kf.split_dataset(dataset, extended=False)\n",
    "\n",
    "# Baseline\n",
    "clf = KNeighborsClassifier()\n",
    "\n",
    "scoring = ['precision_macro', 'recall_macro']\n",
    "results = cross_validate(clf, X, y, cv=10, scoring=scoring, n_jobs=8, verbose=0)\n",
    "\n",
    "fit_time = np.mean(results['fit_time'])\n",
    "precision = np.mean(results['test_precision_macro'])\n",
    "recall = np.mean(results['test_recall_macro'])\n",
    "f1_score = kf.calc_f1_score(precision, recall)\n",
    "\n",
    "baseline = [f1_score]\n",
    "baseline = baseline * 5\n",
    "\n",
    "\n",
    "\n",
    "# KNeighborsClassifier GA Runs\n",
    "run_results = []\n",
    "\n",
    "for run in range(0, 3):\n",
    "    ga = kf_bio.kf_genetic_algorithm(classifier='KNeighborsClassifier', dataset_path=dataset_path,\n",
    "                                     population_size=6, generations=4, evaluation_method='cv',\n",
    "                                     extended_dataset=False, initial_pop_gen_method='heuristic')\n",
    "\n",
    "    sorted_score_chromosome_list = ga.run()\n",
    "\n",
    "    best_score_chromosome = sorted_score_chromosome_list[0]\n",
    "    print(\"Best score & chromosome = \", best_score_chromosome)\n",
    "    \n",
    "    scores = ga.best_generation_fitness_scores\n",
    "    run_results.append(scores)\n",
    "\n",
    "#print(baseline)\n",
    "print(run_results)\n",
    "\n",
    "plt.figure(figsize=(10,6))\n",
    "plt.xlabel('Generation')\n",
    "plt.ylabel('F1-Score')\n",
    "plt.plot(baseline, c='k', linestyle='--', label='Default Hyperparameters')\n",
    "plt.plot(run_results[0], c='r', label='GA Run 1')\n",
    "plt.plot(run_results[1], c='g', label='GA Run 2')\n",
    "plt.plot(run_results[2], c='b', label='GA Run 3')\n",
    "plt.legend(loc='lower right')\n",
    "\n",
    "del ga"
   ]
  },
  {
   "cell_type": "code",
   "execution_count": null,
   "metadata": {},
   "outputs": [],
   "source": []
  },
  {
   "cell_type": "code",
   "execution_count": 4,
   "metadata": {
    "ExecuteTime": {
     "end_time": "2020-01-25T20:12:19.179840Z",
     "start_time": "2020-01-25T20:12:19.103018Z"
    }
   },
   "outputs": [],
   "source": [
    "# Genetic Algorithm on Deep Learning Model\n",
    "# Genetic Algorithm on Deep Learning Model\n",
    "# Genetic Algorithm on Deep Learning Model"
   ]
  },
  {
   "cell_type": "code",
   "execution_count": null,
   "metadata": {},
   "outputs": [],
   "source": []
  },
  {
   "cell_type": "code",
   "execution_count": 9,
   "metadata": {
    "ExecuteTime": {
     "end_time": "2020-01-17T17:50:27.402793Z",
     "start_time": "2020-01-17T17:46:12.058663Z"
    },
    "scrolled": false
   },
   "outputs": [
    {
     "name": "stdout",
     "output_type": "stream",
     "text": [
      "Generating Population of size:  10\n",
      "Generated Inital Population:\n",
      "[['gini', 'random', 4, 1, 0.4810735944083271, 'balanced'], ['entropy', 'random', 3, 1, 0.43324621059853874, 'balanced'], ['gini', 'random', 3, 2, 0.1287779841422667, 'balanced'], ['entropy', 'best', 2, 3, 0.47657464551582546, 'balanced'], ['entropy', 'best', 2, 3, 0.15277557980539996, 'balanced'], ['gini', 'random', 4, 2, 0.2967447262527277, 'balanced'], ['entropy', 'best', 4, 1, 0.06121163577802741, 'balanced'], ['gini', 'random', 2, 3, 0.38782525876080065, 'balanced'], ['entropy', 'best', 4, 2, 0.22106517355163502, None], ['entropy', 'best', 4, 1, 0.14987624155688084, 'balanced']]\n",
      "\n",
      "GENERATION =  0\n",
      "score, parent1 =  (0.782873453853473, ['entropy', 'best', 4, 1, 0.06121163577802741, 'balanced'])\n",
      "score, parent2 =  (0.689056795600536, ['entropy', 'best', 2, 3, 0.15277557980539996, 'balanced'])\n",
      "Offspring1 =  ['entropy', 'best', 4, 3, 0.15277557980539996, 'balanced']\n",
      "Offspring2 =  ['entropy', 'best', 2, 1, 0.06121163577802741, 'balanced']\n",
      "\n",
      "New Population:\n",
      "['entropy', 'best', 4, 3, 0.15277557980539996, None]\n",
      "['entropy', 'best', 4, 3, 0.15277557980539996, 'balanced']\n",
      "['entropy', 'best', 4, 1, 0.15277557980539996, 'balanced']\n",
      "['entropy', 'best', 2, 3, 0.06121163577802741, 'balanced']\n",
      "['entropy', 'best', 2, 1, 0.06121163577802741, 'balanced']\n",
      "['entropy', 'best', 2, 2, 0.041751304419109236, 'balanced']\n",
      "['gini', 'random', 2, 3, 0.2507464600282168, 'balanced']\n",
      "['entropy', 'best', 3, 1, 0.492809433571152, None]\n",
      "['entropy', 'random', 3, 1, 0.4754652691585242, None]\n",
      "['entropy', 'best', 4, 1, 0.23065304437426948, 'balanced']\n",
      "\n",
      "GENERATION =  1\n",
      "score, parent1 =  (0.83784473609973, ['entropy', 'best', 2, 2, 0.041751304419109236, 'balanced'])\n",
      "score, parent2 =  (0.782873453853473, ['entropy', 'best', 2, 3, 0.06121163577802741, 'balanced'])\n",
      "Offspring1 =  ['entropy', 'best', 2, 3, 0.06121163577802741, 'balanced']\n",
      "Offspring2 =  ['entropy', 'best', 2, 2, 0.041751304419109236, 'balanced']\n",
      "\n",
      "New Population:\n",
      "['entropy', 'best', 2, 3, 0.06121163577802741, None]\n",
      "['entropy', 'best', 2, 3, 0.06121163577802741, 'balanced']\n",
      "['gini', 'best', 2, 3, 0.06121163577802741, 'balanced']\n",
      "['entropy', 'best', 2, 2, 0.041751304419109236, None]\n",
      "['entropy', 'best', 2, 2, 0.16831036103345004, 'balanced']\n",
      "['entropy', 'best', 3, 1, 0.41387532250404135, 'balanced']\n",
      "['entropy', 'best', 3, 2, 0.14775125048370152, None]\n",
      "['gini', 'random', 2, 1, 0.0045237891800961605, 'balanced']\n",
      "['entropy', 'best', 2, 3, 0.1708736451612594, 'balanced']\n",
      "['gini', 'best', 2, 2, 0.2811401013215826, 'balanced']\n",
      "\n",
      "GENERATION =  2\n",
      "score, parent1 =  (0.8362296697176965, ['entropy', 'best', 2, 2, 0.041751304419109236, None])\n",
      "score, parent2 =  (0.7976152743189193, ['entropy', 'best', 2, 3, 0.06121163577802741, None])\n",
      "Offspring1 =  ['entropy', 'best', 2, 3, 0.06121163577802741, None]\n",
      "Offspring2 =  ['entropy', 'best', 2, 2, 0.041751304419109236, None]\n",
      "\n",
      "New Population:\n",
      "['entropy', 'best', 2, 3, 0.06121163577802741, 'balanced']\n",
      "['entropy', 'best', 2, 2, 0.06121163577802741, None]\n",
      "['gini', 'best', 2, 3, 0.06121163577802741, None]\n",
      "['entropy', 'random', 2, 2, 0.041751304419109236, None]\n",
      "['entropy', 'random', 2, 2, 0.041751304419109236, None]\n",
      "['gini', 'random', 3, 1, 0.19690261504122025, None]\n",
      "['gini', 'best', 2, 2, 0.06452568086976007, None]\n",
      "['entropy', 'best', 2, 2, 0.3982036238400873, 'balanced']\n",
      "['entropy', 'best', 2, 3, 0.1139063723523479, None]\n",
      "['entropy', 'best', 4, 2, 0.00030384803358024515, None]\n",
      "\n",
      "GENERATION =  3\n",
      "score, parent1 =  (0.9677737062410382, ['entropy', 'best', 4, 2, 0.00030384803358024515, None])\n",
      "score, parent2 =  (0.7976456383942047, ['gini', 'best', 2, 3, 0.06121163577802741, None])\n",
      "Offspring1 =  ['entropy', 'best', 4, 3, 0.06121163577802741, None]\n",
      "Offspring2 =  ['gini', 'best', 2, 2, 0.00030384803358024515, None]\n",
      "\n",
      "New Population:\n",
      "['gini', 'best', 4, 3, 0.06121163577802741, None]\n",
      "['entropy', 'best', 4, 3, 0.25787821671209216, None]\n",
      "['entropy', 'best', 4, 3, 0.06121163577802741, None]\n",
      "['gini', 'best', 2, 2, 0.00030384803358024515, 'balanced']\n",
      "['gini', 'best', 2, 2, 0.00030384803358024515, 'balanced']\n",
      "['gini', 'random', 2, 3, 0.10463338627298929, 'balanced']\n",
      "['entropy', 'random', 4, 2, 0.4904589645264119, 'balanced']\n",
      "['entropy', 'best', 4, 1, 0.4204487848641232, None]\n",
      "['gini', 'best', 4, 1, 0.02929094582048264, 'balanced']\n",
      "['gini', 'best', 3, 2, 0.03582601470143876, None]\n",
      "\n",
      "GENERATION =  4\n",
      "score, parent1 =  (0.9654285346786525, ['gini', 'best', 2, 2, 0.00030384803358024515, 'balanced'])\n",
      "score, parent2 =  (0.9654285346786525, ['gini', 'best', 2, 2, 0.00030384803358024515, 'balanced'])\n",
      "Offspring1 =  ['gini', 'best', 2, 2, 0.00030384803358024515, 'balanced']\n",
      "Offspring2 =  ['gini', 'best', 2, 2, 0.00030384803358024515, 'balanced']\n",
      "\n",
      "New Population:\n",
      "['gini', 'best', 2, 2, 0.3082349720428162, 'balanced']\n",
      "['gini', 'best', 2, 2, 0.00030384803358024515, 'balanced']\n",
      "['gini', 'best', 2, 3, 0.00030384803358024515, 'balanced']\n",
      "['gini', 'best', 4, 2, 0.00030384803358024515, 'balanced']\n",
      "['gini', 'random', 2, 2, 0.00030384803358024515, 'balanced']\n",
      "['gini', 'best', 2, 3, 0.31951825074375667, 'balanced']\n",
      "['entropy', 'best', 4, 1, 0.0989709026702687, 'balanced']\n",
      "['gini', 'random', 2, 3, 0.48781352850249043, None]\n",
      "['gini', 'random', 2, 1, 0.36838277624445454, 'balanced']\n",
      "['gini', 'best', 2, 3, 0.12166441841628417, 'balanced']\n",
      "\n",
      "GENERATION =  5\n",
      "score, parent1 =  (0.9654285346786525, ['gini', 'best', 2, 2, 0.00030384803358024515, 'balanced'])\n",
      "score, parent2 =  (0.9654285346786525, ['gini', 'best', 2, 3, 0.00030384803358024515, 'balanced'])\n",
      "Offspring1 =  ['gini', 'best', 2, 3, 0.00030384803358024515, 'balanced']\n",
      "Offspring2 =  ['gini', 'best', 2, 2, 0.00030384803358024515, 'balanced']\n",
      "\n",
      "New Population:\n",
      "['entropy', 'best', 2, 3, 0.00030384803358024515, 'balanced']\n",
      "['gini', 'best', 2, 3, 0.39329560933326435, 'balanced']\n",
      "['gini', 'best', 2, 3, 0.00030384803358024515, None]\n",
      "['gini', 'random', 2, 2, 0.00030384803358024515, 'balanced']\n",
      "['gini', 'best', 2, 2, 0.00030384803358024515, 'balanced']\n",
      "['gini', 'best', 3, 1, 0.1690472440493957, None]\n",
      "['gini', 'best', 2, 2, 0.23893468892447078, 'balanced']\n",
      "['entropy', 'random', 3, 1, 0.41317787487396673, 'balanced']\n",
      "['gini', 'random', 2, 3, 0.06109094613893634, None]\n",
      "['gini', 'random', 4, 1, 0.45108107717638324, None]\n",
      "\n",
      "GENERATION =  6\n",
      "score, parent1 =  (0.9674215851845437, ['gini', 'best', 2, 3, 0.00030384803358024515, None])\n",
      "score, parent2 =  (0.9654285346786525, ['gini', 'best', 2, 2, 0.00030384803358024515, 'balanced'])\n",
      "Offspring1 =  ['gini', 'best', 2, 2, 0.00030384803358024515, 'balanced']\n",
      "Offspring2 =  ['gini', 'best', 2, 3, 0.00030384803358024515, None]\n",
      "\n",
      "New Population:\n",
      "['gini', 'best', 2, 2, 0.00030384803358024515, None]\n",
      "['gini', 'best', 2, 2, 0.41762532819836007, 'balanced']\n",
      "['gini', 'best', 2, 2, 0.41199134448702984, 'balanced']\n",
      "['gini', 'best', 2, 3, 0.00030384803358024515, 'balanced']\n",
      "['gini', 'best', 2, 3, 0.07256073943935382, None]\n",
      "['entropy', 'random', 2, 1, 0.2615119128087622, None]\n",
      "['entropy', 'random', 2, 2, 0.14304074518741228, None]\n",
      "['entropy', 'best', 4, 1, 0.3065811878214396, None]\n",
      "['gini', 'best', 3, 1, 0.011095084400582433, 'balanced']\n",
      "['gini', 'random', 3, 1, 0.4036194476344701, None]\n",
      "\n",
      "GENERATION =  7\n",
      "score, parent1 =  (0.9674215851845437, ['gini', 'best', 2, 2, 0.00030384803358024515, None])\n",
      "score, parent2 =  (0.9654285346786525, ['gini', 'best', 2, 3, 0.00030384803358024515, 'balanced'])\n",
      "Offspring1 =  ['gini', 'best', 2, 3, 0.00030384803358024515, 'balanced']\n",
      "Offspring2 =  ['gini', 'best', 2, 2, 0.00030384803358024515, None]\n",
      "\n",
      "New Population:\n",
      "['gini', 'random', 2, 3, 0.00030384803358024515, 'balanced']\n",
      "['gini', 'best', 2, 3, 0.00030384803358024515, 'balanced']\n",
      "['gini', 'best', 4, 3, 0.00030384803358024515, 'balanced']\n",
      "['gini', 'best', 2, 2, 0.00030384803358024515, None]\n",
      "['gini', 'best', 3, 2, 0.00030384803358024515, None]\n",
      "['gini', 'best', 4, 3, 0.3483472758517815, 'balanced']\n",
      "['gini', 'random', 3, 2, 0.20353562514548706, None]\n",
      "['gini', 'best', 4, 2, 0.2819503467180567, 'balanced']\n",
      "['entropy', 'random', 2, 3, 0.0005775979568697909, 'balanced']\n",
      "['entropy', 'best', 2, 1, 0.4482398998935101, None]\n",
      "\n",
      "GENERATION =  8\n",
      "score, parent1 =  (0.9674215851845437, ['gini', 'best', 2, 2, 0.00030384803358024515, None])\n",
      "score, parent2 =  (0.9674215851845437, ['gini', 'best', 3, 2, 0.00030384803358024515, None])\n",
      "Offspring1 =  ['gini', 'best', 2, 2, 0.00030384803358024515, None]\n",
      "Offspring2 =  ['gini', 'best', 3, 2, 0.00030384803358024515, None]\n",
      "\n",
      "New Population:\n",
      "['gini', 'best', 2, 2, 0.00030384803358024515, 'balanced']\n",
      "['gini', 'best', 2, 2, 0.00030384803358024515, None]\n",
      "['gini', 'random', 2, 2, 0.00030384803358024515, None]\n",
      "['gini', 'best', 2, 2, 0.00030384803358024515, None]\n",
      "['gini', 'random', 3, 2, 0.00030384803358024515, None]\n",
      "['entropy', 'random', 4, 1, 0.2526351140785424, None]\n",
      "['entropy', 'best', 3, 3, 0.15127564764078638, 'balanced']\n",
      "['gini', 'random', 2, 1, 0.012077974660580804, None]\n",
      "['gini', 'best', 2, 2, 0.47300059321580296, 'balanced']\n",
      "['gini', 'best', 2, 2, 0.10813526531003964, None]\n",
      "\n",
      "GENERATION =  9\n"
     ]
    },
    {
     "name": "stdout",
     "output_type": "stream",
     "text": [
      "score, parent1 =  (0.9674215851845437, ['gini', 'best', 2, 2, 0.00030384803358024515, None])\n",
      "score, parent2 =  (0.9674215851845437, ['gini', 'best', 2, 2, 0.00030384803358024515, None])\n",
      "Offspring1 =  ['gini', 'best', 2, 2, 0.00030384803358024515, None]\n",
      "Offspring2 =  ['gini', 'best', 2, 2, 0.00030384803358024515, None]\n",
      "\n",
      "New Population:\n",
      "['gini', 'random', 2, 2, 0.00030384803358024515, None]\n",
      "['gini', 'best', 2, 2, 0.00030384803358024515, None]\n",
      "['gini', 'best', 2, 2, 0.00030384803358024515, 'balanced']\n",
      "['gini', 'best', 2, 2, 0.00030384803358024515, None]\n",
      "['gini', 'best', 2, 2, 0.29727977340421047, None]\n",
      "['gini', 'random', 2, 1, 0.3590779036054396, 'balanced']\n",
      "['gini', 'random', 4, 2, 0.40214054397017013, 'balanced']\n",
      "['gini', 'random', 2, 1, 0.13928482930200764, 'balanced']\n",
      "['entropy', 'random', 3, 3, 0.20234025055742832, None]\n",
      "['gini', 'random', 2, 3, 0.2715458236599549, None]\n",
      "\n",
      "GENERATION =  10\n",
      "score, parent1 =  (0.9674215851845437, ['gini', 'best', 2, 2, 0.00030384803358024515, None])\n",
      "score, parent2 =  (0.9674215851845437, ['gini', 'best', 2, 2, 0.00030384803358024515, None])\n",
      "Offspring1 =  ['gini', 'best', 2, 2, 0.00030384803358024515, None]\n",
      "Offspring2 =  ['gini', 'best', 2, 2, 0.00030384803358024515, None]\n",
      "\n",
      "New Population:\n",
      "['gini', 'best', 2, 2, 0.00030384803358024515, 'balanced']\n",
      "['gini', 'random', 2, 2, 0.00030384803358024515, None]\n",
      "['gini', 'best', 2, 2, 0.2742289428193883, None]\n",
      "['gini', 'best', 2, 2, 0.00030384803358024515, None]\n",
      "['gini', 'best', 4, 2, 0.00030384803358024515, None]\n",
      "['gini', 'random', 2, 1, 0.42941852567108174, 'balanced']\n",
      "['entropy', 'random', 2, 1, 0.0946417957161046, 'balanced']\n",
      "['gini', 'best', 3, 2, 0.3903165845177477, None]\n",
      "['entropy', 'best', 2, 1, 0.19373808369693313, None]\n",
      "['gini', 'random', 3, 2, 0.3500108742183581, None]\n",
      "\n",
      "\n",
      "Best Fitness Scores for each generation:\n",
      "[['entropy', 'best', 4, 1, 0.06121163577802741, 'balanced'], ['entropy', 'best', 2, 2, 0.041751304419109236, 'balanced'], ['entropy', 'best', 2, 2, 0.041751304419109236, None], ['entropy', 'best', 4, 2, 0.00030384803358024515, None], ['gini', 'best', 2, 2, 0.00030384803358024515, 'balanced'], ['gini', 'best', 2, 2, 0.00030384803358024515, 'balanced'], ['gini', 'best', 2, 3, 0.00030384803358024515, None], ['gini', 'best', 2, 2, 0.00030384803358024515, None], ['gini', 'best', 2, 2, 0.00030384803358024515, None], ['gini', 'best', 2, 2, 0.00030384803358024515, None], ['gini', 'best', 2, 2, 0.00030384803358024515, None]]\n",
      "SORTED BEST RESULTS:\n",
      "[(0.9677737062410382, ['entropy', 'best', 4, 2, 0.00030384803358024515, None]), (0.9674215851845437, ['gini', 'best', 2, 3, 0.00030384803358024515, None]), (0.9674215851845437, ['gini', 'best', 2, 2, 0.00030384803358024515, None]), (0.9674215851845437, ['gini', 'best', 2, 2, 0.00030384803358024515, None]), (0.9674215851845437, ['gini', 'best', 2, 2, 0.00030384803358024515, None]), (0.9674215851845437, ['gini', 'best', 2, 2, 0.00030384803358024515, None]), (0.9654285346786525, ['gini', 'best', 2, 2, 0.00030384803358024515, 'balanced']), (0.9654285346786525, ['gini', 'best', 2, 2, 0.00030384803358024515, 'balanced']), (0.83784473609973, ['entropy', 'best', 2, 2, 0.041751304419109236, 'balanced']), (0.8362296697176965, ['entropy', 'best', 2, 2, 0.041751304419109236, None]), (0.782873453853473, ['entropy', 'best', 4, 1, 0.06121163577802741, 'balanced'])]\n",
      "[0.782873453853473, 0.83784473609973, 0.8362296697176965, 0.9677737062410382, 0.9654285346786525, 0.9654285346786525, 0.9674215851845437, 0.9674215851845437, 0.9674215851845437, 0.9674215851845437, 0.9674215851845437]\n"
     ]
    },
    {
     "data": {
      "image/png": "[encoded data removed]",
      "text/plain": [
       "<Figure size 432x288 with 1 Axes>"
      ]
     },
     "metadata": {
      "needs_background": "light"
     },
     "output_type": "display_data"
    },
    {
     "name": "stdout",
     "output_type": "stream",
     "text": [
      "\n",
      "Destroying ga object\n",
      "\n"
     ]
    }
   ],
   "source": [
    "# Instantiate Genetic Algoritm class, which generates ga.population of size population_size\n",
    "# The population's chromosome genes depend upon the classifier being used\n",
    "# Different classifiers have different 'gene pools' (hyperparameter options)\n",
    "dataset_path = \"../Datasets/ISOT Botnet 2010/Pre-processed/isot_botnet.csv\"\n",
    "\n",
    "ga = kf_genetic_algorithm(classifier='DecisionTreeClassifier', dataset_path=dataset_path,\n",
    "                          population_size=10, generations=10)\n",
    "\n",
    "# Run Genetic Algorithm for N generations on given dataset\n",
    "sorted_best_results = ga.run()\n",
    "\n",
    "print(\"SORTED BEST RESULTS:\")\n",
    "print(sorted_best_results)\n",
    "\n",
    "# Generate plot for the best fitness score in each generation\n",
    "ga.plot_fitness_scores()\n",
    "\n",
    "del ga"
   ]
  },
  {
   "cell_type": "code",
   "execution_count": null,
   "metadata": {},
   "outputs": [],
   "source": []
  },
  {
   "cell_type": "code",
   "execution_count": 12,
   "metadata": {
    "ExecuteTime": {
     "end_time": "2020-01-17T18:19:27.057949Z",
     "start_time": "2020-01-17T18:09:44.412901Z"
    },
    "scrolled": false
   },
   "outputs": [
    {
     "name": "stdout",
     "output_type": "stream",
     "text": [
      "Generating Population of size:  10\n",
      "Generated Inital Population:\n",
      "[[116, 'entropy', 4, 3, 0.1492363836388228, None], [185, 'gini', 4, 3, 0.029706366590352584, None], [172, 'entropy', 4, 2, 0.09341214168685413, 'balanced'], [170, 'entropy', 3, 3, 0.27558195964280346, 'balanced'], [178, 'entropy', 2, 1, 0.27932803237605663, 'balanced'], [41, 'entropy', 2, 2, 0.17468416316215568, 'balanced'], [48, 'gini', 3, 3, 0.35217698337886894, 'balanced'], [46, 'gini', 2, 1, 0.3286143982143913, None], [111, 'gini', 2, 2, 0.203118828479678, 'balanced'], [62, 'gini', 3, 2, 0.0119287031686936, None]]\n",
      "\n",
      "GENERATION =  0\n",
      "score, parent1 =  (0.8876862214509463, [62, 'gini', 3, 2, 0.0119287031686936, None])\n",
      "score, parent2 =  (0.8379974883331525, [185, 'gini', 4, 3, 0.029706366590352584, None])\n",
      "Offspring1 =  [62, 'gini', 3, 3, 0.029706366590352584, None]\n",
      "Offspring2 =  [185, 'gini', 4, 2, 0.0119287031686936, None]\n",
      "\n",
      "New Population:\n",
      "[62, 'entropy', 3, 3, 0.029706366590352584, None]\n",
      "[62, 'gini', 3, 3, 0.029706366590352584, None]\n",
      "[62, 'gini', 3, 2, 0.029706366590352584, None]\n",
      "[185, 'entropy', 4, 2, 0.0119287031686936, None]\n",
      "[185, 'gini', 4, 2, 0.0119287031686936, 'balanced']\n",
      "[96, 'gini', 4, 3, 0.3667224428335578, None]\n",
      "[25, 'entropy', 3, 2, 0.14756374386367005, None]\n",
      "[90, 'gini', 4, 1, 0.0006169648712688325, None]\n",
      "[186, 'gini', 3, 1, 0.25041945214115036, 'balanced']\n",
      "[167, 'entropy', 3, 1, 0.2426674971335443, None]\n",
      "\n",
      "GENERATION =  1\n",
      "score, parent1 =  (0.9605509964830012, [90, 'gini', 4, 1, 0.0006169648712688325, None])\n",
      "score, parent2 =  (0.9010469053251922, [185, 'gini', 4, 2, 0.0119287031686936, 'balanced'])\n",
      "Offspring1 =  [90, 'gini', 4, 2, 0.0119287031686936, 'balanced']\n",
      "Offspring2 =  [185, 'gini', 4, 1, 0.0006169648712688325, None]\n",
      "\n",
      "New Population:\n",
      "[90, 'gini', 4, 2, 0.2036349108195158, 'balanced']\n",
      "[90, 'gini', 4, 2, 0.0119287031686936, None]\n",
      "[90, 'gini', 4, 1, 0.0119287031686936, 'balanced']\n",
      "[185, 'entropy', 4, 1, 0.0006169648712688325, None]\n",
      "[185, 'entropy', 4, 1, 0.0006169648712688325, None]\n",
      "[66, 'gini', 4, 1, 0.07682558637899839, 'balanced']\n",
      "[119, 'entropy', 4, 1, 0.02979127661584291, None]\n",
      "[52, 'gini', 3, 3, 0.43314081448607655, None]\n",
      "[132, 'gini', 4, 3, 0.4551363273058448, 'balanced']\n",
      "[67, 'gini', 3, 3, 0.3368907351380927, None]\n",
      "\n",
      "GENERATION =  2\n",
      "score, parent1 =  (0.961141904441552, [185, 'entropy', 4, 1, 0.0006169648712688325, None])\n",
      "score, parent2 =  (0.9610127323284062, [185, 'entropy', 4, 1, 0.0006169648712688325, None])\n",
      "Offspring1 =  [185, 'entropy', 4, 1, 0.0006169648712688325, None]\n",
      "Offspring2 =  [185, 'entropy', 4, 1, 0.0006169648712688325, None]\n",
      "\n",
      "New Population:\n",
      "[185, 'entropy', 4, 1, 0.0006169648712688325, 'balanced']\n",
      "[185, 'gini', 4, 1, 0.0006169648712688325, None]\n",
      "[51, 'entropy', 4, 1, 0.0006169648712688325, None]\n",
      "[185, 'entropy', 4, 2, 0.0006169648712688325, None]\n",
      "[190, 'entropy', 4, 1, 0.0006169648712688325, None]\n",
      "[138, 'gini', 2, 2, 0.41687230622155025, 'balanced']\n",
      "[149, 'gini', 3, 3, 0.010149395235158676, 'balanced']\n",
      "[65, 'gini', 4, 2, 0.35918425045929386, 'balanced']\n",
      "[44, 'gini', 3, 3, 0.4089476348996653, None]\n",
      "[60, 'entropy', 2, 3, 0.033236950149877986, None]\n",
      "\n",
      "GENERATION =  3\n",
      "score, parent1 =  (0.9621876418146418, [51, 'entropy', 4, 1, 0.0006169648712688325, None])\n",
      "score, parent2 =  (0.9612564218907803, [190, 'entropy', 4, 1, 0.0006169648712688325, None])\n",
      "Offspring1 =  [51, 'entropy', 4, 1, 0.0006169648712688325, None]\n",
      "Offspring2 =  [190, 'entropy', 4, 1, 0.0006169648712688325, None]\n",
      "\n",
      "New Population:\n",
      "[187, 'entropy', 4, 1, 0.0006169648712688325, None]\n",
      "[51, 'entropy', 4, 3, 0.0006169648712688325, None]\n",
      "[51, 'entropy', 4, 3, 0.0006169648712688325, None]\n",
      "[190, 'entropy', 4, 1, 0.0006169648712688325, 'balanced']\n",
      "[46, 'entropy', 4, 1, 0.0006169648712688325, None]\n",
      "[135, 'gini', 4, 2, 0.20534014588860666, 'balanced']\n",
      "[140, 'entropy', 2, 3, 0.13779840828239354, 'balanced']\n",
      "[88, 'gini', 2, 2, 0.3777475952369718, None]\n",
      "[27, 'entropy', 2, 3, 0.27298686637840724, 'balanced']\n",
      "[91, 'entropy', 3, 3, 0.24346818414410454, None]\n",
      "\n",
      "GENERATION =  4\n",
      "score, parent1 =  (0.9635394856540511, [190, 'entropy', 4, 1, 0.0006169648712688325, 'balanced'])\n",
      "score, parent2 =  (0.9612183097561333, [51, 'entropy', 4, 3, 0.0006169648712688325, None])\n",
      "Offspring1 =  [190, 'entropy', 4, 3, 0.0006169648712688325, None]\n",
      "Offspring2 =  [51, 'entropy', 4, 1, 0.0006169648712688325, 'balanced']\n",
      "\n",
      "New Population:\n",
      "[190, 'entropy', 4, 1, 0.0006169648712688325, None]\n",
      "[37, 'entropy', 4, 3, 0.0006169648712688325, None]\n",
      "[190, 'gini', 4, 3, 0.0006169648712688325, None]\n",
      "[51, 'entropy', 4, 2, 0.0006169648712688325, 'balanced']\n",
      "[51, 'entropy', 4, 3, 0.0006169648712688325, 'balanced']\n",
      "[42, 'gini', 4, 3, 0.45741185990925215, 'balanced']\n",
      "[160, 'gini', 2, 3, 0.4711368359242557, None]\n",
      "[40, 'entropy', 4, 2, 0.06109327499576206, 'balanced']\n",
      "[100, 'gini', 4, 2, 0.16499899461806017, 'balanced']\n",
      "[176, 'gini', 4, 2, 0.35595936943535406, None]\n",
      "\n",
      "GENERATION =  5\n",
      "score, parent1 =  (0.9641258195892666, [51, 'entropy', 4, 3, 0.0006169648712688325, 'balanced'])\n",
      "score, parent2 =  (0.9620704781400791, [37, 'entropy', 4, 3, 0.0006169648712688325, None])\n",
      "Offspring1 =  [51, 'entropy', 4, 3, 0.0006169648712688325, None]\n",
      "Offspring2 =  [37, 'entropy', 4, 3, 0.0006169648712688325, 'balanced']\n",
      "\n",
      "New Population:\n",
      "[59, 'entropy', 4, 3, 0.0006169648712688325, None]\n",
      "[85, 'entropy', 4, 3, 0.0006169648712688325, None]\n",
      "[29, 'entropy', 4, 3, 0.0006169648712688325, None]\n",
      "[37, 'entropy', 4, 3, 0.27924185181688854, 'balanced']\n",
      "[37, 'entropy', 4, 1, 0.0006169648712688325, 'balanced']\n",
      "[16, 'entropy', 3, 1, 0.390592997652428, 'balanced']\n",
      "[112, 'gini', 4, 1, 0.0011357776636200523, None]\n",
      "[186, 'entropy', 3, 1, 0.11051880373832701, None]\n",
      "[28, 'entropy', 2, 3, 0.04604719977710148, None]\n",
      "[57, 'gini', 4, 1, 0.3798787612141467, None]\n",
      "\n",
      "GENERATION =  6\n",
      "score, parent1 =  (0.9616449189402927, [85, 'entropy', 4, 3, 0.0006169648712688325, None])\n",
      "score, parent2 =  (0.9611940298507463, [59, 'entropy', 4, 3, 0.0006169648712688325, None])\n",
      "Offspring1 =  [85, 'entropy', 4, 3, 0.0006169648712688325, None]\n",
      "Offspring2 =  [59, 'entropy', 4, 3, 0.0006169648712688325, None]\n",
      "\n",
      "New Population:\n",
      "[167, 'entropy', 4, 3, 0.0006169648712688325, None]\n",
      "[85, 'entropy', 4, 1, 0.0006169648712688325, None]\n",
      "[85, 'entropy', 3, 3, 0.0006169648712688325, None]\n",
      "[59, 'entropy', 4, 3, 0.0006169648712688325, None]\n",
      "[59, 'gini', 4, 3, 0.0006169648712688325, None]\n",
      "[86, 'entropy', 2, 3, 0.3665721684876726, None]\n",
      "[128, 'entropy', 3, 3, 0.10318036093827898, None]\n",
      "[25, 'gini', 4, 3, 0.3688445632609796, None]\n",
      "[71, 'entropy', 4, 3, 0.412764917227879, 'balanced']\n",
      "[188, 'gini', 4, 3, 0.28399443458031565, 'balanced']\n",
      "\n",
      "GENERATION =  7\n",
      "score, parent1 =  (0.962228848739987, [59, 'gini', 4, 3, 0.0006169648712688325, None])\n",
      "score, parent2 =  (0.9617876310671093, [85, 'entropy', 4, 1, 0.0006169648712688325, None])\n",
      "Offspring1 =  [59, 'gini', 4, 1, 0.0006169648712688325, None]\n",
      "Offspring2 =  [85, 'entropy', 4, 3, 0.0006169648712688325, None]\n",
      "\n",
      "New Population:\n",
      "[59, 'gini', 4, 2, 0.0006169648712688325, None]\n",
      "[18, 'gini', 4, 1, 0.0006169648712688325, None]\n",
      "[59, 'gini', 4, 2, 0.0006169648712688325, None]\n",
      "[85, 'entropy', 4, 3, 0.0006169648712688325, None]\n",
      "[85, 'entropy', 4, 3, 0.0006169648712688325, None]\n",
      "[135, 'gini', 4, 3, 0.47969359341054896, None]\n",
      "[69, 'entropy', 4, 1, 0.35534955209395785, 'balanced']\n",
      "[156, 'entropy', 3, 2, 0.0734338977691596, None]\n",
      "[122, 'gini', 3, 3, 0.39247404450499984, 'balanced']\n",
      "[95, 'gini', 2, 3, 0.3201453647660875, 'balanced']\n",
      "\n",
      "GENERATION =  8\n",
      "score, parent1 =  (0.9626088990235631, [85, 'entropy', 4, 3, 0.0006169648712688325, None])\n",
      "score, parent2 =  (0.9612623020341312, [59, 'gini', 4, 2, 0.0006169648712688325, None])\n",
      "Offspring1 =  [85, 'entropy', 4, 2, 0.0006169648712688325, None]\n",
      "Offspring2 =  [59, 'gini', 4, 3, 0.0006169648712688325, None]\n",
      "\n",
      "New Population:\n",
      "[85, 'entropy', 4, 1, 0.0006169648712688325, None]\n",
      "[85, 'entropy', 2, 2, 0.0006169648712688325, None]\n",
      "[85, 'entropy', 2, 2, 0.0006169648712688325, None]\n",
      "[59, 'gini', 4, 3, 0.332095620109228, None]\n",
      "[59, 'entropy', 4, 3, 0.0006169648712688325, None]\n",
      "[197, 'gini', 4, 1, 0.30363091600276526, 'balanced']\n",
      "[85, 'entropy', 3, 1, 0.017341875903748027, None]\n",
      "[52, 'entropy', 2, 3, 0.4004238757896779, 'balanced']\n",
      "[60, 'gini', 4, 2, 0.4754478659634252, None]\n",
      "[95, 'entropy', 2, 1, 0.31837990892599916, 'balanced']\n",
      "\n",
      "GENERATION =  9\n"
     ]
    },
    {
     "name": "stdout",
     "output_type": "stream",
     "text": [
      "score, parent1 =  (0.961541836048314, [85, 'entropy', 2, 2, 0.0006169648712688325, None])\n",
      "score, parent2 =  (0.9615243786340935, [85, 'entropy', 4, 1, 0.0006169648712688325, None])\n",
      "Offspring1 =  [85, 'entropy', 2, 1, 0.0006169648712688325, None]\n",
      "Offspring2 =  [85, 'entropy', 4, 2, 0.0006169648712688325, None]\n",
      "\n",
      "New Population:\n",
      "[85, 'gini', 2, 1, 0.0006169648712688325, None]\n",
      "[85, 'entropy', 4, 1, 0.0006169648712688325, None]\n",
      "[85, 'gini', 2, 1, 0.0006169648712688325, None]\n",
      "[85, 'entropy', 4, 2, 0.0006169648712688325, None]\n",
      "[85, 'entropy', 4, 2, 0.0006169648712688325, None]\n",
      "[178, 'entropy', 4, 3, 0.4452724033773271, 'balanced']\n",
      "[72, 'gini', 3, 1, 0.29161463756756245, None]\n",
      "[175, 'entropy', 2, 2, 0.15179356176340625, 'balanced']\n",
      "[163, 'entropy', 4, 1, 0.004511836914929512, None]\n",
      "[64, 'entropy', 2, 1, 0.21801257009817104, None]\n",
      "\n",
      "GENERATION =  10\n",
      "score, parent1 =  (0.9615165044280173, [85, 'entropy', 4, 2, 0.0006169648712688325, None])\n",
      "score, parent2 =  (0.961014216620255, [85, 'entropy', 4, 2, 0.0006169648712688325, None])\n",
      "Offspring1 =  [85, 'entropy', 4, 2, 0.0006169648712688325, None]\n",
      "Offspring2 =  [85, 'entropy', 4, 2, 0.0006169648712688325, None]\n",
      "\n",
      "New Population:\n",
      "[85, 'entropy', 4, 1, 0.0006169648712688325, None]\n",
      "[85, 'gini', 4, 2, 0.0006169648712688325, None]\n",
      "[85, 'entropy', 3, 2, 0.0006169648712688325, None]\n",
      "[85, 'entropy', 4, 2, 0.0006169648712688325, None]\n",
      "[59, 'entropy', 4, 2, 0.0006169648712688325, None]\n",
      "[23, 'gini', 2, 1, 0.2940670379598472, None]\n",
      "[20, 'gini', 2, 2, 0.32935222469943864, None]\n",
      "[180, 'gini', 4, 1, 0.4076963454700674, None]\n",
      "[51, 'gini', 2, 3, 0.10033258545242446, None]\n",
      "[125, 'gini', 3, 3, 0.39401390060640806, 'balanced']\n",
      "SORTED BEST RESULTS:\n",
      "[(0.9641258195892666, [51, 'entropy', 4, 3, 0.0006169648712688325, 'balanced']), (0.9635394856540511, [190, 'entropy', 4, 1, 0.0006169648712688325, 'balanced']), (0.9626088990235631, [85, 'entropy', 4, 3, 0.0006169648712688325, None]), (0.962228848739987, [59, 'gini', 4, 3, 0.0006169648712688325, None]), (0.9621876418146418, [51, 'entropy', 4, 1, 0.0006169648712688325, None]), (0.9616449189402927, [85, 'entropy', 4, 3, 0.0006169648712688325, None]), (0.961541836048314, [85, 'entropy', 2, 2, 0.0006169648712688325, None]), (0.9615165044280173, [85, 'entropy', 4, 2, 0.0006169648712688325, None]), (0.961141904441552, [185, 'entropy', 4, 1, 0.0006169648712688325, None]), (0.9605509964830012, [90, 'gini', 4, 1, 0.0006169648712688325, None]), (0.8876862214509463, [62, 'gini', 3, 2, 0.0119287031686936, None])]\n",
      "[0.8876862214509463, 0.9605509964830012, 0.961141904441552, 0.9621876418146418, 0.9635394856540511, 0.9641258195892666, 0.9616449189402927, 0.962228848739987, 0.9626088990235631, 0.961541836048314, 0.9615165044280173]\n"
     ]
    },
    {
     "data": {
      "image/png": "[encoded data removed]",
      "text/plain": [
       "<Figure size 432x288 with 1 Axes>"
      ]
     },
     "metadata": {
      "needs_background": "light"
     },
     "output_type": "display_data"
    },
    {
     "name": "stdout",
     "output_type": "stream",
     "text": [
      "\n",
      "Destroying ga object\n",
      "\n"
     ]
    }
   ],
   "source": [
    "# Instantiate Genetic Algoritm class, which generates ga.population of size population_size\n",
    "# The population's chromosome genes depend upon the classifier being used\n",
    "# Different classifiers have different 'gene pools' (hyperparameter options)\n",
    "dataset_path = \"../Datasets/ISOT Botnet 2010/Pre-processed/isot_botnet.csv\"\n",
    "\n",
    "ga = kf_genetic_algorithm(classifier='RandomForestClassifier', dataset_path=dataset_path,\n",
    "                          population_size=10, generations=10)\n",
    "\n",
    "# Run Genetic Algorithm for N generations on given dataset\n",
    "sorted_best_results = ga.run()\n",
    "\n",
    "print(\"SORTED BEST RESULTS:\")\n",
    "print(sorted_best_results)\n",
    "\n",
    "# Generate plot for the best fitness score in each generation\n",
    "ga.plot_fitness_scores()\n",
    "\n",
    "del ga"
   ]
  },
  {
   "cell_type": "code",
   "execution_count": null,
   "metadata": {},
   "outputs": [],
   "source": []
  },
  {
   "cell_type": "code",
   "execution_count": 4,
   "metadata": {
    "ExecuteTime": {
     "end_time": "2020-01-24T08:53:33.609192Z",
     "start_time": "2020-01-24T08:53:31.953484Z"
    }
   },
   "outputs": [
    {
     "name": "stdout",
     "output_type": "stream",
     "text": [
      "Fit Time =  0.510642123222351\n",
      "Precision =  0.561412387602695\n",
      "Recall =  0.5379856005130942\n",
      "F1 Score =  0.5494493963874995\n",
      "\n",
      "\n"
     ]
    }
   ],
   "source": [
    "import kf_ml_lib as kf\n",
    "\n",
    "import numpy as np\n",
    "from sklearn.tree import DecisionTreeClassifier\n",
    "from sklearn import metrics\n",
    "from sklearn.model_selection import cross_validate\n",
    "import matplotlib.pyplot as plt\n",
    "\n",
    "dataset_path = \"../Datasets/CTU-13/Pre-processed/7.csv\"\n",
    "dataset = kf.load_dataset(dataset_path)\n",
    "X, y = kf.split_dataset(dataset, extended=False)\n",
    "\n",
    "clf = DecisionTreeClassifier(criterion='gini', splitter='best', min_samples_split=2, min_samples_leaf=3,\n",
    "                             min_weight_fraction_leaf=0.0, class_weight=None)\n",
    "\n",
    "scoring = ['precision_macro', 'recall_macro']\n",
    "results = cross_validate(clf, X, y, cv=10, scoring=scoring, n_jobs=8, verbose=0)\n",
    "\n",
    "\n",
    "fit_time = np.mean(results['fit_time'])\n",
    "precision = np.mean(results['test_precision_macro'])\n",
    "recall = np.mean(results['test_recall_macro'])\n",
    "f1_score = kf.calc_f1_score(precision, recall)\n",
    "\n",
    "print(\"Fit Time = \", fit_time)\n",
    "print(\"Precision = \", precision)\n",
    "print(\"Recall = \", recall)\n",
    "print(\"F1 Score = \", f1_score)\n",
    "print(\"\\n\")"
   ]
  },
  {
   "cell_type": "code",
   "execution_count": null,
   "metadata": {},
   "outputs": [],
   "source": [
    "7.csv \n",
    "    Default hyperparams score = 0.535613124492383\n",
    "    GA hyperparams score = \n",
    "    ['gini', 'best', 2, 3, 0.0, None]\n",
    "    \n",
    "              self.criterions = ['gini', 'entropy']\n",
    "            self.splits = ['best', 'random']\n",
    "            self.min_samples_splits = dict(low = 2, high = 5)\n",
    "            self.min_samples_leafs = dict(low = 1, high = 4)\n",
    "            self.min_weight_fraction_leafs = dict(low = 0.0, high = 0.5)\n",
    "            self.class_weights = ['balanced', None]"
   ]
  }
 ],
 "metadata": {
  "kernelspec": {
   "display_name": "Python 3",
   "language": "python",
   "name": "python3"
  }
 },
 "nbformat": 4,
 "nbformat_minor": 2
}

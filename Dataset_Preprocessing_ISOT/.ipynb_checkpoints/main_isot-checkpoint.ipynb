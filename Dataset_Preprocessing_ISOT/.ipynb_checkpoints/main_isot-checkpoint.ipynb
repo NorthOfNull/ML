{
 "cells": [
  {
   "cell_type": "code",
   "execution_count": 1,
   "metadata": {
    "ExecuteTime": {
     "end_time": "2019-12-29T14:35:41.613760Z",
     "start_time": "2019-12-29T14:35:10.961642Z"
    }
   },
   "outputs": [
    {
     "name": "stdout",
     "output_type": "stream",
     "text": [
      "Created isot_preprocessor object\n",
      "../../Datasets/ISOT Botnet 2010/Netflow/ISOT_Botnet.binetflow\n"
     ]
    },
    {
     "name": "stderr",
     "output_type": "stream",
     "text": [
      "c:\\users\\asmarus\\anaconda3\\envs\\tensorflow-gpu\\lib\\site-packages\\IPython\\core\\interactiveshell.py:3249: DtypeWarning: Columns (14) have mixed types. Specify dtype option on import or set low_memory=False.\n",
      "  if (await self.run_code(code, result,  async_=asy)):\n"
     ]
    },
    {
     "name": "stdout",
     "output_type": "stream",
     "text": [
      "Started ISOT Dataset Netflow Preprocessor!\n",
      "     [1/3] Fixing hex values...\n",
      "     [2/3] Filling empty fields...\n",
      "     [3/3] Creating labels...\n",
      "Finished preprocessing!!!\n",
      "Botnet Flows =  115878\n",
      "Normal Flows =  220893\n",
      "Writing fixed dataset Dataframe to  ../../Datasets/ISOT Botnet 2010/Pre-processed/isot_botnet.csv\n",
      "File Write Successful!\n",
      "         StartTime       Dur Proto      SrcAddr Sport    Dir         DstAddr  \\\n",
      "0  23:05:38.958596  2.925192   tcp  172.16.0.12  1035     ->  198.155.242.22   \n",
      "1  23:05:38.959924  0.920834   tcp  172.16.0.12  1036     ->    64.95.58.150   \n",
      "2  23:05:47.893319  0.000000   tcp  172.16.0.12  1035     ->  198.155.242.22   \n",
      "3  23:05:59.619627  0.347173   tcp  172.16.0.12  1036     ->    64.95.58.150   \n",
      "4  23:05:59.970500  1.143746   tcp  172.16.0.12  1038     ->      89.3.63.62   \n",
      "\n",
      "  Dport State  sTos  dTos  TotPkts  TotBytes  SrcBytes   Label  \n",
      "0    80   REQ   0.0   0.0        2       124       124  Botnet  \n",
      "1    80   CON   0.0   0.0       14      8924      4599  Botnet  \n",
      "2    80   REQ   0.0   0.0        1        62        62  Botnet  \n",
      "3    80   RST   0.0   0.0        3       174       120  Botnet  \n",
      "4    80   CON   0.0   0.0        8      2152      1439  Botnet  \n",
      "Destroying isot_preprocessor object\n",
      "\n",
      "\n",
      "DONE!!!!!\n"
     ]
    }
   ],
   "source": [
    "#\n",
    "# ISOT Botnet Netflow Dataset\n",
    "#      Adds labels, fixes port hex values and counts flows\n",
    "#\n",
    "\n",
    "# Imports\n",
    "from ipynb.fs.full.isot_preprocessor import isot_preprocessor\n",
    "%run isot_preprocessor.py\n",
    "\n",
    "import matplotlib.pyplot as plt\n",
    "\n",
    "\n",
    "# Main function\n",
    "# Create isot_preprocessor object\n",
    "pp = isot_preprocessor(\"../../Datasets/ISOT Botnet 2010/Netflow/ISOT_Botnet.binetflow\")\n",
    "\n",
    "# Load dataset from it's path into the object\n",
    "pp.get_dataset()\n",
    "\n",
    "# Preprocess dataset in the dataframe\n",
    "# Converts any hex in Sport and Dport fields to ints\n",
    "# Adds labels to dataset\n",
    "pp.process_isot()\n",
    "\n",
    "# Count each type of flow in the dataset\n",
    "botnet_flows, normal_flows = pp.count_flows()\n",
    "print(\"Botnet Flows = \", botnet_flows)\n",
    "print(\"Normal Flows = \", normal_flows)\n",
    "\n",
    "# Write preprocessed dataframe to file\n",
    "pp.write_fixed_dataset()\n",
    "\n",
    "# Confirm it has been loaded\n",
    "print(pp.show_dataset_head())\n",
    "\n",
    "del pp\n",
    "\n",
    "print(\"DONE!!!!!\")"
   ]
  },
  {
   "cell_type": "code",
   "execution_count": null,
   "metadata": {},
   "outputs": [],
   "source": []
  }
 ],
 "metadata": {
  "kernelspec": {
   "display_name": "Python 3",
   "language": "python",
   "name": "python3"
  },
  "language_info": {
   "codemirror_mode": {
    "name": "ipython",
    "version": 3
   },
   "file_extension": ".py",
   "mimetype": "text/x-python",
   "name": "python",
   "nbconvert_exporter": "python",
   "pygments_lexer": "ipython3",
   "version": "3.7.4"
  }
 },
 "nbformat": 4,
 "nbformat_minor": 2
}

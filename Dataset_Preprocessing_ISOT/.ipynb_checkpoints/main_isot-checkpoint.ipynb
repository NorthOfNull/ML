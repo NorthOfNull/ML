{
 "cells": [
  {
   "cell_type": "code",
   "execution_count": 2,
   "metadata": {
    "ExecuteTime": {
     "end_time": "2020-02-04T12:05:52.928512Z",
     "start_time": "2020-02-04T12:05:01.668301Z"
    }
   },
   "outputs": [
    {
     "name": "stdout",
     "output_type": "stream",
     "text": [
      "Created isot_preprocessor object\n",
      "../../Datasets/ISOT Botnet 2010/Netflow_Extended/ISOT_Botnet.binetflow\n"
     ]
    },
    {
     "name": "stderr",
     "output_type": "stream",
     "text": [
      "c:\\users\\asmarus\\anaconda3\\envs\\tensorflow-gpu\\lib\\site-packages\\IPython\\core\\interactiveshell.py:3249: DtypeWarning: Columns (32) have mixed types. Specify dtype option on import or set low_memory=False.\n",
      "  if (await self.run_code(code, result,  async_=asy)):\n"
     ]
    },
    {
     "name": "stdout",
     "output_type": "stream",
     "text": [
      "Started ISOT Dataset Netflow Preprocessor!\n",
      "     [1/3] Fixing hex values...\n",
      "     [2/3] Filling empty fields...\n",
      "     [3/3] Creating labels...\n",
      "Finished preprocessing!!!\n",
      "Botnet Flows =  115878\n",
      "Normal Flows =  220893\n",
      "Writing fixed dataset Dataframe to  ../../Datasets/ISOT Botnet 2010/Pre-processed_Extended/isot_botnet.csv\n",
      "File Write Successful!\n",
      "       SrcAddr         DstAddr Proto Sport Dport State  sTos  dTos   SrcWin  \\\n",
      "0  172.16.0.12  198.155.242.22   tcp  1035    80   REQ   0.0   0.0  65535.0   \n",
      "1  172.16.0.12    64.95.58.150   tcp  1036    80   CON   0.0   0.0  64446.0   \n",
      "2  172.16.0.12  198.155.242.22   tcp  1035    80   REQ   0.0   0.0  65535.0   \n",
      "3  172.16.0.12    64.95.58.150   tcp  1036    80   RST   0.0   0.0  64446.0   \n",
      "4  172.16.0.12      89.3.63.62   tcp  1038    80   CON   0.0   0.0  64992.0   \n",
      "\n",
      "    DstWin  ...  SAppBytes  DAppBytes       Dur TotPkts  TotBytes  TotAppByte  \\\n",
      "0      0.0  ...          0          0  2.925192       2       124           0   \n",
      "1  65340.0  ...          0          0  0.920834      14      8924           0   \n",
      "2      0.0  ...          0          0  0.000000       1        62           0   \n",
      "3  65340.0  ...          0          0  0.347173       3       174           0   \n",
      "4  64386.0  ...          0          0  1.143746       8      2152           0   \n",
      "\n",
      "        Rate   SrcRate  DstRate   Label  \n",
      "0   0.341858  0.341858  0.00000  Botnet  \n",
      "1  14.117637  7.601804  5.42986  Botnet  \n",
      "2   0.000000  0.000000  0.00000  Botnet  \n",
      "3   5.760817  2.880408  0.00000  Botnet  \n",
      "4   6.120240  3.497280  1.74864  Botnet  \n",
      "\n",
      "[5 rows x 33 columns]\n",
      "Destroying isot_preprocessor object\n",
      "\n",
      "\n",
      "DONE!!!!!\n"
     ]
    }
   ],
   "source": [
    "#\n",
    "# ISOT Botnet Netflow Dataset\n",
    "#      Adds labels, fixes port hex values and counts flows\n",
    "#\n",
    "\n",
    "# Imports\n",
    "from ipynb.fs.full.isot_preprocessor import isot_preprocessor\n",
    "%run isot_preprocessor.py\n",
    "\n",
    "import matplotlib.pyplot as plt\n",
    "\n",
    "\n",
    "# Main function\n",
    "# Create isot_preprocessor object\n",
    "pp = isot_preprocessor(\"../../Datasets/ISOT Botnet 2010/Netflow_Extended/ISOT_Botnet.binetflow\")\n",
    "\n",
    "# Load dataset from it's path into the object\n",
    "pp.get_dataset()\n",
    "\n",
    "# Preprocess dataset in the dataframe\n",
    "# Converts any hex in Sport and Dport fields to ints\n",
    "# Adds labels to dataset\n",
    "pp.process_isot(extended=True)\n",
    "\n",
    "# Count each type of flow in the dataset\n",
    "botnet_flows, normal_flows = pp.count_flows()\n",
    "print(\"Botnet Flows = \", botnet_flows)\n",
    "print(\"Normal Flows = \", normal_flows)\n",
    "\n",
    "# Write preprocessed dataframe to file\n",
    "pp.write_fixed_dataset(extended=True)\n",
    "\n",
    "# Confirm it has been loaded\n",
    "print(pp.show_dataset_head())\n",
    "\n",
    "del pp\n",
    "\n",
    "print(\"DONE!!!!!\")"
   ]
  },
  {
   "cell_type": "code",
   "execution_count": null,
   "metadata": {},
   "outputs": [],
   "source": []
  }
 ],
 "metadata": {
  "kernelspec": {
   "display_name": "Python 3",
   "language": "python",
   "name": "python3"
  },
  "language_info": {
   "codemirror_mode": {
    "name": "ipython",
    "version": 3
   },
   "file_extension": ".py",
   "mimetype": "text/x-python",
   "name": "python",
   "nbconvert_exporter": "python",
   "pygments_lexer": "ipython3",
   "version": "3.7.4"
  }
 },
 "nbformat": 4,
 "nbformat_minor": 2
}

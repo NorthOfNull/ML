{
 "cells": [
  {
   "cell_type": "code",
   "execution_count": 3,
   "metadata": {
    "ExecuteTime": {
     "end_time": "2019-12-12T12:12:19.895587Z",
     "start_time": "2019-12-12T12:12:19.880627Z"
    }
   },
   "outputs": [],
   "source": [
    "# Dataset Preprocessing class for ISOT netflows\n",
    "#      get_dataset()\n",
    "#      create_labels()\n",
    "#      count_flow_types()\n",
    "#      write_fixed_dataset()\n",
    "#      show_dataset_head()\n",
    "\n",
    "\n",
    "# Import Pandas library for DataFrame and related functions\n",
    "import pandas as pd\n",
    "\n",
    "# Dataset preprocessor class\n",
    "class isot_preprocessor:\n",
    "    def __init__(self, input_path):\n",
    "        self.path = input_path\n",
    "        self.dataset = 0\n",
    "        \n",
    "        print(\"Created isot_preprocessor object\")\n",
    "    \n",
    "    def __del__(self):\n",
    "        print(\"Destroying isot_preprocessor object\")\n",
    "        print(\"\")\n",
    "        print(\"\")\n",
    "\n",
    "        \n",
    "        \n",
    "    # Function to load dataset from a given path string\n",
    "    def get_dataset(self):\n",
    "        print(self.path)\n",
    "\n",
    "        try:\n",
    "            # Read in .csv file data from the defined path\n",
    "            raw_dataset = pd.read_csv(self.path)\n",
    "            \n",
    "            # Put data into Pandas DataFrame\n",
    "            self.dataset = pd.DataFrame(raw_dataset)\n",
    "\n",
    "        except:\n",
    "            print(\"File Read Error\")\n",
    "\n",
    "            \n",
    "\n",
    "    # Function to create dataset DataFrame Label descriptions\n",
    "    def create_labels(self):\n",
    "        print(\"Creating labels...\")\n",
    "        \n",
    "        \n",
    "        \n",
    "        \n",
    "        # Iterate over each column\n",
    "        for i in range(self.dataset.shape[0]):\n",
    "            label = self.dataset.at[i, 'Label']\n",
    "            \n",
    "            if \"Background\" in label:\n",
    "                self.dataset.at[i, 'Label'] = \"Background\"\n",
    "            elif \"Normal\" in label:\n",
    "                self.dataset.at[i, 'Label'] = \"Normal\"\n",
    "            elif \"Botnet\" in label:\n",
    "                self.dataset.at[i, 'Label'] = \"Botnet\"\n",
    "        \n",
    "        print(\"Labels fixed!!!\")\n",
    "        \n",
    "\n",
    "        \n",
    "    # Function to write modified dataset to a new file\n",
    "    def write_fixed_dataset(self):\n",
    "        dataset_dir = \"../../Datasets/ISOT Botnet 2010//Pre-processed/isot_botnet.binetflow\"\n",
    "        \n",
    "        print(\"Writing fixed dataset Dataframe to \", dataset_dir)\n",
    "        \n",
    "        try:\n",
    "            self.dataset.to_csv(fixed_dataset_dir)\n",
    "            print(\"File Write Successful!\")\n",
    "        except:\n",
    "            print(\"to_csv - File Write Error\")\n",
    "    \n",
    "    \n",
    "    \n",
    "    # Function to show the head of the object's loaded dataset\n",
    "    def show_dataset_head(self):\n",
    "        return self.dataset.head()\n",
    "        \n"
   ]
  },
  {
   "cell_type": "code",
   "execution_count": 2,
   "metadata": {
    "ExecuteTime": {
     "end_time": "2019-12-12T12:10:12.939151Z",
     "start_time": "2019-12-12T12:10:12.337760Z"
    }
   },
   "outputs": [
    {
     "name": "stdout",
     "output_type": "stream",
     "text": [
      "Created isot_preprocessor object\n",
      "../../Datasets/ISOT Botnet 2010/Netflow/ISOT_Botnet.binetflow\n",
      "(336772, 15)\n",
      "         StartTime       Dur Proto      SrcAddr Sport    Dir  ... sTos dTos TotPkts  TotBytes  SrcBytes  Label\n",
      "0  20:22:31.841818  0.001267   man            0     0    NaN  ...  NaN  NaN       0         0         0    NaN\n",
      "1  23:05:38.958596  2.925192   tcp  172.16.0.12  1035     ->  ...  0.0  NaN       2       124       124    NaN\n",
      "2  23:05:38.959924  0.920834   tcp  172.16.0.12  1036     ->  ...  0.0  0.0      14      8924      4599    NaN\n",
      "3  23:05:47.893319  0.000000   tcp  172.16.0.12  1035     ->  ...  0.0  NaN       1        62        62    NaN\n",
      "4  23:05:59.619627  0.347173   tcp  172.16.0.12  1036     ->  ...  0.0  0.0       3       174       120    NaN\n",
      "\n",
      "[5 rows x 15 columns]\n",
      "         StartTime       Dur Proto      SrcAddr Sport    Dir  ... sTos dTos TotPkts  TotBytes  SrcBytes  Label\n",
      "0  20:22:31.841818  0.001267   man            0     0    NaN  ...  NaN  NaN       0         0         0    NaN\n",
      "1  23:05:38.958596  2.925192   tcp  172.16.0.12  1035     ->  ...  0.0  NaN       2       124       124    NaN\n",
      "2  23:05:38.959924  0.920834   tcp  172.16.0.12  1036     ->  ...  0.0  0.0      14      8924      4599    NaN\n",
      "3  23:05:47.893319  0.000000   tcp  172.16.0.12  1035     ->  ...  0.0  NaN       1        62        62    NaN\n",
      "4  23:05:59.619627  0.347173   tcp  172.16.0.12  1036     ->  ...  0.0  0.0       3       174       120    NaN\n",
      "\n",
      "[5 rows x 15 columns]\n",
      "Destroying isot_preprocessor object\n",
      "\n",
      "\n",
      "DONE!!!!!\n"
     ]
    }
   ],
   "source": [
    "# Main function\n",
    "# Create isot_preprocessor object\n",
    "pp = isot_preprocessor(\"../../Datasets/ISOT Botnet 2010/Netflow/ISOT_Botnet.binetflow\")\n",
    "\n",
    "# Load dataset from it's path into the object\n",
    "pp.get_dataset()\n",
    "\n",
    "# Confirm it has been loaded\n",
    "print(pp.show_dataset_head())\n",
    "\n",
    "del pp \n",
    "\n",
    "print(\"DONE!!!!!\")"
   ]
  },
  {
   "cell_type": "code",
   "execution_count": null,
   "metadata": {},
   "outputs": [],
   "source": []
  }
 ],
 "metadata": {
  "kernelspec": {
   "display_name": "Python 3",
   "language": "python",
   "name": "python3"
  },
  "language_info": {
   "codemirror_mode": {
    "name": "ipython",
    "version": 3
   },
   "file_extension": ".py",
   "mimetype": "text/x-python",
   "name": "python",
   "nbconvert_exporter": "python",
   "pygments_lexer": "ipython3",
   "version": "3.7.4"
  }
 },
 "nbformat": 4,
 "nbformat_minor": 2
}

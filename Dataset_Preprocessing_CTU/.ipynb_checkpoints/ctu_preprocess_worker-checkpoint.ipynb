{
 "cells": [
  {
   "cell_type": "code",
   "execution_count": 2,
   "metadata": {
    "ExecuteTime": {
     "end_time": "2020-01-08T19:57:47.903209Z",
     "start_time": "2020-01-08T19:57:47.895202Z"
    }
   },
   "outputs": [],
   "source": [
    "# Weird jupyter-notebook behaviour in Windows Anaconda virtual env?\n",
    "# So this import is required in this way\n",
    "# In virtual env, 'pip install ipynb'\n",
    "from ipynb.fs.full.ctu_preprocessor import ctu_preprocessor\n",
    "\n",
    "dataset_path_list = [\"../../Datasets/CTU-13/Base/1.binetflow\",\n",
    "                    \"../../Datasets/CTU-13/Base/2.binetflow\",\n",
    "                    \"../../Datasets/CTU-13/Base/3.binetflow\",\n",
    "                    \"../../Datasets/CTU-13/Base/4.binetflow\",\n",
    "                    \"../../Datasets/CTU-13/Base/5.binetflow\",\n",
    "                    \"../../Datasets/CTU-13/Base/6.binetflow\",\n",
    "                    \"../../Datasets/CTU-13/Base/7.binetflow\",\n",
    "                    \"../../Datasets/CTU-13/Base/8.binetflow\",\n",
    "                    \"../../Datasets/CTU-13/Base/9.binetflow\",\n",
    "                    \"../../Datasets/CTU-13/Base/10.binetflow\",\n",
    "                    \"../../Datasets/CTU-13/Base/11.binetflow\",\n",
    "                    \"../../Datasets/CTU-13/Base/12.binetflow\",\n",
    "                    \"../../Datasets/CTU-13/Base/13.binetflow\"\n",
    "                    ]\n",
    "\n",
    "extended_dataset_path_list = [\"../../Datasets/CTU-13/Base_Extended/1.binetflow\",\n",
    "                              \"../../Datasets/CTU-13/Base_Extended/2.binetflow\",\n",
    "                              \"../../Datasets/CTU-13/Base_Extended/3.binetflow\",\n",
    "                              \"../../Datasets/CTU-13/Base_Extended/4.binetflow\",\n",
    "                              \"../../Datasets/CTU-13/Base_Extended/5.binetflow\",\n",
    "                              \"../../Datasets/CTU-13/Base_Extended/6.binetflow\",\n",
    "                              \"../../Datasets/CTU-13/Base_Extended/7.binetflow\",\n",
    "                              \"../../Datasets/CTU-13/Base_Extended/8.binetflow\",\n",
    "                              \"../../Datasets/CTU-13/Base_Extended/9.binetflow\",\n",
    "                              \"../../Datasets/CTU-13/Base_Extended/10.binetflow\",\n",
    "                              \"../../Datasets/CTU-13/Base_Extended/11.binetflow\",\n",
    "                              \"../../Datasets/CTU-13/Base_Extended/12.binetflow\",\n",
    "                              \"../../Datasets/CTU-13/Base_Extended/13.binetflow\"\n",
    "                             ]\n",
    "\n",
    "# Preprocess Worker function for the dataset_path_list\n",
    "def ctu_preprocess_worker(scenario_number):   \n",
    "    extended = False\n",
    "    index = scenario_number - 1\n",
    "    \n",
    "    # Create a new preprocessor object for the dataset file\n",
    "    pp = ctu_preprocessor(dataset_path_list[index])\n",
    "\n",
    "    # Load dataset into object's memory; as a Pandas Dataframe\n",
    "    pp.get_dataset()\n",
    "\n",
    "    # Fix labels\n",
    "    pp.fix_labels(extended)\n",
    "\n",
    "    # Write dataset with scenario_number\n",
    "    pp.write_fixed_dataset(scenario_number, extended)\n",
    "\n",
    "    # Delete preprocessor object\n",
    "    del pp\n",
    "    \n",
    "# Preprocess Worker function for the extended_dataset_path_list    \n",
    "def extended_ctu_preprocess_worker(scenario_number):\n",
    "    extended = True\n",
    "    index = scenario_number - 1\n",
    "    \n",
    "    # Create a new preprocessor object for the dataset file\n",
    "    pp = ctu_preprocessor(extended_dataset_path_list[index])\n",
    "\n",
    "    # Load dataset into object's memory; as a Pandas Dataframe\n",
    "    pp.get_dataset()\n",
    "\n",
    "    # Fix labels\n",
    "    pp.fix_labels(extended)\n",
    "\n",
    "    # Write dataset with scenario_number\n",
    "    pp.write_fixed_dataset(scenario_number, extended)\n",
    "    \n",
    "    # Delete preprocessor object\n",
    "    del pp"
   ]
  },
  {
   "cell_type": "code",
   "execution_count": null,
   "metadata": {},
   "outputs": [],
   "source": []
  },
  {
   "cell_type": "code",
   "execution_count": null,
   "metadata": {},
   "outputs": [],
   "source": []
  }
 ],
 "metadata": {
  "kernelspec": {
   "display_name": "Python 3",
   "language": "python",
   "name": "python3"
  },
  "language_info": {
   "codemirror_mode": {
    "name": "ipython",
    "version": 3
   },
   "file_extension": ".py",
   "mimetype": "text/x-python",
   "name": "python",
   "nbconvert_exporter": "python",
   "pygments_lexer": "ipython3",
   "version": "3.7.4"
  }
 },
 "nbformat": 4,
 "nbformat_minor": 2
}

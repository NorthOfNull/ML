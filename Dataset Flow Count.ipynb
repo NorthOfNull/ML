{
 "cells": [
  {
   "cell_type": "code",
   "execution_count": 1,
   "metadata": {
    "ExecuteTime": {
     "end_time": "2020-01-15T14:12:01.677823Z",
     "start_time": "2020-01-15T14:02:00.248516Z"
    }
   },
   "outputs": [
    {
     "name": "stderr",
     "output_type": "stream",
     "text": [
      "c:\\users\\asmarus\\anaconda3\\envs\\tensorflow-gpu\\lib\\site-packages\\numpy\\lib\\arraysetops.py:569: FutureWarning: elementwise comparison failed; returning scalar instead, but in the future will perform elementwise comparison\n",
      "  mask |= (ar1 == a)\n"
     ]
    },
    {
     "name": "stdout",
     "output_type": "stream",
     "text": [
      "Dataset =  ../Datasets/CTU-13/Pre-processed/1.csv\n",
      "Normal Flows =  2783675\n",
      "Botnet Flows =  40961 \n",
      "\n",
      "Dataset =  ../Datasets/CTU-13/Pre-processed/2.csv\n",
      "Normal Flows =  1787181\n",
      "Botnet Flows =  20941 \n",
      "\n",
      "Dataset =  ../Datasets/CTU-13/Pre-processed/3.csv\n",
      "Normal Flows =  4683816\n",
      "Botnet Flows =  26822 \n",
      "\n",
      "Dataset =  ../Datasets/CTU-13/Pre-processed/4.csv\n",
      "Normal Flows =  1118496\n",
      "Botnet Flows =  2580 \n",
      "\n",
      "Dataset =  ../Datasets/CTU-13/Pre-processed/5.csv\n",
      "Normal Flows =  128931\n",
      "Botnet Flows =  901 \n",
      "\n",
      "Dataset =  ../Datasets/CTU-13/Pre-processed/6.csv\n",
      "Normal Flows =  554289\n",
      "Botnet Flows =  4630 \n",
      "\n",
      "Dataset =  ../Datasets/CTU-13/Pre-processed/7.csv\n",
      "Normal Flows =  114014\n",
      "Botnet Flows =  63 \n",
      "\n",
      "Dataset =  ../Datasets/CTU-13/Pre-processed/8.csv\n",
      "Normal Flows =  2948103\n",
      "Botnet Flows =  6127 \n",
      "\n",
      "Dataset =  ../Datasets/CTU-13/Pre-processed/9.csv\n",
      "Normal Flows =  1902521\n",
      "Botnet Flows =  184987 \n",
      "\n",
      "Dataset =  ../Datasets/CTU-13/Pre-processed/10.csv\n",
      "Normal Flows =  1203439\n",
      "Botnet Flows =  106352 \n",
      "\n",
      "Dataset =  ../Datasets/CTU-13/Pre-processed/11.csv\n",
      "Normal Flows =  99087\n",
      "Botnet Flows =  8164 \n",
      "\n",
      "Dataset =  ../Datasets/CTU-13/Pre-processed/12.csv\n",
      "Normal Flows =  323303\n",
      "Botnet Flows =  2168 \n",
      "\n",
      "Dataset =  ../Datasets/CTU-13/Pre-processed/13.csv\n",
      "Normal Flows =  1885146\n",
      "Botnet Flows =  40003 \n",
      "\n",
      "Dataset =  ../Datasets/ISOT Botnet 2010/Pre-processed/isot_botnet.csv\n",
      "Normal Flows =  220893\n",
      "Botnet Flows =  115878 \n",
      "\n",
      "Dataset =  ../Datasets/ISCX Botnet 2014/Pre-processed/iscx_training.csv\n",
      "Normal Flows =  122502\n",
      "Botnet Flows =  194075 \n",
      "\n"
     ]
    }
   ],
   "source": [
    "# Counts number of Normal and Botnet flows present in the pre-processed datasets\n",
    "import kf_ml_lib as kf\n",
    "\n",
    "for dataset_path in kf.dataset_path_list:\n",
    "    dataset = kf.load_dataset(dataset_path)\n",
    "    normal_flows, botnet_flows = kf.get_flow_counts(dataset)\n",
    "    \n",
    "    print(\"Dataset = \", dataset_path)\n",
    "    print(\"Normal Flows = \", normal_flows)\n",
    "    print(\"Botnet Flows = \", botnet_flows, \"\\n\")\n",
    "    \n",
    "    del dataset"
   ]
  },
  {
   "cell_type": "code",
   "execution_count": null,
   "metadata": {},
   "outputs": [],
   "source": []
  }
 ],
 "metadata": {
  "kernelspec": {
   "display_name": "Python 3",
   "language": "python",
   "name": "python3"
  },
  "language_info": {
   "codemirror_mode": {
    "name": "ipython",
    "version": 3
   },
   "file_extension": ".py",
   "mimetype": "text/x-python",
   "name": "python",
   "nbconvert_exporter": "python",
   "pygments_lexer": "ipython3",
   "version": "3.7.4"
  }
 },
 "nbformat": 4,
 "nbformat_minor": 2
}

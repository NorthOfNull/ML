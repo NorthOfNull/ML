{
 "cells": [
  {
   "cell_type": "code",
   "execution_count": 31,
   "metadata": {
    "ExecuteTime": {
     "end_time": "2020-01-16T08:40:25.594201Z",
     "start_time": "2020-01-16T08:39:57.327500Z"
    }
   },
   "outputs": [
    {
     "name": "stderr",
     "output_type": "stream",
     "text": [
      "c:\\users\\asmarus\\anaconda3\\envs\\tensorflow-gpu\\lib\\site-packages\\ipykernel_launcher.py:32: DataConversionWarning: A column-vector y was passed when a 1d array was expected. Please change the shape of y to (n_samples,), for example using ravel().\n"
     ]
    },
    {
     "name": "stdout",
     "output_type": "stream",
     "text": [
      "Precision =  0.9789860099433461\n",
      "Recall =  0.9742549764123806\n",
      "F1-score =  0.9766147635524798\n"
     ]
    },
    {
     "data": {
      "text/plain": [
       "<sklearn.metrics._plot.precision_recall_curve.PrecisionRecallDisplay at 0x1c5bc45adc8>"
      ]
     },
     "execution_count": 31,
     "metadata": {},
     "output_type": "execute_result"
    },
    {
     "data": {
      "image/png": "[encoded data removed]",
      "text/plain": [
       "<Figure size 432x288 with 1 Axes>"
      ]
     },
     "metadata": {
      "needs_background": "light"
     },
     "output_type": "display_data"
    },
    {
     "data": {
      "image/png": "[encoded data removed]",
      "text/plain": [
       "<Figure size 432x288 with 1 Axes>"
      ]
     },
     "metadata": {
      "needs_background": "light"
     },
     "output_type": "display_data"
    }
   ],
   "source": [
    "import random\n",
    "import numpy as np\n",
    "import pandas as pd\n",
    "import kf_ml_lib as kf\n",
    "\n",
    "from deap import base\n",
    "from deap import creator\n",
    "from deap import tools\n",
    "from deap import algorithms\n",
    "\n",
    "from sklearn.tree import DecisionTreeClassifier\n",
    "from sklearn.ensemble import RandomForestClassifier\n",
    "from sklearn import metrics\n",
    "from sklearn.model_selection import train_test_split\n",
    " \n",
    "\n",
    "# Load, process and split dataset\n",
    "dataset = kf.load_dataset(\"../Datasets/ISOT Botnet 2010/Pre-processed/isot_botnet.csv\")\n",
    "X, y = kf.split_dataset(dataset, extended=False)\n",
    "\n",
    "y = np.split(y, 1)\n",
    "y = np.array(y)\n",
    "y = y.reshape(len(y[0]), 1)\n",
    "\n",
    "X_train, X_test, y_train, y_test = train_test_split(X, y, train_size=0.7, stratify=y)\n",
    "\n",
    "# Fit model to training data\n",
    "model = DecisionTreeClassifier()\n",
    "model = model.fit(X_train, y_train)\n",
    "\n",
    "rf = RandomForestClassifier()\n",
    "rf = rf.fit(X_train, y_train)\n",
    "\n",
    "\n",
    "# Make predictions on the test data\n",
    "preds = model.predict(X_test)\n",
    "\n",
    "# Evaluate model Precision, Recall and F1-Score performance\n",
    "precision = metrics.precision_score(y_test, preds, pos_label='Botnet')\n",
    "recall = metrics.recall_score(y_test, preds, pos_label='Botnet')\n",
    "f1_score = kf.calc_f1_score(precision, recall)\n",
    "\n",
    "print(\"Precision = \", precision)\n",
    "print(\"Recall = \", recall)\n",
    "print(\"F1-score = \", f1_score)\n",
    "\n",
    "metrics.plot_precision_recall_curve(model, X_test, y_test)\n",
    "metrics.plot_precision_recall_curve(rf, X_test, y_test)\n"
   ]
  },
  {
   "cell_type": "code",
   "execution_count": 22,
   "metadata": {
    "ExecuteTime": {
     "end_time": "2020-01-16T08:28:15.148385Z",
     "start_time": "2020-01-16T08:28:15.141404Z"
    }
   },
   "outputs": [
    {
     "name": "stdout",
     "output_type": "stream",
     "text": [
      "[['Botnet']\n",
      " ['Botnet']\n",
      " ['Botnet']\n",
      " ...\n",
      " ['Normal']\n",
      " ['Normal']\n",
      " ['Normal']]\n",
      "[['Botnet']\n",
      " ['Botnet']\n",
      " ['Botnet']\n",
      " ...\n",
      " ['Normal']\n",
      " ['Normal']\n",
      " ['Normal']]\n"
     ]
    }
   ],
   "source": [
    "print(y)\n",
    "\n",
    "y = np.split(y, 1)\n",
    "y = np.array(y)\n",
    "y = y.reshape(len(y[0]), 1)\n",
    "\n",
    "print(y)"
   ]
  },
  {
   "cell_type": "code",
   "execution_count": null,
   "metadata": {},
   "outputs": [],
   "source": []
  }
 ],
 "metadata": {
  "kernelspec": {
   "display_name": "Python 3",
   "language": "python",
   "name": "python3"
  },
  "language_info": {
   "codemirror_mode": {
    "name": "ipython",
    "version": 3
   },
   "file_extension": ".py",
   "mimetype": "text/x-python",
   "name": "python",
   "nbconvert_exporter": "python",
   "pygments_lexer": "ipython3",
   "version": "3.7.4"
  }
 },
 "nbformat": 4,
 "nbformat_minor": 2
}

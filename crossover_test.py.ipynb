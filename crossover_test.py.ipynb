{
 "cells": [
  {
   "cell_type": "code",
   "execution_count": 33,
   "metadata": {
    "ExecuteTime": {
     "end_time": "2020-03-29T12:39:50.426142Z",
     "start_time": "2020-03-29T12:39:50.414175Z"
    }
   },
   "outputs": [],
   "source": [
    "def kf_crossover(classifier, parent1, parent2):\n",
    "        # ML Classifiers       \n",
    "        if classifier == 'DecisionTreeClassifier' or classifier == 'RandomForestClassifier':\n",
    "            offspring1 = [parent1[0], parent1[1], parent1[2], parent2[3], parent2[4], parent2[5]]\n",
    "            offspring2 = [parent2[0], parent2[1], parent2[2], parent1[3], parent1[4], parent1[5]]\n",
    "        if classifier == 'KNeighborsClassifier':\n",
    "            offspring1 = [parent1[0], parent1[1], parent1[2], parent2[3], parent2[4]]\n",
    "            offspring2 = [parent2[0], parent2[1], parent2[2], parent1[3], parent1[4]]\n",
    "        if classifier == 'AdaBoostClassifier':\n",
    "            offspring1 = [parent1[0], parent1[1], parent2[2], parent2[3]]\n",
    "            offspring2 = [parent2[0], parent2[1], parent1[2], parent1[3]]\n",
    "        if classifier == 'LinearSVC':\n",
    "            offspring1 = [parent1[0], parent1[1], parent2[2]]\n",
    "            offspring2 = [parent2[0], parent2[1], parent1[2]]\n",
    "\n",
    "        # Keras Deep Learning FFNN\n",
    "        if classifier == 'FFNN':\n",
    "            offspring1 = [parent1[0], parent1[1], parent1[2], parent1[3], parent2[4], parent2[5], parent2[6]]\n",
    "            offspring2 = [parent2[0], parent2[1], parent2[2], parent2[3], parent1[4], parent1[5], parent1[6]]\n",
    "        \n",
    "        #print(\"Offspring1 = \", offspring1)\n",
    "        #print(\"Offspring2 = \", offspring2)\n",
    "        \n",
    "        return offspring1, offspring2\n",
    "    \n",
    "    \n",
    "def crossover(parent1, parent2):\n",
    "    chromosome_length = len(parent1)\n",
    "    offspring1 = []\n",
    "    offspring2 = []\n",
    "        \n",
    "    for gene in range(chromosome_length):\n",
    "        if(gene < (chromosome_length / 2)):\n",
    "            offspring1.append(parent1[gene])\n",
    "            offspring2.append(parent2[gene])\n",
    "        else:\n",
    "            offspring1.append(parent2[gene])\n",
    "            offspring2.append(parent1[gene])\n",
    "\n",
    "    return offspring1, offspring2"
   ]
  },
  {
   "cell_type": "code",
   "execution_count": 34,
   "metadata": {
    "ExecuteTime": {
     "end_time": "2020-03-29T12:39:50.560202Z",
     "start_time": "2020-03-29T12:39:50.554218Z"
    }
   },
   "outputs": [
    {
     "name": "stdout",
     "output_type": "stream",
     "text": [
      "[62, 'gini', 3]\n",
      "[185, 'entropy', 4]\n",
      "\n",
      "kf_crossover\n",
      "[62, 'gini', 4]\n",
      "[185, 'entropy', 3]\n",
      "crossover\n",
      "off 1 =  []\n",
      "off 2 =  []\n",
      "chromosome_length =  3\n",
      "off 1 =  [62, 'gini', 4]\n",
      "off 2 =  [185, 'entropy', 3]\n"
     ]
    }
   ],
   "source": [
    "# 8 \n",
    "chromosome1 = [62, 'gini', 3]\n",
    "chromosome2 = [185, 'entropy', 4] \n",
    "\n",
    "print(chromosome1)\n",
    "print(chromosome2)\n",
    "print(\"\")\n",
    "\n",
    "offspring1, offspring2 = kf_crossover('LinearSVC', chromosome1, chromosome2)\n",
    "print(\"kf_crossover\")\n",
    "print(offspring1)\n",
    "print(offspring2)\n",
    "\n",
    "\n",
    "print(\"crossover\")\n",
    "offspring1, offspring2 = crossover(chromosome1, chromosome2)\n",
    "\n"
   ]
  },
  {
   "cell_type": "code",
   "execution_count": null,
   "metadata": {},
   "outputs": [],
   "source": []
  }
 ],
 "metadata": {
  "kernelspec": {
   "display_name": "Python 3",
   "language": "python",
   "name": "python3"
  },
  "language_info": {
   "codemirror_mode": {
    "name": "ipython",
    "version": 3
   },
   "file_extension": ".py",
   "mimetype": "text/x-python",
   "name": "python",
   "nbconvert_exporter": "python",
   "pygments_lexer": "ipython3",
   "version": "3.7.4"
  }
 },
 "nbformat": 4,
 "nbformat_minor": 2
}

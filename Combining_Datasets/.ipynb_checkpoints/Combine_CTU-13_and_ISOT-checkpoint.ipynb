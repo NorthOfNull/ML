{
 "cells": [
  {
   "cell_type": "code",
   "execution_count": 1,
   "metadata": {
    "ExecuteTime": {
     "end_time": "2019-12-19T12:37:36.515248Z",
     "start_time": "2019-12-19T12:26:58.811309Z"
    }
   },
   "outputs": [
    {
     "name": "stdout",
     "output_type": "stream",
     "text": [
      "Verify consolidated CSV file : ../../Datasets/Final Datasets/training.csv\n"
     ]
    }
   ],
   "source": [
    "csv_header = 'ID,StartTime,Dur,Proto,SrcAddr,Sport,Dir,DstAddr,Dport,State,sTos,dTos,TotPkts,TotBytes,SrcBytes,Label'\n",
    "csv_out = '../../Datasets/Final Datasets/training.csv'\n",
    "\n",
    "csv_list = [\"../../Datasets/CTU-13/Pre-processed/1.csv\",\n",
    "            \"../../Datasets/CTU-13/Pre-processed/2.csv\",\n",
    "            \"../../Datasets/CTU-13/Pre-processed/3.csv\",\n",
    "            \"../../Datasets/CTU-13/Pre-processed/4.csv\",\n",
    "            \"../../Datasets/CTU-13/Pre-processed/5.csv\",\n",
    "            \"../../Datasets/CTU-13/Pre-processed/6.csv\",\n",
    "            \"../../Datasets/CTU-13/Pre-processed/7.csv\",\n",
    "            \"../../Datasets/CTU-13/Pre-processed/8.csv\",\n",
    "            \"../../Datasets/CTU-13/Pre-processed/9.csv\",\n",
    "            \"../../Datasets/CTU-13/Pre-processed/10.csv\",\n",
    "            \"../../Datasets/CTU-13/Pre-processed/11.csv\",\n",
    "            \"../../Datasets/CTU-13/Pre-processed/12.csv\",\n",
    "            \"../../Datasets/CTU-13/Pre-processed/13.csv\",\n",
    "            \"../../Datasets/ISOT Botnet 2010/Pre-processed/isot_botnet.csv\"\n",
    "            ]\n",
    "\n",
    "csv_merge = open(csv_out, 'w')\n",
    "csv_merge.write(csv_header)\n",
    "csv_merge.write('\\n')\n",
    "\n",
    "for file in csv_list:\n",
    "    csv_in = open(file)\n",
    "    \n",
    "    for line in csv_in:\n",
    "        if line.startswith(csv_header):\n",
    "            continue\n",
    "            \n",
    "        csv_merge.write(line)\n",
    "        \n",
    "    csv_in.close()\n",
    "\n",
    "csv_merge.close()\n"
   ]
  },
  {
   "cell_type": "code",
   "execution_count": null,
   "metadata": {
    "ExecuteTime": {
     "end_time": "2019-12-18T17:17:10.398117Z",
     "start_time": "2019-12-18T17:17:10.293233Z"
    }
   },
   "outputs": [],
   "source": [
    "\n"
   ]
  },
  {
   "cell_type": "code",
   "execution_count": 4,
   "metadata": {
    "ExecuteTime": {
     "end_time": "2019-12-19T13:01:30.979670Z",
     "start_time": "2019-12-19T13:01:09.305890Z"
    }
   },
   "outputs": [
    {
     "name": "stdout",
     "output_type": "stream",
     "text": [
      "ID,StartTime,Dur,Proto,SrcAddr,Sport,Dir,DstAddr,Dport,State,sTos,dTos,TotPkts,TotBytes,SrcBytes,Label\n",
      "\n",
      "\n",
      "Number of Netflows =  20313471\n",
      "\n",
      "Finished!!!\n",
      "Finished!!!\n",
      "Finished!!!\n"
     ]
    }
   ],
   "source": [
    "test = open(\"../../Datasets/Final Datasets/training.csv\")\n",
    "count = 0\n",
    "\n",
    "for line in test:\n",
    "    if \"ID\" in line:\n",
    "        print(line)\n",
    "        continue\n",
    "    count += 1\n",
    "    \n",
    "print(\"\")    \n",
    "print(\"Number of Netflows = \", count)\n",
    "print(\"\")\n",
    "print(\"Finished!!!\")\n",
    "print(\"Finished!!!\")\n",
    "print(\"Finished!!!\")\n",
    "\n",
    "test.close()"
   ]
  },
  {
   "cell_type": "code",
   "execution_count": null,
   "metadata": {},
   "outputs": [],
   "source": [
    "test = open(\"../../Datasets/Final Datasets/testing.csv)\n",
    "count = 0\n",
    "\n",
    "for line in test:\n",
    "    if \"ID\" in line:\n",
    "        print(line)\n",
    "        continue\n",
    "    count += 1\n",
    "    \n",
    "print(\"\")    \n",
    "print(\"Number of Netflows = \", count)\n",
    "print(\"\")\n",
    "print(\"Finished!!!\")\n",
    "print(\"Finished!!!\")\n",
    "print(\"Finished!!!\")\n",
    "\n",
    "test.close()"
   ]
  },
  {
   "cell_type": "code",
   "execution_count": null,
   "metadata": {},
   "outputs": [],
   "source": []
  },
  {
   "cell_type": "code",
   "execution_count": 1,
   "metadata": {
    "ExecuteTime": {
     "end_time": "2019-12-18T19:02:13.847423Z",
     "start_time": "2019-12-18T18:50:26.624517Z"
    },
    "scrolled": false
   },
   "outputs": [
    {
     "name": "stderr",
     "output_type": "stream",
     "text": [
      "C:\\Users\\Asmarus\\Anaconda3\\lib\\site-packages\\numpy\\lib\\arraysetops.py:569: FutureWarning: elementwise comparison failed; returning scalar instead, but in the future will perform elementwise comparison\n",
      "  mask |= (ar1 == a)\n"
     ]
    },
    {
     "name": "stdout",
     "output_type": "stream",
     "text": [
      "../../Datasets/CTU-13/Pre-processed/1.csv\n",
      "../../Datasets/CTU-13/Pre-processed/2.csv\n",
      "../../Datasets/CTU-13/Pre-processed/3.csv\n",
      "../../Datasets/CTU-13/Pre-processed/4.csv\n",
      "../../Datasets/CTU-13/Pre-processed/5.csv\n",
      "../../Datasets/CTU-13/Pre-processed/6.csv\n",
      "../../Datasets/CTU-13/Pre-processed/7.csv\n",
      "../../Datasets/CTU-13/Pre-processed/8.csv\n",
      "../../Datasets/CTU-13/Pre-processed/9.csv\n",
      "../../Datasets/CTU-13/Pre-processed/10.csv\n",
      "../../Datasets/CTU-13/Pre-processed/11.csv\n",
      "../../Datasets/CTU-13/Pre-processed/12.csv\n",
      "../../Datasets/CTU-13/Pre-processed/13.csv\n",
      "../../Datasets/ISOT Botnet 2010/Pre-processed/isot_botnet.csv\n",
      "\n",
      "(20313471, 15)\n",
      "\n",
      "                     StartTime       Dur Proto        SrcAddr  Sport    Dir  \\\n",
      "ID                                                                            \n",
      "0   2011/08/10 09:46:59.607825  1.026539   tcp  94.44.127.113   1577     ->   \n",
      "1   2011/08/10 09:47:00.634364  1.009595   tcp  94.44.127.113   1577     ->   \n",
      "2   2011/08/10 09:47:48.185538  3.056586   tcp   147.32.86.89   4768     ->   \n",
      "3   2011/08/10 09:47:48.230897  3.111769   tcp   147.32.86.89   4788     ->   \n",
      "4   2011/08/10 09:47:48.963351  3.083411   tcp   147.32.86.89   4850     ->   \n",
      "\n",
      "         DstAddr  Dport State  sTos  dTos  TotPkts  TotBytes  SrcBytes   Label  \n",
      "ID                                                                              \n",
      "0   147.32.84.59   6881  S_RA   0.0   0.0        4       276       156  Normal  \n",
      "1   147.32.84.59   6881  S_RA   0.0   0.0        4       276       156  Normal  \n",
      "2    77.75.73.33     80  SR_A   0.0   0.0        3       182       122  Normal  \n",
      "3    77.75.73.33     80  SR_A   0.0   0.0        3       182       122  Normal  \n",
      "4    77.75.73.33     80  SR_A   0.0   0.0        3       182       122  Normal  \n",
      "              StartTime       Dur Proto         SrcAddr  Sport    Dir  \\\n",
      "ID                                                                      \n",
      "336766  14:38:20.532216  0.269608   tcp   131.243.85.87   1701     ->   \n",
      "336767  14:38:20.793830  0.001102  icmp    128.3.161.76      8    <->   \n",
      "336768  14:38:21.152736  0.003725  icmp   128.3.162.146      8    <->   \n",
      "336769  14:38:21.363960  0.000147  icmp  131.243.84.193      8    <->   \n",
      "336770  14:38:22.298914  0.001601  icmp    128.3.161.46      8    <->   \n",
      "\n",
      "                DstAddr  Dport State  sTos  dTos  TotPkts  TotBytes  SrcBytes  \\\n",
      "ID                                                                              \n",
      "336766  143.178.212.139     80   FIN   0.0   0.0        8      1702      1166   \n",
      "336767   131.243.86.155  22343   ECO   0.0   0.0        2       120        60   \n",
      "336768   131.243.84.129      2   ECO   0.0   0.0        2       120        60   \n",
      "336769     131.243.84.1  64639   ECO   0.0   0.0        2       140        70   \n",
      "336770   131.243.87.132  22343   ECO   0.0   0.0        2       120        60   \n",
      "\n",
      "         Label  \n",
      "ID              \n",
      "336766  Normal  \n",
      "336767  Normal  \n",
      "336768  Normal  \n",
      "336769  Normal  \n",
      "336770  Normal  \n",
      "\n",
      "(20313471, 15)\n"
     ]
    }
   ],
   "source": [
    "# Combining CTU-13 and ISOT Datasets, ready for model training\n",
    "# with pandas DataFrames\n",
    "#\n",
    "\n",
    "# Imports\n",
    "import pandas as pd\n",
    "\n",
    "\n",
    "# Define dataset path lists\n",
    "dataset_path_list = [\"../../Datasets/CTU-13/Pre-processed/1.csv\",\n",
    "                     \"../../Datasets/CTU-13/Pre-processed/2.csv\",\n",
    "                     \"../../Datasets/CTU-13/Pre-processed/3.csv\",\n",
    "                     \"../../Datasets/CTU-13/Pre-processed/4.csv\",\n",
    "                     \"../../Datasets/CTU-13/Pre-processed/5.csv\",\n",
    "                     \"../../Datasets/CTU-13/Pre-processed/6.csv\",\n",
    "                     \"../../Datasets/CTU-13/Pre-processed/7.csv\",\n",
    "                     \"../../Datasets/CTU-13/Pre-processed/8.csv\",\n",
    "                     \"../../Datasets/CTU-13/Pre-processed/9.csv\",\n",
    "                     \"../../Datasets/CTU-13/Pre-processed/10.csv\",\n",
    "                     \"../../Datasets/CTU-13/Pre-processed/11.csv\",\n",
    "                     \"../../Datasets/CTU-13/Pre-processed/12.csv\",\n",
    "                     \"../../Datasets/CTU-13/Pre-processed/13.csv\",\n",
    "                     \"../../Datasets/ISOT Botnet 2010/Pre-processed/isot_botnet.csv\"\n",
    "                    ]\n",
    "\n",
    "# Empty array to load DataFrames into\n",
    "combined_dataset = []\n",
    "\n",
    "# Load datasets and append to combined_dataset DataFrame\n",
    "for dataset_path in dataset_path_list:\n",
    "    # Load dataset into DataFrame from csv file\n",
    "    file = pd.read_csv(dataset_path, index_col=0, engine='c')\n",
    "\n",
    "    print(dataset_path)\n",
    "    \n",
    "    # Append DataFrame to combined_dataset array\n",
    "    combined_dataset.append(file)    \n",
    "    \n",
    "# Concatenate list of DataFrames in combined_dataset into a single DataFrame\n",
    "combined_dataset = pd.concat(combined_dataset)\n",
    "    \n",
    "print(\"\")\n",
    "print(combined_dataset.shape)\n",
    "print(\"\")\n",
    "\n",
    "# Drop extra column that the DataFrame has created\n",
    "#combined_dataset = combined_dataset.drop(columns=['Unnamed: 0'], axis=1)\n",
    "\n",
    "# Rename DataFrame index column\n",
    "#combined_dataset = combined_dataset.rename(columns={'': 'ID'})\n",
    "\n",
    "print(combined_dataset.head())\n",
    "print(combined_dataset.tail())\n",
    "print(\"\")\n",
    "print(combined_dataset.shape)\n",
    "\n",
    "\n",
    "# Write combined_dataset to csv file\n",
    "combined_dataset[['StartTime', 'Dur', 'Proto', 'SrcAddr', 'Sport', 'Dir', 'DstAddr', 'Dport', 'State', 'sTos', 'dTos', 'TotPkts', 'TotBytes', 'SrcBytes', 'Label']].to_csv(\"../../Datasets/Final Datasets/training.csv\")\n",
    "\n",
    "# Cleanup\n",
    "del combined_dataset\n"
   ]
  },
  {
   "cell_type": "code",
   "execution_count": null,
   "metadata": {},
   "outputs": [],
   "source": []
  }
 ],
 "metadata": {
  "kernelspec": {
   "display_name": "Python 3",
   "language": "python",
   "name": "python3"
  },
  "language_info": {
   "codemirror_mode": {
    "name": "ipython",
    "version": 3
   },
   "file_extension": ".py",
   "mimetype": "text/x-python",
   "name": "python",
   "nbconvert_exporter": "python",
   "pygments_lexer": "ipython3",
   "version": "3.7.4"
  }
 },
 "nbformat": 4,
 "nbformat_minor": 2
}

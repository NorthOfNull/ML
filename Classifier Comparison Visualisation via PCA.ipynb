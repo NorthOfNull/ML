{
 "cells": [
  {
   "cell_type": "code",
   "execution_count": 6,
   "metadata": {
    "ExecuteTime": {
     "end_time": "2020-01-06T13:21:03.772074Z",
     "start_time": "2020-01-06T13:20:59.682790Z"
    }
   },
   "outputs": [
    {
     "name": "stdout",
     "output_type": "stream",
     "text": [
      "[[-256235.41366829  -51439.69976992]\n",
      " [-250974.41491207  -43085.80041239]\n",
      " [-256302.82524702  -51495.77111171]\n",
      " ...\n",
      " [-256299.51120085  -51437.83031295]\n",
      " [-256287.72417262  -51418.82861636]\n",
      " [-256299.51120085  -51437.83031297]]\n"
     ]
    },
    {
     "ename": "AttributeError",
     "evalue": "'numpy.ndarray' object has no attribute 'append'",
     "output_type": "error",
     "traceback": [
      "\u001b[1;31m---------------------------------------------------------------------------\u001b[0m",
      "\u001b[1;31mAttributeError\u001b[0m                            Traceback (most recent call last)",
      "\u001b[1;32m<ipython-input-6-1ec7844d3d32>\u001b[0m in \u001b[0;36m<module>\u001b[1;34m\u001b[0m\n\u001b[0;32m     40\u001b[0m \u001b[0mprint\u001b[0m\u001b[1;33m(\u001b[0m\u001b[0mX_pca\u001b[0m\u001b[1;33m)\u001b[0m\u001b[1;33m\u001b[0m\u001b[1;33m\u001b[0m\u001b[0m\n\u001b[0;32m     41\u001b[0m \u001b[1;32mfor\u001b[0m \u001b[0mi\u001b[0m\u001b[1;33m,\u001b[0m \u001b[0mitem\u001b[0m \u001b[1;32min\u001b[0m \u001b[0menumerate\u001b[0m\u001b[1;33m(\u001b[0m\u001b[0mX_pca\u001b[0m\u001b[1;33m)\u001b[0m\u001b[1;33m:\u001b[0m\u001b[1;33m\u001b[0m\u001b[1;33m\u001b[0m\u001b[0m\n\u001b[1;32m---> 42\u001b[1;33m     \u001b[0mitem\u001b[0m\u001b[1;33m.\u001b[0m\u001b[0mappend\u001b[0m\u001b[1;33m(\u001b[0m\u001b[0my\u001b[0m\u001b[1;33m[\u001b[0m\u001b[0mi\u001b[0m\u001b[1;33m]\u001b[0m\u001b[1;33m)\u001b[0m\u001b[1;33m\u001b[0m\u001b[1;33m\u001b[0m\u001b[0m\n\u001b[0m\u001b[0;32m     43\u001b[0m \u001b[1;33m\u001b[0m\u001b[0m\n\u001b[0;32m     44\u001b[0m \u001b[0mprint\u001b[0m\u001b[1;33m(\u001b[0m\u001b[0mX_pca\u001b[0m\u001b[1;33m)\u001b[0m\u001b[1;33m\u001b[0m\u001b[1;33m\u001b[0m\u001b[0m\n",
      "\u001b[1;31mAttributeError\u001b[0m: 'numpy.ndarray' object has no attribute 'append'"
     ]
    }
   ],
   "source": [
    "import kf_ml_lib as kf\n",
    "import matplotlib.pyplot as plt\n",
    "\n",
    "from sklearn.model_selection import train_test_split\n",
    "from sklearn.decomposition import PCA\n",
    "\n",
    "from sklearn.ensemble import RandomForestClassifier\n",
    "from sklearn.tree import DecisionTreeClassifier\n",
    "from sklearn.neighbors import KNeighborsClassifier\n",
    "from sklearn.svm import LinearSVC\n",
    "from sklearn.ensemble import AdaBoostClassifier\n",
    "from sklearn.neural_network import MLPClassifier\n",
    "\n",
    "classifiers = [RandomForestClassifier(),\n",
    "               DecisionTreeClassifier(),\n",
    "               KNeighborsClassifier(),\n",
    "               LinearSVC(),\n",
    "               AdaBoostClassifier(),\n",
    "               MLPClassifier()\n",
    "              ]\n",
    "\n",
    "# Setup and split dataset\n",
    "dataset = kf.load_dataset(\"../Datasets/ISOT Botnet 2010/Pre-processed/isot_botnet.csv\")\n",
    "\n",
    "for row in range(dataset.shape[0]):\n",
    "    if dataset.at[row, 'Label'] == 'Botnet':\n",
    "        dataset.at[row, 'Label'] = 'r'\n",
    "    else:\n",
    "        dataset.at[row, 'Label'] = 'g'\n",
    "\n",
    "X, y = kf.split_dataset(dataset)\n",
    "\n",
    "# Perform PCA\n",
    "pca = PCA(n_components=2)\n",
    "X_pca = pca.fit_transform(X)\n",
    "\n",
    "# Split PCA features and Labels\n",
    "X_train, X_test, y_train, y_test = train_test_split(X_pca, y, train_size=0.7)\n",
    "\n",
    "    \n",
    "# Visualise PCA Data\n",
    "for row, c in zip(X_pca, y):\n",
    "    plt.scatter(row[:7], row[18:24], c=c)\n",
    "\n",
    "plt.show()\n",
    "\n",
    "\n",
    "#for classifier in classifiers:\n",
    "#    classifier = classifier.fit(X_train, y_train)\n",
    "#    score = classifier.score(X_test, y_test)"
   ]
  },
  {
   "cell_type": "code",
   "execution_count": null,
   "metadata": {},
   "outputs": [],
   "source": []
  }
 ],
 "metadata": {
  "kernelspec": {
   "display_name": "Python 3",
   "language": "python",
   "name": "python3"
  }
 },
 "nbformat": 4,
 "nbformat_minor": 2
}
